{
 "cells": [
  {
   "cell_type": "raw",
   "metadata": {},
   "source": [
    "Problem Statement:\n",
    "    given dataset conatin the 51000+ records and 17 columns.Zomato user are the in bangaluru. so the information about the     all restaurants in bangaluru\n",
    "    using zomato or not.\n",
    "    data preprocessing, Exploratory Data Analysis, labelencoder,scaling the dataset\n",
    "    splitting the datset into train, test datasets as train_test_split and cross_validation\n",
    "    apply the model in train_test_split and cross_val_score also"
   ]
  },
  {
   "cell_type": "markdown",
   "metadata": {},
   "source": [
    "## Importing Liabraries"
   ]
  },
  {
   "cell_type": "code",
   "execution_count": 3,
   "metadata": {},
   "outputs": [],
   "source": [
    "import numpy as np\n",
    "import pandas as pd\n",
    "import matplotlib.pyplot as plt\n",
    "import seaborn as sns\n",
    "%matplotlib inline"
   ]
  },
  {
   "cell_type": "markdown",
   "metadata": {},
   "source": [
    "### Data Preprocessing"
   ]
  },
  {
   "cell_type": "code",
   "execution_count": 4,
   "metadata": {},
   "outputs": [
    {
     "data": {
      "text/html": [
       "<div>\n",
       "<style scoped>\n",
       "    .dataframe tbody tr th:only-of-type {\n",
       "        vertical-align: middle;\n",
       "    }\n",
       "\n",
       "    .dataframe tbody tr th {\n",
       "        vertical-align: top;\n",
       "    }\n",
       "\n",
       "    .dataframe thead th {\n",
       "        text-align: right;\n",
       "    }\n",
       "</style>\n",
       "<table border=\"1\" class=\"dataframe\">\n",
       "  <thead>\n",
       "    <tr style=\"text-align: right;\">\n",
       "      <th></th>\n",
       "      <th>url</th>\n",
       "      <th>address</th>\n",
       "      <th>name</th>\n",
       "      <th>online_order</th>\n",
       "      <th>book_table</th>\n",
       "      <th>rate</th>\n",
       "      <th>votes</th>\n",
       "      <th>phone</th>\n",
       "      <th>location</th>\n",
       "      <th>rest_type</th>\n",
       "      <th>dish_liked</th>\n",
       "      <th>cuisines</th>\n",
       "      <th>approx_cost(for two people)</th>\n",
       "      <th>reviews_list</th>\n",
       "      <th>menu_item</th>\n",
       "      <th>listed_in(type)</th>\n",
       "      <th>listed_in(city)</th>\n",
       "    </tr>\n",
       "  </thead>\n",
       "  <tbody>\n",
       "    <tr>\n",
       "      <th>0</th>\n",
       "      <td>https://www.zomato.com/bangalore/jalsa-banasha...</td>\n",
       "      <td>942, 21st Main Road, 2nd Stage, Banashankari, ...</td>\n",
       "      <td>Jalsa</td>\n",
       "      <td>Yes</td>\n",
       "      <td>Yes</td>\n",
       "      <td>4.1/5</td>\n",
       "      <td>775</td>\n",
       "      <td>080 42297555\\r\\n+91 9743772233</td>\n",
       "      <td>Banashankari</td>\n",
       "      <td>Casual Dining</td>\n",
       "      <td>Pasta, Lunch Buffet, Masala Papad, Paneer Laja...</td>\n",
       "      <td>North Indian, Mughlai, Chinese</td>\n",
       "      <td>800</td>\n",
       "      <td>[('Rated 4.0', 'RATED\\n  A beautiful place to ...</td>\n",
       "      <td>[]</td>\n",
       "      <td>Buffet</td>\n",
       "      <td>Banashankari</td>\n",
       "    </tr>\n",
       "    <tr>\n",
       "      <th>1</th>\n",
       "      <td>https://www.zomato.com/bangalore/spice-elephan...</td>\n",
       "      <td>2nd Floor, 80 Feet Road, Near Big Bazaar, 6th ...</td>\n",
       "      <td>Spice Elephant</td>\n",
       "      <td>Yes</td>\n",
       "      <td>No</td>\n",
       "      <td>4.1/5</td>\n",
       "      <td>787</td>\n",
       "      <td>080 41714161</td>\n",
       "      <td>Banashankari</td>\n",
       "      <td>Casual Dining</td>\n",
       "      <td>Momos, Lunch Buffet, Chocolate Nirvana, Thai G...</td>\n",
       "      <td>Chinese, North Indian, Thai</td>\n",
       "      <td>800</td>\n",
       "      <td>[('Rated 4.0', 'RATED\\n  Had been here for din...</td>\n",
       "      <td>[]</td>\n",
       "      <td>Buffet</td>\n",
       "      <td>Banashankari</td>\n",
       "    </tr>\n",
       "    <tr>\n",
       "      <th>2</th>\n",
       "      <td>https://www.zomato.com/SanchurroBangalore?cont...</td>\n",
       "      <td>1112, Next to KIMS Medical College, 17th Cross...</td>\n",
       "      <td>San Churro Cafe</td>\n",
       "      <td>Yes</td>\n",
       "      <td>No</td>\n",
       "      <td>3.8/5</td>\n",
       "      <td>918</td>\n",
       "      <td>+91 9663487993</td>\n",
       "      <td>Banashankari</td>\n",
       "      <td>Cafe, Casual Dining</td>\n",
       "      <td>Churros, Cannelloni, Minestrone Soup, Hot Choc...</td>\n",
       "      <td>Cafe, Mexican, Italian</td>\n",
       "      <td>800</td>\n",
       "      <td>[('Rated 3.0', \"RATED\\n  Ambience is not that ...</td>\n",
       "      <td>[]</td>\n",
       "      <td>Buffet</td>\n",
       "      <td>Banashankari</td>\n",
       "    </tr>\n",
       "  </tbody>\n",
       "</table>\n",
       "</div>"
      ],
      "text/plain": [
       "                                                 url  \\\n",
       "0  https://www.zomato.com/bangalore/jalsa-banasha...   \n",
       "1  https://www.zomato.com/bangalore/spice-elephan...   \n",
       "2  https://www.zomato.com/SanchurroBangalore?cont...   \n",
       "\n",
       "                                             address             name  \\\n",
       "0  942, 21st Main Road, 2nd Stage, Banashankari, ...            Jalsa   \n",
       "1  2nd Floor, 80 Feet Road, Near Big Bazaar, 6th ...   Spice Elephant   \n",
       "2  1112, Next to KIMS Medical College, 17th Cross...  San Churro Cafe   \n",
       "\n",
       "  online_order book_table   rate  votes                           phone  \\\n",
       "0          Yes        Yes  4.1/5    775  080 42297555\\r\\n+91 9743772233   \n",
       "1          Yes         No  4.1/5    787                    080 41714161   \n",
       "2          Yes         No  3.8/5    918                  +91 9663487993   \n",
       "\n",
       "       location            rest_type  \\\n",
       "0  Banashankari        Casual Dining   \n",
       "1  Banashankari        Casual Dining   \n",
       "2  Banashankari  Cafe, Casual Dining   \n",
       "\n",
       "                                          dish_liked  \\\n",
       "0  Pasta, Lunch Buffet, Masala Papad, Paneer Laja...   \n",
       "1  Momos, Lunch Buffet, Chocolate Nirvana, Thai G...   \n",
       "2  Churros, Cannelloni, Minestrone Soup, Hot Choc...   \n",
       "\n",
       "                         cuisines approx_cost(for two people)  \\\n",
       "0  North Indian, Mughlai, Chinese                         800   \n",
       "1     Chinese, North Indian, Thai                         800   \n",
       "2          Cafe, Mexican, Italian                         800   \n",
       "\n",
       "                                        reviews_list menu_item  \\\n",
       "0  [('Rated 4.0', 'RATED\\n  A beautiful place to ...        []   \n",
       "1  [('Rated 4.0', 'RATED\\n  Had been here for din...        []   \n",
       "2  [('Rated 3.0', \"RATED\\n  Ambience is not that ...        []   \n",
       "\n",
       "  listed_in(type) listed_in(city)  \n",
       "0          Buffet    Banashankari  \n",
       "1          Buffet    Banashankari  \n",
       "2          Buffet    Banashankari  "
      ]
     },
     "execution_count": 4,
     "metadata": {},
     "output_type": "execute_result"
    }
   ],
   "source": [
    "# read the .csv file \n",
    "df = pd.read_csv('zomato.csv')\n",
    "df[:3]"
   ]
  },
  {
   "cell_type": "markdown",
   "metadata": {},
   "source": [
    "#### Data information about the restaurant ratting in Bengaluru city\n",
    "##### 1.url :  Restaurants url link of zomato website\n",
    "##### 2.address : Specific restaurants address in bengaluru\n",
    "##### 3.name : Particular restaurant names\n",
    "##### 4.online_order : In that restaurant have online order facility or not\n",
    "##### 5.book_table : We can online order the booking table or not\n",
    "##### 6.rate : Ratting of the restaurant out of the 5\n",
    "##### 7.votes : Number of person giving the ratting on restaurant\n",
    "##### 8.phone : Phone number of the restaurant \n",
    "##### 9.location : Base location of the restaurant\n",
    "##### 10.rest_type : Is this the what the restaurant type\n",
    "##### 11.dish_liked : What is special in the restaurant and customer liked dish\n",
    "##### 12.cuisines : What kind of cuisines are in restaurant\n",
    "##### 13.approx_cost(for two people) : Approxmate price of the two persons order item.\n",
    "##### 14.reviews_list : Gives ratting and why they are giving review for reason also\n",
    "##### 15.menu_item : The restaurant contain the list of menu\n",
    "##### 16.listed_in(type) : Menu surving type\n",
    "##### 17.listed_in(city) : Location of the this type of restaurant"
   ]
  },
  {
   "cell_type": "code",
   "execution_count": 5,
   "metadata": {},
   "outputs": [
    {
     "data": {
      "text/plain": [
       "(51717, 17)"
      ]
     },
     "execution_count": 5,
     "metadata": {},
     "output_type": "execute_result"
    }
   ],
   "source": [
    "df.shape"
   ]
  },
  {
   "cell_type": "code",
   "execution_count": 6,
   "metadata": {},
   "outputs": [
    {
     "data": {
      "text/html": [
       "<div>\n",
       "<style scoped>\n",
       "    .dataframe tbody tr th:only-of-type {\n",
       "        vertical-align: middle;\n",
       "    }\n",
       "\n",
       "    .dataframe tbody tr th {\n",
       "        vertical-align: top;\n",
       "    }\n",
       "\n",
       "    .dataframe thead th {\n",
       "        text-align: right;\n",
       "    }\n",
       "</style>\n",
       "<table border=\"1\" class=\"dataframe\">\n",
       "  <thead>\n",
       "    <tr style=\"text-align: right;\">\n",
       "      <th></th>\n",
       "      <th>url</th>\n",
       "      <th>address</th>\n",
       "      <th>name</th>\n",
       "      <th>online_order</th>\n",
       "      <th>book_table</th>\n",
       "      <th>rate</th>\n",
       "      <th>votes</th>\n",
       "      <th>phone</th>\n",
       "      <th>location</th>\n",
       "      <th>rest_type</th>\n",
       "      <th>dish_liked</th>\n",
       "      <th>cuisines</th>\n",
       "      <th>cost</th>\n",
       "      <th>reviews_list</th>\n",
       "      <th>menu_item</th>\n",
       "      <th>listed_in(type)</th>\n",
       "      <th>listed_in(city)</th>\n",
       "    </tr>\n",
       "  </thead>\n",
       "  <tbody>\n",
       "    <tr>\n",
       "      <th>0</th>\n",
       "      <td>https://www.zomato.com/bangalore/jalsa-banasha...</td>\n",
       "      <td>942, 21st Main Road, 2nd Stage, Banashankari, ...</td>\n",
       "      <td>Jalsa</td>\n",
       "      <td>Yes</td>\n",
       "      <td>Yes</td>\n",
       "      <td>4.1/5</td>\n",
       "      <td>775</td>\n",
       "      <td>080 42297555\\r\\n+91 9743772233</td>\n",
       "      <td>Banashankari</td>\n",
       "      <td>Casual Dining</td>\n",
       "      <td>Pasta, Lunch Buffet, Masala Papad, Paneer Laja...</td>\n",
       "      <td>North Indian, Mughlai, Chinese</td>\n",
       "      <td>800</td>\n",
       "      <td>[('Rated 4.0', 'RATED\\n  A beautiful place to ...</td>\n",
       "      <td>[]</td>\n",
       "      <td>Buffet</td>\n",
       "      <td>Banashankari</td>\n",
       "    </tr>\n",
       "    <tr>\n",
       "      <th>1</th>\n",
       "      <td>https://www.zomato.com/bangalore/spice-elephan...</td>\n",
       "      <td>2nd Floor, 80 Feet Road, Near Big Bazaar, 6th ...</td>\n",
       "      <td>Spice Elephant</td>\n",
       "      <td>Yes</td>\n",
       "      <td>No</td>\n",
       "      <td>4.1/5</td>\n",
       "      <td>787</td>\n",
       "      <td>080 41714161</td>\n",
       "      <td>Banashankari</td>\n",
       "      <td>Casual Dining</td>\n",
       "      <td>Momos, Lunch Buffet, Chocolate Nirvana, Thai G...</td>\n",
       "      <td>Chinese, North Indian, Thai</td>\n",
       "      <td>800</td>\n",
       "      <td>[('Rated 4.0', 'RATED\\n  Had been here for din...</td>\n",
       "      <td>[]</td>\n",
       "      <td>Buffet</td>\n",
       "      <td>Banashankari</td>\n",
       "    </tr>\n",
       "  </tbody>\n",
       "</table>\n",
       "</div>"
      ],
      "text/plain": [
       "                                                 url  \\\n",
       "0  https://www.zomato.com/bangalore/jalsa-banasha...   \n",
       "1  https://www.zomato.com/bangalore/spice-elephan...   \n",
       "\n",
       "                                             address            name  \\\n",
       "0  942, 21st Main Road, 2nd Stage, Banashankari, ...           Jalsa   \n",
       "1  2nd Floor, 80 Feet Road, Near Big Bazaar, 6th ...  Spice Elephant   \n",
       "\n",
       "  online_order book_table   rate  votes                           phone  \\\n",
       "0          Yes        Yes  4.1/5    775  080 42297555\\r\\n+91 9743772233   \n",
       "1          Yes         No  4.1/5    787                    080 41714161   \n",
       "\n",
       "       location      rest_type  \\\n",
       "0  Banashankari  Casual Dining   \n",
       "1  Banashankari  Casual Dining   \n",
       "\n",
       "                                          dish_liked  \\\n",
       "0  Pasta, Lunch Buffet, Masala Papad, Paneer Laja...   \n",
       "1  Momos, Lunch Buffet, Chocolate Nirvana, Thai G...   \n",
       "\n",
       "                         cuisines cost  \\\n",
       "0  North Indian, Mughlai, Chinese  800   \n",
       "1     Chinese, North Indian, Thai  800   \n",
       "\n",
       "                                        reviews_list menu_item  \\\n",
       "0  [('Rated 4.0', 'RATED\\n  A beautiful place to ...        []   \n",
       "1  [('Rated 4.0', 'RATED\\n  Had been here for din...        []   \n",
       "\n",
       "  listed_in(type) listed_in(city)  \n",
       "0          Buffet    Banashankari  \n",
       "1          Buffet    Banashankari  "
      ]
     },
     "execution_count": 6,
     "metadata": {},
     "output_type": "execute_result"
    }
   ],
   "source": [
    "# we have hug data 51717 rows and 17 columns\n",
    "# some columns have unueval names so we are going to change the name of columns\n",
    "# approx_cost(for two people)\n",
    "\n",
    "df = df.rename(columns = {'approx_cost(for two people)':'cost'})\n",
    "df[:2]"
   ]
  },
  {
   "cell_type": "code",
   "execution_count": 7,
   "metadata": {},
   "outputs": [],
   "source": [
    "# Here the some column are no need, we are going to drop those columns directly\n",
    "# url, address, phone, dish_liked, reviews_list, city\n",
    "\n",
    "data = df.drop(['url', 'address', 'phone', 'dish_liked','reviews_list','listed_in(type)','listed_in(city)'],axis = 1)"
   ]
  },
  {
   "cell_type": "code",
   "execution_count": 8,
   "metadata": {},
   "outputs": [
    {
     "data": {
      "text/html": [
       "<div>\n",
       "<style scoped>\n",
       "    .dataframe tbody tr th:only-of-type {\n",
       "        vertical-align: middle;\n",
       "    }\n",
       "\n",
       "    .dataframe tbody tr th {\n",
       "        vertical-align: top;\n",
       "    }\n",
       "\n",
       "    .dataframe thead th {\n",
       "        text-align: right;\n",
       "    }\n",
       "</style>\n",
       "<table border=\"1\" class=\"dataframe\">\n",
       "  <thead>\n",
       "    <tr style=\"text-align: right;\">\n",
       "      <th></th>\n",
       "      <th>name</th>\n",
       "      <th>online_order</th>\n",
       "      <th>book_table</th>\n",
       "      <th>rate</th>\n",
       "      <th>votes</th>\n",
       "      <th>location</th>\n",
       "      <th>rest_type</th>\n",
       "      <th>cuisines</th>\n",
       "      <th>cost</th>\n",
       "      <th>menu_item</th>\n",
       "    </tr>\n",
       "  </thead>\n",
       "  <tbody>\n",
       "    <tr>\n",
       "      <th>0</th>\n",
       "      <td>Jalsa</td>\n",
       "      <td>Yes</td>\n",
       "      <td>Yes</td>\n",
       "      <td>4.1/5</td>\n",
       "      <td>775</td>\n",
       "      <td>Banashankari</td>\n",
       "      <td>Casual Dining</td>\n",
       "      <td>North Indian, Mughlai, Chinese</td>\n",
       "      <td>800</td>\n",
       "      <td>[]</td>\n",
       "    </tr>\n",
       "    <tr>\n",
       "      <th>1</th>\n",
       "      <td>Spice Elephant</td>\n",
       "      <td>Yes</td>\n",
       "      <td>No</td>\n",
       "      <td>4.1/5</td>\n",
       "      <td>787</td>\n",
       "      <td>Banashankari</td>\n",
       "      <td>Casual Dining</td>\n",
       "      <td>Chinese, North Indian, Thai</td>\n",
       "      <td>800</td>\n",
       "      <td>[]</td>\n",
       "    </tr>\n",
       "  </tbody>\n",
       "</table>\n",
       "</div>"
      ],
      "text/plain": [
       "             name online_order book_table   rate  votes      location  \\\n",
       "0           Jalsa          Yes        Yes  4.1/5    775  Banashankari   \n",
       "1  Spice Elephant          Yes         No  4.1/5    787  Banashankari   \n",
       "\n",
       "       rest_type                        cuisines cost menu_item  \n",
       "0  Casual Dining  North Indian, Mughlai, Chinese  800        []  \n",
       "1  Casual Dining     Chinese, North Indian, Thai  800        []  "
      ]
     },
     "execution_count": 8,
     "metadata": {},
     "output_type": "execute_result"
    }
   ],
   "source": [
    "data[:2]"
   ]
  },
  {
   "cell_type": "markdown",
   "metadata": {},
   "source": [
    "### checking the missing values"
   ]
  },
  {
   "cell_type": "code",
   "execution_count": 9,
   "metadata": {},
   "outputs": [
    {
     "data": {
      "text/plain": [
       "name               0\n",
       "online_order       0\n",
       "book_table         0\n",
       "rate            7775\n",
       "votes              0\n",
       "location          21\n",
       "rest_type        227\n",
       "cuisines          45\n",
       "cost             346\n",
       "menu_item          0\n",
       "dtype: int64"
      ]
     },
     "execution_count": 9,
     "metadata": {},
     "output_type": "execute_result"
    }
   ],
   "source": [
    "data.isnull().sum()  # lets drop the null values directly"
   ]
  },
  {
   "cell_type": "code",
   "execution_count": 10,
   "metadata": {},
   "outputs": [],
   "source": [
    "data.dropna(inplace = True)"
   ]
  },
  {
   "cell_type": "code",
   "execution_count": 11,
   "metadata": {},
   "outputs": [
    {
     "data": {
      "text/plain": [
       "name            0\n",
       "online_order    0\n",
       "book_table      0\n",
       "rate            0\n",
       "votes           0\n",
       "location        0\n",
       "rest_type       0\n",
       "cuisines        0\n",
       "cost            0\n",
       "menu_item       0\n",
       "dtype: int64"
      ]
     },
     "execution_count": 11,
     "metadata": {},
     "output_type": "execute_result"
    }
   ],
   "source": [
    "data.isnull().sum() # so no null values\n"
   ]
  },
  {
   "cell_type": "code",
   "execution_count": 12,
   "metadata": {},
   "outputs": [
    {
     "data": {
      "text/plain": [
       "(43533, 10)"
      ]
     },
     "execution_count": 12,
     "metadata": {},
     "output_type": "execute_result"
    }
   ],
   "source": [
    "data.shape"
   ]
  },
  {
   "cell_type": "code",
   "execution_count": 13,
   "metadata": {},
   "outputs": [
    {
     "data": {
      "text/html": [
       "<div>\n",
       "<style scoped>\n",
       "    .dataframe tbody tr th:only-of-type {\n",
       "        vertical-align: middle;\n",
       "    }\n",
       "\n",
       "    .dataframe tbody tr th {\n",
       "        vertical-align: top;\n",
       "    }\n",
       "\n",
       "    .dataframe thead th {\n",
       "        text-align: right;\n",
       "    }\n",
       "</style>\n",
       "<table border=\"1\" class=\"dataframe\">\n",
       "  <thead>\n",
       "    <tr style=\"text-align: right;\">\n",
       "      <th></th>\n",
       "      <th>name</th>\n",
       "      <th>online_order</th>\n",
       "      <th>book_table</th>\n",
       "      <th>rate</th>\n",
       "      <th>votes</th>\n",
       "      <th>location</th>\n",
       "      <th>rest_type</th>\n",
       "      <th>cuisines</th>\n",
       "      <th>cost</th>\n",
       "      <th>menu_item</th>\n",
       "    </tr>\n",
       "  </thead>\n",
       "  <tbody>\n",
       "    <tr>\n",
       "      <th>0</th>\n",
       "      <td>Jalsa</td>\n",
       "      <td>Yes</td>\n",
       "      <td>Yes</td>\n",
       "      <td>4.1/5</td>\n",
       "      <td>775</td>\n",
       "      <td>Banashankari</td>\n",
       "      <td>Casual Dining</td>\n",
       "      <td>North Indian, Mughlai, Chinese</td>\n",
       "      <td>800</td>\n",
       "      <td>[]</td>\n",
       "    </tr>\n",
       "    <tr>\n",
       "      <th>1</th>\n",
       "      <td>Spice Elephant</td>\n",
       "      <td>Yes</td>\n",
       "      <td>No</td>\n",
       "      <td>4.1/5</td>\n",
       "      <td>787</td>\n",
       "      <td>Banashankari</td>\n",
       "      <td>Casual Dining</td>\n",
       "      <td>Chinese, North Indian, Thai</td>\n",
       "      <td>800</td>\n",
       "      <td>[]</td>\n",
       "    </tr>\n",
       "    <tr>\n",
       "      <th>2</th>\n",
       "      <td>San Churro Cafe</td>\n",
       "      <td>Yes</td>\n",
       "      <td>No</td>\n",
       "      <td>3.8/5</td>\n",
       "      <td>918</td>\n",
       "      <td>Banashankari</td>\n",
       "      <td>Cafe, Casual Dining</td>\n",
       "      <td>Cafe, Mexican, Italian</td>\n",
       "      <td>800</td>\n",
       "      <td>[]</td>\n",
       "    </tr>\n",
       "  </tbody>\n",
       "</table>\n",
       "</div>"
      ],
      "text/plain": [
       "              name online_order book_table   rate  votes      location  \\\n",
       "0            Jalsa          Yes        Yes  4.1/5    775  Banashankari   \n",
       "1   Spice Elephant          Yes         No  4.1/5    787  Banashankari   \n",
       "2  San Churro Cafe          Yes         No  3.8/5    918  Banashankari   \n",
       "\n",
       "             rest_type                        cuisines cost menu_item  \n",
       "0        Casual Dining  North Indian, Mughlai, Chinese  800        []  \n",
       "1        Casual Dining     Chinese, North Indian, Thai  800        []  \n",
       "2  Cafe, Casual Dining          Cafe, Mexican, Italian  800        []  "
      ]
     },
     "execution_count": 13,
     "metadata": {},
     "output_type": "execute_result"
    }
   ],
   "source": [
    "data[:3]"
   ]
  },
  {
   "cell_type": "code",
   "execution_count": 14,
   "metadata": {},
   "outputs": [
    {
     "data": {
      "text/plain": [
       "name            object\n",
       "online_order    object\n",
       "book_table      object\n",
       "rate            object\n",
       "votes            int64\n",
       "location        object\n",
       "rest_type       object\n",
       "cuisines        object\n",
       "cost            object\n",
       "menu_item       object\n",
       "dtype: object"
      ]
     },
     "execution_count": 14,
     "metadata": {},
     "output_type": "execute_result"
    }
   ],
   "source": [
    "#lets check the datatypes\n",
    "data.dtypes"
   ]
  },
  {
   "cell_type": "code",
   "execution_count": 15,
   "metadata": {},
   "outputs": [],
   "source": [
    "# Here some column are categorical information so they are objective type\n",
    "# but some column are numerical value and showing objective type we need to change into numerical format"
   ]
  },
  {
   "cell_type": "code",
   "execution_count": 16,
   "metadata": {},
   "outputs": [
    {
     "data": {
      "text/plain": [
       "array(['4.1/5', '3.8/5', '3.7/5', '3.6/5', '4.6/5', '4.0/5', '4.2/5',\n",
       "       '3.9/5', '3.1/5', '3.0/5', '3.2/5', '3.3/5', '2.8/5', '4.4/5',\n",
       "       '4.3/5', 'NEW', '2.9/5', '3.5/5', '2.6/5', '3.8 /5', '3.4/5',\n",
       "       '4.5/5', '2.5/5', '2.7/5', '4.7/5', '2.4/5', '2.2/5', '2.3/5',\n",
       "       '3.4 /5', '-', '3.6 /5', '4.8/5', '3.9 /5', '4.2 /5', '4.0 /5',\n",
       "       '4.1 /5', '3.7 /5', '3.1 /5', '2.9 /5', '3.3 /5', '2.8 /5',\n",
       "       '3.5 /5', '2.7 /5', '2.5 /5', '3.2 /5', '2.6 /5', '4.5 /5',\n",
       "       '4.3 /5', '4.4 /5', '4.9/5', '2.1/5', '2.0/5', '1.8/5', '4.6 /5',\n",
       "       '4.9 /5', '3.0 /5', '4.8 /5', '2.3 /5', '4.7 /5', '2.4 /5',\n",
       "       '2.1 /5', '2.2 /5', '2.0 /5', '1.8 /5'], dtype=object)"
      ]
     },
     "execution_count": 16,
     "metadata": {},
     "output_type": "execute_result"
    }
   ],
   "source": [
    "data.rate.unique()\n",
    "#lets clean the each values ti remove the '/5' \n",
    "# and there is one value is 'NEW' and '-' so first remove that\n",
    "# and rate column in object type and this also convert into float format\n",
    "# rate, cost columns"
   ]
  },
  {
   "cell_type": "code",
   "execution_count": 17,
   "metadata": {},
   "outputs": [
    {
     "data": {
      "text/plain": [
       "array([4.1, 3.8, 3.7, 3.6, 4.6, 4. , 4.2, 3.9, 3.1, 3. , 3.2, 3.3, 2.8,\n",
       "       4.4, 4.3, 2.9, 3.5, 2.6, 3.4, 4.5, 2.5, 2.7, 4.7, 2.4, 2.2, 2.3,\n",
       "       4.8, 4.9, 2.1, 2. , 1.8])"
      ]
     },
     "execution_count": 17,
     "metadata": {},
     "output_type": "execute_result"
    }
   ],
   "source": [
    "data = data.loc[df['rate'] != 'NEW']\n",
    "data = data.loc[df['rate'] != '-']\n",
    "data['rate'] = data['rate'].apply(lambda x : x.replace('/5', ''))\n",
    "data['rate'] = data['rate'].astype(float)\n",
    "data.rate.unique()"
   ]
  },
  {
   "cell_type": "code",
   "execution_count": 18,
   "metadata": {},
   "outputs": [
    {
     "data": {
      "text/plain": [
       "array(['800', '300', '600', '700', '550', '500', '450', '650', '400',\n",
       "       '900', '200', '750', '150', '850', '100', '1,200', '350', '250',\n",
       "       '950', '1,000', '1,500', '1,300', '199', '1,100', '1,600', '230',\n",
       "       '130', '1,700', '1,350', '2,200', '1,400', '2,000', '1,800',\n",
       "       '1,900', '180', '330', '2,500', '2,100', '3,000', '2,800', '3,400',\n",
       "       '50', '40', '1,250', '3,500', '4,000', '2,400', '2,600', '1,450',\n",
       "       '70', '3,200', '240', '6,000', '1,050', '2,300', '4,100', '120',\n",
       "       '5,000', '3,700', '1,650', '2,700', '4,500', '80'], dtype=object)"
      ]
     },
     "execution_count": 18,
     "metadata": {},
     "output_type": "execute_result"
    }
   ],
   "source": [
    "data.cost.unique()\n",
    "# cost column in object so we need to do convert into float datatype\n",
    "# here the some value have '1,250' like this so we are remove that comma on middle"
   ]
  },
  {
   "cell_type": "code",
   "execution_count": 19,
   "metadata": {},
   "outputs": [],
   "source": [
    "data['cost'] = data['cost'].apply(lambda x: x.replace(',',''))\n",
    "data['cost'] = data['cost'].astype(float)"
   ]
  },
  {
   "cell_type": "code",
   "execution_count": 20,
   "metadata": {},
   "outputs": [
    {
     "data": {
      "text/plain": [
       "array([ 800.,  300.,  600.,  700.,  550.,  500.,  450.,  650.,  400.,\n",
       "        900.,  200.,  750.,  150.,  850.,  100., 1200.,  350.,  250.,\n",
       "        950., 1000., 1500., 1300.,  199., 1100., 1600.,  230.,  130.,\n",
       "       1700., 1350., 2200., 1400., 2000., 1800., 1900.,  180.,  330.,\n",
       "       2500., 2100., 3000., 2800., 3400.,   50.,   40., 1250., 3500.,\n",
       "       4000., 2400., 2600., 1450.,   70., 3200.,  240., 6000., 1050.,\n",
       "       2300., 4100.,  120., 5000., 3700., 1650., 2700., 4500.,   80.])"
      ]
     },
     "execution_count": 20,
     "metadata": {},
     "output_type": "execute_result"
    }
   ],
   "source": [
    "data.cost.unique()"
   ]
  },
  {
   "cell_type": "markdown",
   "metadata": {},
   "source": [
    "## value_counts()"
   ]
  },
  {
   "cell_type": "code",
   "execution_count": 21,
   "metadata": {},
   "outputs": [
    {
     "data": {
      "text/plain": [
       "Yes    27102\n",
       "No     14161\n",
       "Name: online_order, dtype: int64"
      ]
     },
     "execution_count": 21,
     "metadata": {},
     "output_type": "execute_result"
    }
   ],
   "source": [
    "data.online_order.value_counts()\n",
    "# online orders having restaurants most 28202 and 15331 restaurant are dont have online orders"
   ]
  },
  {
   "cell_type": "code",
   "execution_count": 22,
   "metadata": {},
   "outputs": [
    {
     "data": {
      "text/plain": [
       "No     34959\n",
       "Yes     6304\n",
       "Name: book_table, dtype: int64"
      ]
     },
     "execution_count": 22,
     "metadata": {},
     "output_type": "execute_result"
    }
   ],
   "source": [
    "data.book_table.value_counts()\n",
    "# booking table in online avaliable in 37100 and 6433 restaurant don't have booking tables"
   ]
  },
  {
   "cell_type": "code",
   "execution_count": 23,
   "metadata": {},
   "outputs": [
    {
     "data": {
      "text/plain": [
       "BTM                      3879\n",
       "Koramangala 5th Block    2297\n",
       "HSR                      1993\n",
       "Indiranagar              1800\n",
       "JP Nagar                 1710\n",
       "                         ... \n",
       "Yelahanka                   4\n",
       "West Bangalore              3\n",
       "Rajarajeshwari Nagar        2\n",
       "Peenya                      1\n",
       "Nagarbhavi                  1\n",
       "Name: location, Length: 92, dtype: int64"
      ]
     },
     "execution_count": 23,
     "metadata": {},
     "output_type": "execute_result"
    }
   ],
   "source": [
    "data.location.value_counts()\n",
    "# 92 different types of restaurant location are in bengaluru"
   ]
  },
  {
   "cell_type": "code",
   "execution_count": 24,
   "metadata": {},
   "outputs": [
    {
     "data": {
      "text/plain": [
       "Quick Bites                  13885\n",
       "Casual Dining                 9614\n",
       "Cafe                          3369\n",
       "Dessert Parlor                1850\n",
       "Delivery                      1667\n",
       "                             ...  \n",
       "Food Court, Beverage Shop        2\n",
       "Bakery, Food Court               2\n",
       "Dessert Parlor, Kiosk            2\n",
       "Quick Bites, Kiosk               1\n",
       "Bakery, Beverage Shop            1\n",
       "Name: rest_type, Length: 87, dtype: int64"
      ]
     },
     "execution_count": 24,
     "metadata": {},
     "output_type": "execute_result"
    }
   ],
   "source": [
    "data.rest_type.value_counts()\n",
    "# 87 types of restaurant type are in bengaluru"
   ]
  },
  {
   "cell_type": "markdown",
   "metadata": {},
   "source": [
    "## Exploration Data Analysis"
   ]
  },
  {
   "cell_type": "code",
   "execution_count": 25,
   "metadata": {},
   "outputs": [
    {
     "data": {
      "text/html": [
       "<div>\n",
       "<style scoped>\n",
       "    .dataframe tbody tr th:only-of-type {\n",
       "        vertical-align: middle;\n",
       "    }\n",
       "\n",
       "    .dataframe tbody tr th {\n",
       "        vertical-align: top;\n",
       "    }\n",
       "\n",
       "    .dataframe thead th {\n",
       "        text-align: right;\n",
       "    }\n",
       "</style>\n",
       "<table border=\"1\" class=\"dataframe\">\n",
       "  <thead>\n",
       "    <tr style=\"text-align: right;\">\n",
       "      <th></th>\n",
       "      <th>name</th>\n",
       "      <th>online_order</th>\n",
       "      <th>book_table</th>\n",
       "      <th>rate</th>\n",
       "      <th>votes</th>\n",
       "      <th>location</th>\n",
       "      <th>rest_type</th>\n",
       "      <th>cuisines</th>\n",
       "      <th>cost</th>\n",
       "      <th>menu_item</th>\n",
       "    </tr>\n",
       "  </thead>\n",
       "  <tbody>\n",
       "    <tr>\n",
       "      <th>0</th>\n",
       "      <td>Jalsa</td>\n",
       "      <td>Yes</td>\n",
       "      <td>Yes</td>\n",
       "      <td>4.1</td>\n",
       "      <td>775</td>\n",
       "      <td>Banashankari</td>\n",
       "      <td>Casual Dining</td>\n",
       "      <td>North Indian, Mughlai, Chinese</td>\n",
       "      <td>800.0</td>\n",
       "      <td>[]</td>\n",
       "    </tr>\n",
       "    <tr>\n",
       "      <th>1</th>\n",
       "      <td>Spice Elephant</td>\n",
       "      <td>Yes</td>\n",
       "      <td>No</td>\n",
       "      <td>4.1</td>\n",
       "      <td>787</td>\n",
       "      <td>Banashankari</td>\n",
       "      <td>Casual Dining</td>\n",
       "      <td>Chinese, North Indian, Thai</td>\n",
       "      <td>800.0</td>\n",
       "      <td>[]</td>\n",
       "    </tr>\n",
       "  </tbody>\n",
       "</table>\n",
       "</div>"
      ],
      "text/plain": [
       "             name online_order book_table  rate  votes      location  \\\n",
       "0           Jalsa          Yes        Yes   4.1    775  Banashankari   \n",
       "1  Spice Elephant          Yes         No   4.1    787  Banashankari   \n",
       "\n",
       "       rest_type                        cuisines   cost menu_item  \n",
       "0  Casual Dining  North Indian, Mughlai, Chinese  800.0        []  \n",
       "1  Casual Dining     Chinese, North Indian, Thai  800.0        []  "
      ]
     },
     "execution_count": 25,
     "metadata": {},
     "output_type": "execute_result"
    }
   ],
   "source": [
    "data[:2]"
   ]
  },
  {
   "cell_type": "raw",
   "metadata": {},
   "source": [
    "1.Which restaurant has highest outlets in Bangaluru?\n",
    "\n",
    "2.How many of the restuarants do not accept online orders?\n",
    "\n",
    "3.Whether the restaurants offer table booking ?\n",
    "\n",
    "4.Whether the restaurants deliver online or not?\n",
    "\n",
    "5.Rating distribution\n",
    "\n",
    "6.Distributions of cost for two people\n",
    "\n",
    "7.Which are the most common restaurant type in Banglore?\n",
    "\n",
    "8.Which are the most common cuisines in each locations?\n",
    "\n",
    "9.No. of restaurants in a particular location\n"
   ]
  },
  {
   "cell_type": "raw",
   "metadata": {},
   "source": [
    "1.Which restaurant has highest outlets in Bangaluru?\n",
    "A.outlets are means most of the people are using restaurant name in bangaluru\n",
    "  lets find first oulets and fit the best way in using plotting\n",
    "    "
   ]
  },
  {
   "cell_type": "code",
   "execution_count": 26,
   "metadata": {},
   "outputs": [
    {
     "data": {
      "text/plain": [
       "Cafe Coffee Day      86\n",
       "Onesta               85\n",
       "Empire Restaurant    69\n",
       "Five Star Chicken    68\n",
       "Kanti Sweets         68\n",
       "Just Bake            67\n",
       "Baskin Robbins       62\n",
       "KFC                  60\n",
       "Pizza Hut            60\n",
       "Petoo                60\n",
       "Subway               59\n",
       "McDonald's           59\n",
       "Domino's Pizza       59\n",
       "Smoor                59\n",
       "Polar Bear           58\n",
       "Name: name, dtype: int64"
      ]
     },
     "execution_count": 26,
     "metadata": {},
     "output_type": "execute_result"
    }
   ],
   "source": [
    "outlet = data['name'].value_counts()[:15]\n",
    "outlet"
   ]
  },
  {
   "cell_type": "code",
   "execution_count": 27,
   "metadata": {},
   "outputs": [
    {
     "name": "stderr",
     "output_type": "stream",
     "text": [
      "c:\\users\\shiva\\appdata\\local\\programs\\python\\python39\\lib\\site-packages\\seaborn\\_decorators.py:36: FutureWarning: Pass the following variables as keyword args: x, y. From version 0.12, the only valid positional argument will be `data`, and passing other arguments without an explicit keyword will result in an error or misinterpretation.\n",
      "  warnings.warn(\n"
     ]
    },
    {
     "data": {
      "text/plain": [
       "Text(0.5, 0, 'no of outlets')"
      ]
     },
     "execution_count": 27,
     "metadata": {},
     "output_type": "execute_result"
    },
    {
     "data": {
      "image/png": "[encoded data removed]",
      "text/plain": [
       "<Figure size 1080x432 with 1 Axes>"
      ]
     },
     "metadata": {
      "needs_background": "light"
     },
     "output_type": "display_data"
    }
   ],
   "source": [
    "#lets plotling the outlets\n",
    "import matplotlib.pyplot as plt\n",
    "import seaborn as sns\n",
    "plt.figure(figsize=(15,6))\n",
    "sns.barplot(outlet,outlet.index,palette='deep')\n",
    "plt.title('highest restaurant outlets in Bangaluru')\n",
    "plt.xlabel('no of outlets')"
   ]
  },
  {
   "cell_type": "markdown",
   "metadata": {},
   "source": [
    "##### observation:the highest outlets in restaurants are Cafe Coffee Day, Onesta, Empire Restaurant."
   ]
  },
  {
   "cell_type": "raw",
   "metadata": {},
   "source": [
    "2.How many of the restuarants do not accept online orders"
   ]
  },
  {
   "cell_type": "code",
   "execution_count": 28,
   "metadata": {},
   "outputs": [
    {
     "data": {
      "text/plain": [
       "Yes    27102\n",
       "No     14161\n",
       "Name: online_order, dtype: int64"
      ]
     },
     "execution_count": 28,
     "metadata": {},
     "output_type": "execute_result"
    }
   ],
   "source": [
    "x = data.online_order.value_counts()\n",
    "x  # in bangaluru 28202 restaurant are having online order fecilities, remaining 15331 restaurant are not this fecility\n",
    "# and 15331 restaurant are connected with zomato app "
   ]
  },
  {
   "cell_type": "code",
   "execution_count": 29,
   "metadata": {},
   "outputs": [
    {
     "data": {
      "image/png": "[encoded data removed]",
      "text/plain": [
       "<Figure size 1080x432 with 1 Axes>"
      ]
     },
     "metadata": {},
     "output_type": "display_data"
    }
   ],
   "source": [
    "#lets pie chart\n",
    "plt.figure(figsize=(15,6))\n",
    "plt.pie(x,explode=[0,0.1],labels=x.index,autopct='%0.2f%%')\n",
    "plt.legend()\n",
    "plt.show()"
   ]
  },
  {
   "cell_type": "markdown",
   "metadata": {},
   "source": [
    "#### in the above graph is 65.68% of data is restaurant are having online orders and remaining 34.32% have not online ordered restaurants"
   ]
  },
  {
   "cell_type": "raw",
   "metadata": {},
   "source": [
    "3.Whether the restaurants offer table booking ?"
   ]
  },
  {
   "cell_type": "code",
   "execution_count": 30,
   "metadata": {},
   "outputs": [
    {
     "data": {
      "text/plain": [
       "No     34959\n",
       "Yes     6304\n",
       "Name: book_table, dtype: int64"
      ]
     },
     "execution_count": 30,
     "metadata": {},
     "output_type": "execute_result"
    }
   ],
   "source": [
    "x = data['book_table'].value_counts()\n",
    "x   # 37100 restaurants are not providing the tables booking and 6433 restaurant are accept the table booking fecility"
   ]
  },
  {
   "cell_type": "code",
   "execution_count": 31,
   "metadata": {},
   "outputs": [
    {
     "data": {
      "text/plain": [
       "<matplotlib.legend.Legend at 0x2318da74730>"
      ]
     },
     "execution_count": 31,
     "metadata": {},
     "output_type": "execute_result"
    },
    {
     "data": {
      "image/png": "[encoded data removed]",
      "text/plain": [
       "<Figure size 1080x432 with 1 Axes>"
      ]
     },
     "metadata": {},
     "output_type": "display_data"
    }
   ],
   "source": [
    "# lets pie chart\n",
    "plt.figure(figsize=(15,6))\n",
    "plt.pie(x,explode=[0,0.1],labels=x.index,autopct='%0.2f%%')\n",
    "plt.legend()"
   ]
  },
  {
   "cell_type": "markdown",
   "metadata": {},
   "source": [
    "#### in the above graph is 84.72% of data is restaurant are having table booking orders and remaining 15.28% have not table bookin ordered restaurants"
   ]
  },
  {
   "cell_type": "raw",
   "metadata": {},
   "source": [
    "5.Rating distribution ?"
   ]
  },
  {
   "cell_type": "code",
   "execution_count": 32,
   "metadata": {},
   "outputs": [
    {
     "name": "stderr",
     "output_type": "stream",
     "text": [
      "c:\\users\\shiva\\appdata\\local\\programs\\python\\python39\\lib\\site-packages\\seaborn\\distributions.py:2557: FutureWarning: `distplot` is a deprecated function and will be removed in a future version. Please adapt your code to use either `displot` (a figure-level function with similar flexibility) or `histplot` (an axes-level function for histograms).\n",
      "  warnings.warn(msg, FutureWarning)\n"
     ]
    },
    {
     "data": {
      "text/plain": [
       "<AxesSubplot:xlabel='rate', ylabel='Density'>"
      ]
     },
     "execution_count": 32,
     "metadata": {},
     "output_type": "execute_result"
    },
    {
     "data": {
      "image/png": "[encoded data removed]",
      "text/plain": [
       "<Figure size 1080x576 with 1 Axes>"
      ]
     },
     "metadata": {
      "needs_background": "light"
     },
     "output_type": "display_data"
    }
   ],
   "source": [
    "#lets we using distibuted plot in ratting column\n",
    "\n",
    "plt.figure(figsize=(15,8))\n",
    "\n",
    "sns.distplot(data.rate,bins=20,kde=True)"
   ]
  },
  {
   "cell_type": "markdown",
   "metadata": {},
   "source": [
    "### observation : distibution plot is showing 3.5 to 4.0 ratting restaurant hug density"
   ]
  },
  {
   "cell_type": "raw",
   "metadata": {},
   "source": [
    "6.Distributions of cost for two people ?"
   ]
  },
  {
   "cell_type": "code",
   "execution_count": 33,
   "metadata": {},
   "outputs": [
    {
     "data": {
      "text/plain": [
       "400.0     5265\n",
       "300.0     5250\n",
       "500.0     4081\n",
       "600.0     3189\n",
       "200.0     3164\n",
       "250.0     2124\n",
       "800.0     2079\n",
       "700.0     1818\n",
       "1000.0    1515\n",
       "350.0     1351\n",
       "Name: cost, dtype: int64"
      ]
     },
     "execution_count": 33,
     "metadata": {},
     "output_type": "execute_result"
    }
   ],
   "source": [
    "data.cost.value_counts().iloc[:10]"
   ]
  },
  {
   "cell_type": "code",
   "execution_count": 34,
   "metadata": {},
   "outputs": [
    {
     "name": "stderr",
     "output_type": "stream",
     "text": [
      "c:\\users\\shiva\\appdata\\local\\programs\\python\\python39\\lib\\site-packages\\seaborn\\distributions.py:2557: FutureWarning: `distplot` is a deprecated function and will be removed in a future version. Please adapt your code to use either `displot` (a figure-level function with similar flexibility) or `histplot` (an axes-level function for histograms).\n",
      "  warnings.warn(msg, FutureWarning)\n"
     ]
    },
    {
     "data": {
      "text/plain": [
       "<AxesSubplot:xlabel='cost', ylabel='Density'>"
      ]
     },
     "execution_count": 34,
     "metadata": {},
     "output_type": "execute_result"
    },
    {
     "data": {
      "image/png": "[encoded data removed]",
      "text/plain": [
       "<Figure size 1080x576 with 1 Axes>"
      ]
     },
     "metadata": {
      "needs_background": "light"
     },
     "output_type": "display_data"
    }
   ],
   "source": [
    "#lets we using distibuted plot in cost column\n",
    "\n",
    "plt.figure(figsize=(15,8))\n",
    "\n",
    "sns.distplot(data.cost,bins=20,kde=True)"
   ]
  },
  {
   "cell_type": "markdown",
   "metadata": {},
   "source": [
    "### observation : cost of most of restaurant are for two person nearly 200 to 800 Rupess "
   ]
  },
  {
   "cell_type": "raw",
   "metadata": {},
   "source": [
    "7.Which are the most common restaurant type in Banglore?"
   ]
  },
  {
   "cell_type": "code",
   "execution_count": 35,
   "metadata": {},
   "outputs": [
    {
     "data": {
      "text/plain": [
       "Quick Bites                   13885\n",
       "Casual Dining                  9614\n",
       "Cafe                           3369\n",
       "Dessert Parlor                 1850\n",
       "Delivery                       1667\n",
       "Takeaway, Delivery             1279\n",
       "Casual Dining, Bar             1092\n",
       "Bakery                          704\n",
       "Beverage Shop                   640\n",
       "Bar                             640\n",
       "Food Court                      498\n",
       "Bar, Casual Dining              385\n",
       "Lounge                          381\n",
       "Pub                             352\n",
       "Sweet Shop                      346\n",
       "Fine Dining                     343\n",
       "Casual Dining, Cafe             310\n",
       "Beverage Shop, Quick Bites      239\n",
       "Pub, Casual Dining              236\n",
       "Bakery, Quick Bites             225\n",
       "Name: rest_type, dtype: int64"
      ]
     },
     "execution_count": 35,
     "metadata": {},
     "output_type": "execute_result"
    }
   ],
   "source": [
    "rest = data.rest_type.value_counts().iloc[:20]\n",
    "rest"
   ]
  },
  {
   "cell_type": "code",
   "execution_count": 36,
   "metadata": {},
   "outputs": [
    {
     "name": "stderr",
     "output_type": "stream",
     "text": [
      "c:\\users\\shiva\\appdata\\local\\programs\\python\\python39\\lib\\site-packages\\seaborn\\_decorators.py:36: FutureWarning: Pass the following variables as keyword args: x, y. From version 0.12, the only valid positional argument will be `data`, and passing other arguments without an explicit keyword will result in an error or misinterpretation.\n",
      "  warnings.warn(\n"
     ]
    },
    {
     "data": {
      "text/plain": [
       "Text(0.5, 0, 'no of restaurants')"
      ]
     },
     "execution_count": 36,
     "metadata": {},
     "output_type": "execute_result"
    },
    {
     "data": {
      "image/png": "[encoded data removed]",
      "text/plain": [
       "<Figure size 1296x576 with 1 Axes>"
      ]
     },
     "metadata": {
      "needs_background": "light"
     },
     "output_type": "display_data"
    }
   ],
   "source": [
    "plt.figure(figsize=(18,8))\n",
    "sns.barplot(rest,rest.index )\n",
    "plt.title('most common Restaurant Types in Bangaluru',size=20)\n",
    "plt.xlabel('no of restaurants',size=15)"
   ]
  },
  {
   "cell_type": "markdown",
   "metadata": {},
   "source": [
    "### observation : this are the 20 most common restaurant types in bangaluru. top is Quick Bites are in nearly 20000 restaurants"
   ]
  },
  {
   "cell_type": "raw",
   "metadata": {},
   "source": [
    "8.Which are the most common cuisines in each locations?"
   ]
  },
  {
   "cell_type": "code",
   "execution_count": 37,
   "metadata": {},
   "outputs": [
    {
     "data": {
      "text/plain": [
       "North Indian                           2108\n",
       "North Indian, Chinese                  1953\n",
       "South Indian                           1232\n",
       "Cafe                                    620\n",
       "Bakery, Desserts                        613\n",
       "Biryani                                 600\n",
       "South Indian, North Indian, Chinese     561\n",
       "Desserts                                545\n",
       "Fast Food                               514\n",
       "Chinese                                 410\n",
       "Name: cuisines, dtype: int64"
      ]
     },
     "execution_count": 37,
     "metadata": {},
     "output_type": "execute_result"
    }
   ],
   "source": [
    "cuisine = data.cuisines.value_counts().iloc[:10]\n",
    "\n",
    "cuisine"
   ]
  },
  {
   "cell_type": "code",
   "execution_count": 38,
   "metadata": {},
   "outputs": [
    {
     "name": "stderr",
     "output_type": "stream",
     "text": [
      "c:\\users\\shiva\\appdata\\local\\programs\\python\\python39\\lib\\site-packages\\seaborn\\_decorators.py:36: FutureWarning: Pass the following variables as keyword args: x, y. From version 0.12, the only valid positional argument will be `data`, and passing other arguments without an explicit keyword will result in an error or misinterpretation.\n",
      "  warnings.warn(\n"
     ]
    },
    {
     "data": {
      "text/plain": [
       "Text(0.5, 0, 'no of restaurants')"
      ]
     },
     "execution_count": 38,
     "metadata": {},
     "output_type": "execute_result"
    },
    {
     "data": {
      "image/png": "[encoded data removed]",
      "text/plain": [
       "<Figure size 1296x576 with 1 Axes>"
      ]
     },
     "metadata": {
      "needs_background": "light"
     },
     "output_type": "display_data"
    }
   ],
   "source": [
    "plt.figure(figsize=(18,8))\n",
    "sns.barplot(cuisine,cuisine.index )\n",
    "plt.title('most common Restaurant cuisine in Bangaluru',size=20)\n",
    "plt.xlabel('no of restaurants',size=15)"
   ]
  },
  {
   "cell_type": "markdown",
   "metadata": {},
   "source": [
    "### observation : North Indian cuisines are common for nearly 3000 restaurants.then South Indian cuisines are 2nd common for nearly 2400 restaurants. and top 10 cuisines are displaying."
   ]
  },
  {
   "cell_type": "raw",
   "metadata": {},
   "source": [
    "9.No. of restaurants in a particular location"
   ]
  },
  {
   "cell_type": "code",
   "execution_count": 39,
   "metadata": {},
   "outputs": [
    {
     "data": {
      "text/plain": [
       "BTM                      3879\n",
       "Koramangala 5th Block    2297\n",
       "HSR                      1993\n",
       "Indiranagar              1800\n",
       "JP Nagar                 1710\n",
       "                         ... \n",
       "Yelahanka                   4\n",
       "West Bangalore              3\n",
       "Rajarajeshwari Nagar        2\n",
       "Peenya                      1\n",
       "Nagarbhavi                  1\n",
       "Name: location, Length: 92, dtype: int64"
      ]
     },
     "execution_count": 39,
     "metadata": {},
     "output_type": "execute_result"
    }
   ],
   "source": [
    "data.location.value_counts()"
   ]
  },
  {
   "cell_type": "code",
   "execution_count": 40,
   "metadata": {},
   "outputs": [
    {
     "data": {
      "text/plain": [
       "Text(0.5, 1.0, 'location')"
      ]
     },
     "execution_count": 40,
     "metadata": {},
     "output_type": "execute_result"
    },
    {
     "data": {
      "image/png": "[encoded data removed]",
      "text/plain": [
       "<Figure size 1440x2160 with 1 Axes>"
      ]
     },
     "metadata": {
      "needs_background": "light"
     },
     "output_type": "display_data"
    }
   ],
   "source": [
    "# 92 location in bangaluru so can draw all the locations\n",
    "plt.figure(figsize = (20,30))\n",
    "sns.countplot(y=\"location\",data=data, palette = \"Set1\") \n",
    "plt.title('location')"
   ]
  },
  {
   "cell_type": "code",
   "execution_count": 41,
   "metadata": {},
   "outputs": [
    {
     "data": {
      "text/html": [
       "<div>\n",
       "<style scoped>\n",
       "    .dataframe tbody tr th:only-of-type {\n",
       "        vertical-align: middle;\n",
       "    }\n",
       "\n",
       "    .dataframe tbody tr th {\n",
       "        vertical-align: top;\n",
       "    }\n",
       "\n",
       "    .dataframe thead th {\n",
       "        text-align: right;\n",
       "    }\n",
       "</style>\n",
       "<table border=\"1\" class=\"dataframe\">\n",
       "  <thead>\n",
       "    <tr style=\"text-align: right;\">\n",
       "      <th></th>\n",
       "      <th>name</th>\n",
       "      <th>online_order</th>\n",
       "      <th>book_table</th>\n",
       "      <th>rate</th>\n",
       "      <th>votes</th>\n",
       "      <th>location</th>\n",
       "      <th>rest_type</th>\n",
       "      <th>cuisines</th>\n",
       "      <th>cost</th>\n",
       "      <th>menu_item</th>\n",
       "    </tr>\n",
       "  </thead>\n",
       "  <tbody>\n",
       "    <tr>\n",
       "      <th>0</th>\n",
       "      <td>Jalsa</td>\n",
       "      <td>Yes</td>\n",
       "      <td>Yes</td>\n",
       "      <td>4.1</td>\n",
       "      <td>775</td>\n",
       "      <td>Banashankari</td>\n",
       "      <td>Casual Dining</td>\n",
       "      <td>North Indian, Mughlai, Chinese</td>\n",
       "      <td>800.0</td>\n",
       "      <td>[]</td>\n",
       "    </tr>\n",
       "    <tr>\n",
       "      <th>1</th>\n",
       "      <td>Spice Elephant</td>\n",
       "      <td>Yes</td>\n",
       "      <td>No</td>\n",
       "      <td>4.1</td>\n",
       "      <td>787</td>\n",
       "      <td>Banashankari</td>\n",
       "      <td>Casual Dining</td>\n",
       "      <td>Chinese, North Indian, Thai</td>\n",
       "      <td>800.0</td>\n",
       "      <td>[]</td>\n",
       "    </tr>\n",
       "  </tbody>\n",
       "</table>\n",
       "</div>"
      ],
      "text/plain": [
       "             name online_order book_table  rate  votes      location  \\\n",
       "0           Jalsa          Yes        Yes   4.1    775  Banashankari   \n",
       "1  Spice Elephant          Yes         No   4.1    787  Banashankari   \n",
       "\n",
       "       rest_type                        cuisines   cost menu_item  \n",
       "0  Casual Dining  North Indian, Mughlai, Chinese  800.0        []  \n",
       "1  Casual Dining     Chinese, North Indian, Thai  800.0        []  "
      ]
     },
     "execution_count": 41,
     "metadata": {},
     "output_type": "execute_result"
    }
   ],
   "source": [
    "data[:2]\n"
   ]
  },
  {
   "cell_type": "code",
   "execution_count": 42,
   "metadata": {},
   "outputs": [
    {
     "data": {
      "text/plain": [
       "name             object\n",
       "online_order     object\n",
       "book_table       object\n",
       "rate            float64\n",
       "votes             int64\n",
       "location         object\n",
       "rest_type        object\n",
       "cuisines         object\n",
       "cost            float64\n",
       "menu_item        object\n",
       "dtype: object"
      ]
     },
     "execution_count": 42,
     "metadata": {},
     "output_type": "execute_result"
    }
   ],
   "source": [
    "data.dtypes"
   ]
  },
  {
   "cell_type": "markdown",
   "metadata": {},
   "source": [
    "## using the LabelEncoder()"
   ]
  },
  {
   "cell_type": "code",
   "execution_count": 45,
   "metadata": {},
   "outputs": [
    {
     "data": {
      "text/html": [
       "<div>\n",
       "<style scoped>\n",
       "    .dataframe tbody tr th:only-of-type {\n",
       "        vertical-align: middle;\n",
       "    }\n",
       "\n",
       "    .dataframe tbody tr th {\n",
       "        vertical-align: top;\n",
       "    }\n",
       "\n",
       "    .dataframe thead th {\n",
       "        text-align: right;\n",
       "    }\n",
       "</style>\n",
       "<table border=\"1\" class=\"dataframe\">\n",
       "  <thead>\n",
       "    <tr style=\"text-align: right;\">\n",
       "      <th></th>\n",
       "      <th>name</th>\n",
       "      <th>online_order</th>\n",
       "      <th>book_table</th>\n",
       "      <th>rate</th>\n",
       "      <th>votes</th>\n",
       "      <th>location</th>\n",
       "      <th>rest_type</th>\n",
       "      <th>cuisines</th>\n",
       "      <th>cost</th>\n",
       "      <th>menu_item</th>\n",
       "    </tr>\n",
       "  </thead>\n",
       "  <tbody>\n",
       "    <tr>\n",
       "      <th>0</th>\n",
       "      <td>Jalsa</td>\n",
       "      <td>1</td>\n",
       "      <td>1</td>\n",
       "      <td>4.1</td>\n",
       "      <td>775</td>\n",
       "      <td>Banashankari</td>\n",
       "      <td>Casual Dining</td>\n",
       "      <td>North Indian, Mughlai, Chinese</td>\n",
       "      <td>800.0</td>\n",
       "      <td>[]</td>\n",
       "    </tr>\n",
       "    <tr>\n",
       "      <th>1</th>\n",
       "      <td>Spice Elephant</td>\n",
       "      <td>1</td>\n",
       "      <td>0</td>\n",
       "      <td>4.1</td>\n",
       "      <td>787</td>\n",
       "      <td>Banashankari</td>\n",
       "      <td>Casual Dining</td>\n",
       "      <td>Chinese, North Indian, Thai</td>\n",
       "      <td>800.0</td>\n",
       "      <td>[]</td>\n",
       "    </tr>\n",
       "  </tbody>\n",
       "</table>\n",
       "</div>"
      ],
      "text/plain": [
       "             name  online_order  book_table  rate  votes      location  \\\n",
       "0           Jalsa             1           1   4.1    775  Banashankari   \n",
       "1  Spice Elephant             1           0   4.1    787  Banashankari   \n",
       "\n",
       "       rest_type                        cuisines   cost menu_item  \n",
       "0  Casual Dining  North Indian, Mughlai, Chinese  800.0        []  \n",
       "1  Casual Dining     Chinese, North Indian, Thai  800.0        []  "
      ]
     },
     "execution_count": 45,
     "metadata": {},
     "output_type": "execute_result"
    }
   ],
   "source": [
    "# LabelEncoder() in only ordinal data\n",
    "# in the dataset having online_order,book_table\n",
    "\n",
    "from sklearn.preprocessing import LabelEncoder\n",
    "le = LabelEncoder()\n",
    "\n",
    "data['online_order'] = le.fit_transform(data['online_order'])\n",
    "data['book_table'] = le.fit_transform(data['book_table'])\n",
    "data[:2]"
   ]
  },
  {
   "cell_type": "markdown",
   "metadata": {},
   "source": [
    "### i want to change the objected columns are into numerical and the how many time the particular value repaited\n",
    "### use to_dict() to create Dictonary of keys are names and values are no of repaited that name\n",
    "### then using map to assign the converted values in particular column"
   ]
  },
  {
   "cell_type": "code",
   "execution_count": 46,
   "metadata": {},
   "outputs": [
    {
     "data": {
      "text/plain": [
       "11"
      ]
     },
     "execution_count": 46,
     "metadata": {},
     "output_type": "execute_result"
    }
   ],
   "source": [
    "len(data[data['name'] == 'Jalsa'])"
   ]
  },
  {
   "cell_type": "code",
   "execution_count": 47,
   "metadata": {},
   "outputs": [
    {
     "data": {
      "text/plain": [
       "{'Cafe Coffee Day': 86,\n",
       " 'Onesta': 85,\n",
       " 'Empire Restaurant': 69,\n",
       " 'Five Star Chicken': 68,\n",
       " 'Kanti Sweets': 68,\n",
       " 'Just Bake': 67,\n",
       " 'Baskin Robbins': 62,\n",
       " 'KFC': 60,\n",
       " 'Pizza Hut': 60,\n",
       " 'Petoo': 60,\n",
       " 'Subway': 59,\n",
       " \"McDonald's\": 59,\n",
       " \"Domino's Pizza\": 59,\n",
       " 'Smoor': 59,\n",
       " 'Polar Bear': 58,\n",
       " 'Sweet Truth': 58,\n",
       " 'Faasos': 56,\n",
       " 'Beijing Bites': 56,\n",
       " 'Burger King': 55,\n",
       " 'Keventers': 54,\n",
       " \"Smally's Resto Cafe\": 54,\n",
       " 'Corner House Ice Cream': 52,\n",
       " 'Rolls On Wheels': 51,\n",
       " 'Ambur Hot Dum Biryani': 51,\n",
       " 'Frozen Bottle': 50,\n",
       " 'Pizza Stop': 50,\n",
       " 'A2B - Adyar Ananda Bhavan': 50,\n",
       " 'Chung Wah': 50,\n",
       " 'Lassi Shop': 49,\n",
       " 'Tata Cha': 49,\n",
       " 'California Burrito': 48,\n",
       " 'Chai Point': 48,\n",
       " 'Sweet Chariot': 48,\n",
       " \"Mani's Dum Biryani\": 47,\n",
       " 'eat.fit': 47,\n",
       " 'Goli Vada Pav No. 1': 46,\n",
       " 'Gelato Italiano': 46,\n",
       " 'Lakeview Milkbar': 45,\n",
       " 'Krispy Kreme': 45,\n",
       " 'Mainland China': 45,\n",
       " 'New Prashanth Hotel': 44,\n",
       " 'Hammered': 44,\n",
       " 'The French Loaf': 44,\n",
       " \"Chef Baker's\": 44,\n",
       " 'Truffles': 43,\n",
       " 'Oye Amritsar': 43,\n",
       " 'Leon Grill': 42,\n",
       " 'Ibaco': 42,\n",
       " 'Natural Ice Cream': 42,\n",
       " 'Warm Oven': 41,\n",
       " 'Barbeque Nation': 41,\n",
       " 'Haji Ali Juice Centre': 41,\n",
       " 'Khan Saheb Grills and Rolls': 41,\n",
       " 'The Belgian Waffle Co.': 41,\n",
       " 'Toscano': 40,\n",
       " 'Drunken Monkey': 40,\n",
       " 'Donne Biriyani Mane': 39,\n",
       " \"Sherlock's Pub\": 39,\n",
       " 'Kabab Magic': 39,\n",
       " 'Mudpipe Cafe': 39,\n",
       " \"Biggies Burger 'n' More\": 39,\n",
       " 'Starbucks': 39,\n",
       " 'Just Shawarma': 38,\n",
       " 'Hyderabad Biryaani House': 38,\n",
       " 'Stoner': 38,\n",
       " 'Sri Udupi Park': 38,\n",
       " 'Lassi Corner': 37,\n",
       " 'Mad Over Donuts': 37,\n",
       " 'Donne Biriyani House': 37,\n",
       " 'Sreeraj Lassi Bar': 37,\n",
       " 'Apsara Ice Cream': 37,\n",
       " 'Taco Bell': 36,\n",
       " 'XO Belgian Waffle': 36,\n",
       " 'SGS Non Veg - Gundu Pulav': 36,\n",
       " 'Meat And Eat': 36,\n",
       " 'Ande Ka Funda': 36,\n",
       " 'Ramji Chaiwale': 35,\n",
       " 'Sri Krishna Sagar': 35,\n",
       " 'Nandhana Palace': 35,\n",
       " 'WOW! Momo': 34,\n",
       " 'Cream Stone': 34,\n",
       " 'Crunch Pizzas': 34,\n",
       " 'Pathaan Sir': 33,\n",
       " '99 Pancakes': 33,\n",
       " 'Banjara Melting Pot': 33,\n",
       " 'Cafe Thulp': 33,\n",
       " 'Hatti Punjab Di': 33,\n",
       " 'Shanthi Sagar': 32,\n",
       " 'Juice Junction': 32,\n",
       " \"Gilly's Restobar\": 32,\n",
       " 'Chaai Resto': 32,\n",
       " 'Ooty Chocolates': 31,\n",
       " 'The Chocolate Room': 31,\n",
       " 'Shanmukha': 31,\n",
       " 'Imperial Restaurant': 31,\n",
       " 'Fresh Pressery Cafe': 31,\n",
       " 'Thalassery Restaurant': 31,\n",
       " 'Wangs Kitchen': 31,\n",
       " 'Meghana Foods': 30,\n",
       " 'Juice Shop': 30,\n",
       " \"Glen's Bakehouse\": 30,\n",
       " 'The Egg Factory': 30,\n",
       " 'Chaatimes': 30,\n",
       " 'Savoury Restaurant': 30,\n",
       " 'Behrouz Biryani': 30,\n",
       " 'Cookie Man': 30,\n",
       " 'Sagar Fast Food': 30,\n",
       " 'Firangi Bake': 30,\n",
       " 'Ovenstory Pizza': 30,\n",
       " 'Naati Manae': 29,\n",
       " 'Stoned Monkey': 29,\n",
       " 'Bangaliana': 29,\n",
       " 'Third Wave Coffee Roasters': 29,\n",
       " 'Bun Town': 29,\n",
       " 'Belgian Waffle Factory': 29,\n",
       " 'The Good Bowl': 28,\n",
       " 'Kaati Zone': 28,\n",
       " 'CakeZone': 28,\n",
       " 'BOX8- Desi Meals': 28,\n",
       " 'FreshMenu': 28,\n",
       " 'INDULGE by InnerChef': 28,\n",
       " 'Mast Kalandar': 28,\n",
       " \"Chung's Chinese Corner\": 28,\n",
       " 'Pasta Street': 28,\n",
       " 'Smoke - The Sizzler House': 27,\n",
       " 'Punjab Bistro': 27,\n",
       " 'Hatti Kaapi': 27,\n",
       " 'Daily Bread': 27,\n",
       " 'Brownie Heaven': 27,\n",
       " 'Gundappa Donne Biryani': 27,\n",
       " \"Calvin's\": 27,\n",
       " 'Kitchen On Table': 26,\n",
       " 'Rajdhani Thali Restaurant': 26,\n",
       " \"Chetty's Corner\": 26,\n",
       " 'Anand Sweets and Savouries': 26,\n",
       " 'Nagarjuna': 26,\n",
       " 'Oregano Pizzeria': 26,\n",
       " 'Peace Restaurant': 26,\n",
       " 'The Beer Cafe': 26,\n",
       " \"Vasudev Adiga's\": 26,\n",
       " \"Dunkin' Donuts\": 25,\n",
       " 'Infinitea Tea Room & Tea Store': 25,\n",
       " 'Happy Belly Bakes': 25,\n",
       " 'Waffle Stories': 25,\n",
       " \"Vinny's\": 25,\n",
       " 'Cafe Azzure': 25,\n",
       " 'Dolci Desserts': 25,\n",
       " '1522 - The Pub': 25,\n",
       " 'The Wok Shop': 25,\n",
       " 'Paratha Plaza': 25,\n",
       " 'Yomama!!': 25,\n",
       " 'H3O': 25,\n",
       " 'Mojo Pizza - 2X Toppings': 24,\n",
       " \"Pabrai's Fresh & Naturelle Icecreams\": 24,\n",
       " \"Watson's\": 24,\n",
       " 'Sangam Sweets': 24,\n",
       " 'Desi Vdesi': 24,\n",
       " 'Meenu Oota Da Maane': 24,\n",
       " 'Rahhams': 24,\n",
       " 'Shaadi Ki Biryani': 24,\n",
       " 'The Chocolate Heaven': 24,\n",
       " 'Nandhini Deluxe': 24,\n",
       " \"Thanco's Natural Ice Cream\": 24,\n",
       " 'Laddoos': 24,\n",
       " 'Andhra Ruchulu': 23,\n",
       " 'Little Italy': 23,\n",
       " 'Chai Galli': 23,\n",
       " 'The Grill House': 23,\n",
       " 'Chutney Chang': 23,\n",
       " 'Tiger Trail - Ramada Hotel': 23,\n",
       " 'The Biere Club': 23,\n",
       " 'New Shanthi Sagar': 23,\n",
       " 'Fabcafe': 23,\n",
       " 'The Yogisthaan Cafe': 23,\n",
       " 'Chickpet Donne Biryani House': 23,\n",
       " 'Cupcake Bliss': 23,\n",
       " 'Zeeshan': 23,\n",
       " '7 Plates': 23,\n",
       " 'Hyderabadi Biryani Hub': 23,\n",
       " 'Chaat Street': 23,\n",
       " 'Food And You': 23,\n",
       " 'Cafe Arabica': 23,\n",
       " 'Skylit - Citrus Hotels': 23,\n",
       " \"Harry's Bar + Cafe\": 23,\n",
       " 'Delicacy': 23,\n",
       " 'Karama Restaurant': 22,\n",
       " 'Bombay Kulfis': 22,\n",
       " 'The Hub - Ibis Hotel': 22,\n",
       " 'Coconut Grove': 22,\n",
       " 'Indiana Burgers': 22,\n",
       " \"Ammi's Biryani\": 22,\n",
       " 'ThrowBack - Pub & Dine': 22,\n",
       " 'Karachi Bakery': 22,\n",
       " 'Kritunga Restaurant': 22,\n",
       " 'Hoppipola': 22,\n",
       " 'BISO - Citrus Hotels': 22,\n",
       " 'Bangalore Agarwal Bhavan': 22,\n",
       " 'The Coffee Bean & Tea Leaf': 22,\n",
       " 'Suryawanshi': 22,\n",
       " 'Bootlegger': 22,\n",
       " 'Roll Over': 22,\n",
       " 'Maxpresso': 21,\n",
       " 'Green Theory': 21,\n",
       " 'Bonsouth': 21,\n",
       " 'Bistro Claytopia': 21,\n",
       " 'Roundup Cafe': 21,\n",
       " 'Sukh Sagar': 21,\n",
       " 'Eat Well': 21,\n",
       " 'Cilantro': 21,\n",
       " 'The Lobby Brew - Conrad Bengaluru': 21,\n",
       " 'House Of Commons': 21,\n",
       " 'Mangalore Lunch Home': 21,\n",
       " 'The Waffles Hut': 21,\n",
       " 'Tangerine - Davanam Sarovar Portico Suites': 21,\n",
       " 'Kobe Sizzlers': 20,\n",
       " 'Plan B': 20,\n",
       " 'Gobble Up Churros Cafe': 20,\n",
       " 'Punjabi Dhaba': 20,\n",
       " \"Anupam's Coast II Coast\": 20,\n",
       " \"Amma's Pastries\": 20,\n",
       " 'The Milkshake Theory': 20,\n",
       " 'Over The Top Terrace Lounge': 20,\n",
       " 'Cream Chemistry': 20,\n",
       " 'Bakers Town': 20,\n",
       " 'The Donut Baker': 20,\n",
       " 'Carnival de Goa': 20,\n",
       " 'Cafe Terra': 20,\n",
       " 'Shake It Off': 20,\n",
       " 'New Punjabi Hotel': 20,\n",
       " 'Oh! Calcutta': 20,\n",
       " 'Delite Chaat House': 20,\n",
       " 'Zee5 Loft': 20,\n",
       " \"Chetty's Coffee\": 20,\n",
       " 'Art of Delight': 20,\n",
       " 'Miss Momo': 20,\n",
       " 'Sri Ganesh Juice Junction': 20,\n",
       " 'Lot Like Crepes': 20,\n",
       " 'Anjappar': 20,\n",
       " 'Barista': 20,\n",
       " 'Laughing Llama Gastropub': 20,\n",
       " \"Hotel Tom's Restaurant\": 20,\n",
       " 'Ambur Star Briyani': 20,\n",
       " 'Donne Biryani House': 20,\n",
       " 'Enerjuvate Studio & Cafe': 20,\n",
       " 'Cafe @ Elanza': 20,\n",
       " 'Pappu Chaiwalla': 20,\n",
       " 'Sotally Tober': 20,\n",
       " \"Woody's\": 20,\n",
       " 'The Open Box': 19,\n",
       " 'Paradise': 19,\n",
       " \"AB's - Absolute Barbecues\": 19,\n",
       " 'Cuppa': 19,\n",
       " 'Abhiruchi Hotel': 19,\n",
       " 'Crawl Street': 19,\n",
       " 'Daawat Restaurant Bar & Pub': 19,\n",
       " 'Me And My Cake': 19,\n",
       " 'IceBreakers': 19,\n",
       " 'Cafe Cerrise': 19,\n",
       " 'Le Rock': 19,\n",
       " 'Adithya': 19,\n",
       " 'MISU': 19,\n",
       " \"What's In A Name\": 19,\n",
       " '20 Feet High': 19,\n",
       " 'Punjabi Times': 19,\n",
       " 'Siddique Kabab Centre': 19,\n",
       " 'The Tao Terraces': 19,\n",
       " 'Tayabbs': 19,\n",
       " 'Norsha Caffe': 19,\n",
       " 'Smaaash': 19,\n",
       " 'Tewari Bros Mithai Shoppie': 19,\n",
       " 'Al-Bek': 19,\n",
       " 'Nandhini Paradise': 19,\n",
       " 'Rotti Mane': 19,\n",
       " 'Pinxx - Royal Orchid Central': 19,\n",
       " 'Asia Kitchen By Mainland China': 19,\n",
       " 'Upahara Darshini': 19,\n",
       " 'Nossa Goa': 19,\n",
       " 'Bistro Oui': 19,\n",
       " 'Waffle Magic': 19,\n",
       " 'Buff Buffet Buff': 19,\n",
       " 'Indian Chicken Biryani Point': 19,\n",
       " 'Shawarma Inc': 19,\n",
       " 'Vijayalakshmi Veg': 19,\n",
       " 'Madeena Hotel': 19,\n",
       " 'Bansuri Sweets': 18,\n",
       " 'Peppa Zzing': 18,\n",
       " 'Cold Stone Creamery': 18,\n",
       " 'Healthie': 18,\n",
       " 'Hari Super Sandwich': 18,\n",
       " 'Kerala Mess': 18,\n",
       " 'Cafe Kaara': 18,\n",
       " 'Cafe 221B': 18,\n",
       " 'Cafe Imroze': 18,\n",
       " 'Momoz': 18,\n",
       " 'The Culinarium': 18,\n",
       " 'Hunan': 18,\n",
       " 'Bhaiyaji Food Court': 18,\n",
       " 'YumYumDilli': 18,\n",
       " 'Juicemaker': 18,\n",
       " \"Fatso's\": 18,\n",
       " 'Red Onion': 18,\n",
       " 'The Black Pearl': 18,\n",
       " 'Bathinda Junction': 18,\n",
       " 'RockSalt': 18,\n",
       " 'Pot Biryani': 18,\n",
       " 'Invitation Bar & Restaurant': 18,\n",
       " 'Havmor': 18,\n",
       " 'Kabab Souq': 18,\n",
       " 'Barbeque Delight': 18,\n",
       " 'Baba Da Dhaba': 18,\n",
       " 'Marzipan Cafe & Bakery': 18,\n",
       " 'Fava': 18,\n",
       " 'On The Nose': 18,\n",
       " 'Skoolroom': 18,\n",
       " 'Donne Biryani Mane': 17,\n",
       " \"Wolf'ish\": 17,\n",
       " 'Konark Vegetarian Restaurant': 17,\n",
       " 'TRIGEREATO': 17,\n",
       " 'Ging - Royal Orchid Central': 17,\n",
       " 'Momo Rice Noodles': 17,\n",
       " 'Deja Vu Resto Bar': 17,\n",
       " 'Chels Cafe': 17,\n",
       " 'Smokie Brownie': 17,\n",
       " 'Zodiac - Fortune Select JP Cosmos Hotel': 17,\n",
       " 'Amber Rush Restobar': 17,\n",
       " 'The Paramount Hotel': 17,\n",
       " 'YumYumSouth': 17,\n",
       " 'Panchavati Gaurav Thali': 17,\n",
       " 'NoLimmits Lounge and Club': 17,\n",
       " 'Tempteys': 17,\n",
       " 'Bombay Kulfi': 17,\n",
       " 'Fish Chain': 17,\n",
       " 'UBQ by Barbeque Nation': 17,\n",
       " 'Thalis Of India': 17,\n",
       " 'Nammura Donne Biriyani': 17,\n",
       " \"Dadi's Dum Biryani\": 17,\n",
       " 'Mayur': 17,\n",
       " 'Munchies': 17,\n",
       " 'New Udupi Upahar': 17,\n",
       " 'InnerChef': 17,\n",
       " 'Cafe Hush': 17,\n",
       " 'World In A Bowl': 17,\n",
       " 'Bon Sante': 17,\n",
       " 'Tandoor Hut': 17,\n",
       " 'Tipsy Bull - The Bar Exchange': 17,\n",
       " 'Sree Krishna Kafe': 17,\n",
       " 'Kettle & Kegs': 17,\n",
       " 'Rasovara': 17,\n",
       " 'Anda Ka Funda': 17,\n",
       " 'Tarbouche': 17,\n",
       " 'Allana Kabab': 17,\n",
       " 'Retro Lounge Bar': 16,\n",
       " 'Barleyz': 16,\n",
       " 'Bread and Circus': 16,\n",
       " 'Sultans of Spice': 16,\n",
       " \"Kapoor's Cafe\": 16,\n",
       " 'Nuts Over Salads Cafe': 16,\n",
       " 'Loveshack': 16,\n",
       " 'Arya Bhavan Sweets': 16,\n",
       " 'Shanghai Times': 16,\n",
       " 'Smoke House Deli': 16,\n",
       " 'Drunkling - Sizzlers and Pub': 16,\n",
       " 'Desi Bites': 16,\n",
       " 'Mr. Beans - Home Cafe': 16,\n",
       " 'Sri Krishna Kitchen': 16,\n",
       " 'Udupi Upachar': 16,\n",
       " 'New Udupi Grand': 16,\n",
       " \"Cafe D'hide\": 16,\n",
       " 'Chulha Chauki Da Dhaba': 16,\n",
       " 'The Oriental Spice - Ashraya Hotel': 16,\n",
       " 'Shaap': 16,\n",
       " 'Billionaires Cafe': 16,\n",
       " 'Vietnamese Kitchen': 16,\n",
       " 'Zaica Dine & Wine': 16,\n",
       " 'Biriyani Zone': 16,\n",
       " 'Juicy Momos': 16,\n",
       " 'Black Cup Cafe': 16,\n",
       " 'Savoury - Sea Shell Restaurant': 16,\n",
       " 'Savi Sagar': 16,\n",
       " \"Jimi's Beer Cafe\": 16,\n",
       " 'The London Shakes': 16,\n",
       " 'BLOW': 16,\n",
       " 'Moriz Restaurant': 16,\n",
       " 'Tunday Kababi': 16,\n",
       " 'Mad Over Biryani': 16,\n",
       " '1Q1': 16,\n",
       " 'Kulfi & More': 16,\n",
       " 'Cafe Velvette': 16,\n",
       " \"3B's - Buddies, Bar & Barbecues\": 16,\n",
       " 'Paisa Vasool': 16,\n",
       " 'YORK St.': 16,\n",
       " 'Funky Punjab': 16,\n",
       " 'Double Decker': 16,\n",
       " 'Bangalore Masala House': 16,\n",
       " 'Samosa Singh': 16,\n",
       " 'Cafe Graffiters': 16,\n",
       " 'MM Bar & Restaurant': 16,\n",
       " 'Tree Top': 16,\n",
       " 'Bangalore Pub Exchange': 16,\n",
       " 'Koramangala Social': 16,\n",
       " 'Brooks and Bonds Brewery': 16,\n",
       " 'Banana Beach Bar': 16,\n",
       " 'Tibbs Frankie': 16,\n",
       " 'Driven Cafe': 16,\n",
       " 'Xtreme Sports Bar': 16,\n",
       " 'Kaulige Millet Corner': 16,\n",
       " 'Mimansa @ Foxtrot': 16,\n",
       " 'Soup Station': 16,\n",
       " \"Sunny's\": 16,\n",
       " 'Cafe Medley': 16,\n",
       " 'Kargeens': 16,\n",
       " '154 Breakfast Club': 16,\n",
       " 'WTF': 16,\n",
       " 'Ayda Persian Kitchen': 16,\n",
       " 'Sri Krishna Sweets': 16,\n",
       " 'Amande Patisserie': 16,\n",
       " 'Salt - Indian Restaurant Bar & Grill': 16,\n",
       " 'Parika Multicuisine Restaurant': 16,\n",
       " \"Reddy's Restaurant\": 16,\n",
       " 'Dice N Dine': 16,\n",
       " 'WYT RestroPub': 16,\n",
       " 'Ascharya Hotel': 16,\n",
       " 'Shiv Sagar': 15,\n",
       " 'GMT - Gelateria Montecatini Terme': 15,\n",
       " 'Trick Or Treat': 15,\n",
       " 'Breaktime Brew': 15,\n",
       " 'Nithyothsav - Hotel Ramanashree': 15,\n",
       " 'XOOX Brewmill': 15,\n",
       " 'Japan Travel Cafe Azuki': 15,\n",
       " 'Little Green Cafe': 15,\n",
       " 'Happy Brew': 15,\n",
       " 'Cake Box': 15,\n",
       " 'Foxtrot - House of Subculture': 15,\n",
       " 'The Flying Squirrel': 15,\n",
       " 'Litti Twist': 15,\n",
       " 'Cake Dilim': 15,\n",
       " \"The Vacationer's Cafe\": 15,\n",
       " 'Hashtag Cafe': 15,\n",
       " \"Koshy's\": 15,\n",
       " 'Eagles Pizza': 15,\n",
       " 'Alchemy - The Chancery Pavilion': 15,\n",
       " 'Chai Ki Tapri': 15,\n",
       " 'Stories': 15,\n",
       " 'Desi Dhaba': 15,\n",
       " 'FrostBite': 15,\n",
       " 'Fill N Chill Resto Bar & Pub': 15,\n",
       " 'Classic Shop': 15,\n",
       " 'Flavors of India': 15,\n",
       " 'Mama Mia!': 15,\n",
       " 'Canopy': 15,\n",
       " 'The White Room - Coffee & Kitchen': 15,\n",
       " 'Sixth Avenue Cafe And Patisserie': 15,\n",
       " 'New Surya Sweets & Snacks': 15,\n",
       " 'Juice Junction Food Court': 15,\n",
       " 'Foodhall': 15,\n",
       " 'Chianti': 15,\n",
       " 'Tea and Wine Lounge': 15,\n",
       " 'Dyu Art Cafe': 15,\n",
       " 'Biergarten': 15,\n",
       " 'Om Made Cafe': 15,\n",
       " 'Ebony': 15,\n",
       " 'Aaha Andhra': 15,\n",
       " 'China Down Town': 15,\n",
       " 'A Hole Lotta Love Cafe': 15,\n",
       " 'Cafe Treat - The Pride Hotel': 15,\n",
       " 'Xpress Chai': 15,\n",
       " 'China Pearl': 15,\n",
       " 'Krishna Sagar': 15,\n",
       " 'Navya Foods': 15,\n",
       " 'Chowpatty': 15,\n",
       " 'Nite Out': 15,\n",
       " 'Parathe Wali Gali': 15,\n",
       " 'Kabab Ghar': 15,\n",
       " 'Bhojohori Manna': 15,\n",
       " 'Cafe Mangii': 15,\n",
       " 'The Yellow Tuk-Tuk Cafe': 15,\n",
       " 'Aqua - The Park Bangalore': 15,\n",
       " 'Fetchpod Cafe': 15,\n",
       " 'Bombay Sandwich Company': 15,\n",
       " 'The Boozy Griffin': 15,\n",
       " 'Sher-E-Punjab': 15,\n",
       " 'Tella Tales': 15,\n",
       " 'The ThickShake Factory': 15,\n",
       " 'Market Table': 15,\n",
       " 'UBCR': 15,\n",
       " 'Uday Sweets': 15,\n",
       " 'Fujian Express': 15,\n",
       " 'Asia In A Box': 15,\n",
       " 'Soda Bottle Opener Wala': 15,\n",
       " \"Daniyal's\": 15,\n",
       " 'Kalmane Koffees': 14,\n",
       " 'Fava Bistro': 14,\n",
       " 'Deccan Spices': 14,\n",
       " 'Fattoush': 14,\n",
       " 'No 10 Fort Cochin': 14,\n",
       " 'New Royal Treat': 14,\n",
       " 'Puran da Dhaba - The Pride Hotel': 14,\n",
       " 'Mangala Hotel': 14,\n",
       " 'Zaiqa': 14,\n",
       " 'Kolkata Famous Kati Rolls': 14,\n",
       " 'Punjabi Nawabi': 14,\n",
       " \"Fenny's Lounge And Kitchen\": 14,\n",
       " 'Shri Vinayaka Ice N Juice': 14,\n",
       " 'The Bao Belly': 14,\n",
       " 'Blue Tokai Coffee Roasters': 14,\n",
       " 'Magnolia': 14,\n",
       " 'Grow Fit': 14,\n",
       " 'Nawab-E-Khana': 14,\n",
       " 'Haagen Dazs': 14,\n",
       " 'Andhra Bhojanam': 14,\n",
       " 'Birinz': 14,\n",
       " 'Ambur Biryani': 14,\n",
       " 'Cinnamon': 14,\n",
       " 'Asha Sweets Centre': 14,\n",
       " 'Fresh Kitchen': 14,\n",
       " 'Nanna Munna Paratha House': 14,\n",
       " 'Zaitoon': 14,\n",
       " \"Ruh's Cafe\": 14,\n",
       " 'The 90s Hash House': 14,\n",
       " 'Crafted Plate': 14,\n",
       " 'Big Mishra Pedha': 14,\n",
       " 'Daily Bite': 14,\n",
       " 'Cafemoto': 14,\n",
       " 'BIB - Breakfast in the Box': 14,\n",
       " 'Indira Darshini': 14,\n",
       " 'Cafe Jezve': 14,\n",
       " 'Maravanthe': 14,\n",
       " 'Green Onion': 14,\n",
       " 'RP Sweets': 14,\n",
       " 'Banashankari Donne Biriyani': 14,\n",
       " 'Desi Deck': 14,\n",
       " 'Curry Leaves': 14,\n",
       " 'The Spice Bazaar': 14,\n",
       " 'Thai House': 14,\n",
       " 'Carrots': 14,\n",
       " 'Jiyo Natural': 14,\n",
       " 'Mint Masala': 14,\n",
       " \"Naachiyar's\": 14,\n",
       " 'De Street Cafe': 14,\n",
       " 'Caraway Kitchen - Conrad Bengaluru': 14,\n",
       " 'Kailash Parbat': 14,\n",
       " 'The Bangalore Cafe': 14,\n",
       " 'Punjabi Tadka': 14,\n",
       " \"Chili's American Grill & Bar\": 14,\n",
       " 'South Parade - The Chancery Hotel': 14,\n",
       " 'Nagas': 14,\n",
       " 'Berrylicious Cafe': 14,\n",
       " 'Anand Sweets And Savouries': 14,\n",
       " 'Sri Lakshmi Dhaba': 14,\n",
       " 'Hanoi - Vietnamese Cuisine': 14,\n",
       " 'Chung Shan Chinese Restaurant': 14,\n",
       " \"Pathy's Kitchen\": 14,\n",
       " 'Brewz Coffee': 14,\n",
       " 'Tummy Fuel': 14,\n",
       " 'Shiro': 14,\n",
       " 'The Chaat Shop': 14,\n",
       " 'Indian Paratha Factory': 14,\n",
       " 'Bhaijaan Barbeques': 14,\n",
       " '1947': 14,\n",
       " 'Lazeez': 14,\n",
       " 'China Bowl': 14,\n",
       " 'Keto Kitchen': 14,\n",
       " 'The Rice Bowl': 14,\n",
       " 'Shagun Sweets & Foods': 14,\n",
       " 'Cravy Wings': 14,\n",
       " 'Roll Er Dokaan': 13,\n",
       " \"Gam's Delicacy\": 13,\n",
       " 'Chicken Corner': 13,\n",
       " 'Royal Paris': 13,\n",
       " 'Sutra Spice-The Resto Bar': 13,\n",
       " \"The Fisherman's Wharf\": 13,\n",
       " 'Bake and Juice': 13,\n",
       " 'Cafe Mondo': 13,\n",
       " 'Page 3 Multicuisine Restaurant & Bar': 13,\n",
       " 'Mamma Mexicana': 13,\n",
       " 'Easy Tiger': 13,\n",
       " \"Kirthi's Biryani\": 13,\n",
       " 'Teppan Japanese Grill & Sushi Bar': 13,\n",
       " 'Burrito Boys': 13,\n",
       " 'The Bar Stock Exchange': 13,\n",
       " 'Downtown': 13,\n",
       " 'Biryani Palace': 13,\n",
       " 'Cupcake Noggins': 13,\n",
       " 'Atithi': 13,\n",
       " 'Capri Gastrobar': 13,\n",
       " 'Russh Gastropub': 13,\n",
       " 'Fuel Resto Bar': 13,\n",
       " 'The Souk': 13,\n",
       " 'Crumb Together': 13,\n",
       " 'Restro Cafe': 13,\n",
       " 'The Irish House': 13,\n",
       " 'Malabar Bay': 13,\n",
       " 'Johnny Fox': 13,\n",
       " 'Ente Keralam': 13,\n",
       " 'Zanzibar - Davanam Sarovar Portico Suites': 13,\n",
       " 'Sandwichwallas': 13,\n",
       " 'Benjarong': 13,\n",
       " 'Smoke-A-Pot': 13,\n",
       " 'M World Cafe': 13,\n",
       " 'Ultra Biriyani Paradise': 13,\n",
       " \"Galito's\": 13,\n",
       " \"Fandom at Gilly's Redefined\": 13,\n",
       " 'Bulls N Bears - Bar Trade Xchange': 13,\n",
       " 'New Kudla Family Resturant': 13,\n",
       " \"Sathya's\": 13,\n",
       " 'Insta Cafe': 13,\n",
       " 'The Charlton Bar': 13,\n",
       " 'Mecaf Family Restaurant': 13,\n",
       " \"Polamma's Mess\": 13,\n",
       " 'Shahi Family Restaurant': 13,\n",
       " 'Tetto': 13,\n",
       " 'Chefie': 13,\n",
       " 'Qube Cafe': 13,\n",
       " 'Desi Vibes': 13,\n",
       " 'Caffe Pascucci': 13,\n",
       " 'Rawal Jalebi': 13,\n",
       " 'Utse Kitchen': 13,\n",
       " 'Bite Me Cupcakes': 13,\n",
       " 'Fudge': 13,\n",
       " 'PHEW (Play Hard Eat Wild)': 13,\n",
       " 'Imperio Restaurant': 13,\n",
       " 'Baahubelly': 13,\n",
       " 'Laziz Pizza': 13,\n",
       " 'Nandanam Family Restaurant': 13,\n",
       " 'Village - The Soul of India': 13,\n",
       " \"Snow'ora\": 13,\n",
       " 'Salt Mango Tree': 13,\n",
       " 'Tree Tops Bar & Kitchen': 13,\n",
       " 'Step Right Up': 13,\n",
       " 'Woodee Pizza': 13,\n",
       " 'Beer Adda': 13,\n",
       " 'Karavali Lunch Home': 13,\n",
       " 'Mustard Cafe': 13,\n",
       " 'WAFL': 13,\n",
       " 'Roll Junction': 13,\n",
       " 'Maiyas': 13,\n",
       " 'Call A Cake': 13,\n",
       " 'Udupi Grand': 13,\n",
       " 'Indori Chatorey': 13,\n",
       " 'Mustard Food Court': 13,\n",
       " \"SkyDeck By Sherlock's\": 13,\n",
       " 'Biryani Miya': 13,\n",
       " 'Shake Tat Bottle': 13,\n",
       " \"Ta'aam\": 13,\n",
       " 'Pop Hop': 13,\n",
       " 'Banchharam': 13,\n",
       " 'Aubree': 13,\n",
       " 'Barcode': 13,\n",
       " 'The Biriyani Pedia': 13,\n",
       " 'Shree Udupi Grand': 13,\n",
       " \"Nanda's\": 13,\n",
       " 'Amritsari Kulcha Bite': 13,\n",
       " 'Scottish Pub': 13,\n",
       " 'Chin Lung Resto Bar': 13,\n",
       " \"ROYCE' Chocolate\": 13,\n",
       " 'Chugg': 13,\n",
       " \"Myu Bar at Gilly's Redefined\": 13,\n",
       " 'Swad Punjab Da': 13,\n",
       " 'White Plate': 13,\n",
       " 'Brews N Bites': 13,\n",
       " 'Sidewalk Cafe & Bar - The Paul Bangalore': 13,\n",
       " 'Mealer.in': 13,\n",
       " 'Kannur Food Point': 13,\n",
       " 'My Space - WelcomeHotel Bengaluru': 13,\n",
       " \"Swad 'E' Punjab\": 13,\n",
       " 'Bottle Breacher': 13,\n",
       " 'Mummy Dhaba': 13,\n",
       " 'Nostradamus Bar & Lounge': 13,\n",
       " 'Ice Cream Works': 13,\n",
       " 'Dreams Cafe - All Day English Food St.': 13,\n",
       " 'Bombay Adda': 13,\n",
       " 'Shezan': 13,\n",
       " 'D View Cafe': 12,\n",
       " 'Madurai Idly Shop': 12,\n",
       " 'DinePost9': 12,\n",
       " \"Nawab's Kolkatta Roll\": 12,\n",
       " 'Al Habibi Restaurant': 12,\n",
       " \"Muthashy's\": 12,\n",
       " 'Ashirvaad Grand': 12,\n",
       " 'Vyanjan': 12,\n",
       " \"Chichaba's Taj\": 12,\n",
       " 'Smise': 12,\n",
       " 'Swathi Deluxe Restaurant': 12,\n",
       " 'Portland Steakhouse & Cafe': 12,\n",
       " 'BelgYum': 12,\n",
       " 'The Jungle Terrace': 12,\n",
       " 'Soul Cafe': 12,\n",
       " 'Willys Top Cafe': 12,\n",
       " 'Cafe Choco Craze': 12,\n",
       " 'Chettayees': 12,\n",
       " \"Sultan's Biryani\": 12,\n",
       " 'The Grand Taj': 12,\n",
       " \"Ramana's\": 12,\n",
       " 'Sri Sai 99 Variety Dosa': 12,\n",
       " 'Chaitanya Veg': 12,\n",
       " 'Al Hayath': 12,\n",
       " \"Borah's Kitchen\": 12,\n",
       " 'Rolls Mania': 12,\n",
       " 'Hearts Unlock Cafe': 12,\n",
       " 'Hotel Ramprasad': 12,\n",
       " 'Biryani Spot': 12,\n",
       " \"Haldiram's Express\": 12,\n",
       " 'Jigarthanda': 12,\n",
       " 'Shilpa Veg': 12,\n",
       " 'Dasaprakash Cafe': 12,\n",
       " 'Prawn Crunch': 12,\n",
       " 'Shater Grill House': 12,\n",
       " 'Kadamba Foodline': 12,\n",
       " 'Tasty Magic': 12,\n",
       " 'Cafe Mozaic - Taj MG Road Bengaluru': 12,\n",
       " 'Terra Bites': 12,\n",
       " 'Bhagini': 12,\n",
       " 'Mountain Spice': 12,\n",
       " 'Grillopia': 12,\n",
       " 'Durga Sagar': 12,\n",
       " 'The Cravery': 12,\n",
       " 'Easy Bites': 12,\n",
       " 'Kabab Nation Corner': 12,\n",
       " 'Eden Park': 12,\n",
       " 'The Bundle Co.': 12,\n",
       " 'Amravathi Restaurants & Caterers': 12,\n",
       " 'Pai Vihar': 12,\n",
       " 'Kanis Kitchen': 12,\n",
       " 'Flame Pub & Restaurant - Brigade Garden': 12,\n",
       " 'Biriyani House': 12,\n",
       " 'The Ganache Factory': 12,\n",
       " 'Mug N Bean': 12,\n",
       " \"L'inoui\": 12,\n",
       " 'Sri Rama': 12,\n",
       " 'Krishna Vaibhava': 12,\n",
       " 'Eat Repeat Express': 12,\n",
       " 'Attic Lounge': 12,\n",
       " 'Little White Kitchen': 12,\n",
       " 'Pecos Hideout': 12,\n",
       " \"Hushy's Kitchen\": 12,\n",
       " 'The Chariot': 12,\n",
       " 'Tomago Roast': 12,\n",
       " 'Bangalore Bytes': 12,\n",
       " 'The Only Place': 12,\n",
       " 'Udupi Sri Krishna Cafe': 12,\n",
       " '3 Spice': 12,\n",
       " 'Karavali Grand': 12,\n",
       " 'New Farm Fresh': 12,\n",
       " 'Arabian Bites': 12,\n",
       " 'Eatato Snack Bar': 12,\n",
       " 'New Alameen Restaurant': 12,\n",
       " 'The Barn - Bar & Kitchen': 12,\n",
       " 'Chaithanya Andhra Style Family Restaurant': 12,\n",
       " 'Le Jardin - The Oberoi': 12,\n",
       " 'VT Sindhur Veg': 12,\n",
       " 'Dakshin Restaurant': 12,\n",
       " 'Chicken County Grand': 12,\n",
       " 'S.W.A.T Food Truck': 12,\n",
       " 'Juicy': 12,\n",
       " 'New Taj': 12,\n",
       " 'Shan Restaurant': 12,\n",
       " 'Pin Me Down': 12,\n",
       " 'Chill-Um Cafe': 12,\n",
       " 'Bhagatram Sweets': 12,\n",
       " 'Fillers': 12,\n",
       " 'Pecos Classic': 12,\n",
       " 'Tandoor': 12,\n",
       " 'Halli Mane': 12,\n",
       " 'Red Lantern': 12,\n",
       " 'Food Theory': 12,\n",
       " 'Entropy Cafe': 12,\n",
       " 'Marhaba': 12,\n",
       " 'Avon Bar & Kitchen': 12,\n",
       " 'Baba Chatkora': 12,\n",
       " 'Little Bites': 12,\n",
       " 'Bundar': 12,\n",
       " 'Punjabi Chulha': 12,\n",
       " 'Cafe Monarch Luxur': 12,\n",
       " 'Cafe Noir': 12,\n",
       " 'Malabar Cafe': 12,\n",
       " 'Brewsky': 12,\n",
       " 'Hard Rock Cafe': 12,\n",
       " 'Inhouse Burger': 12,\n",
       " 'Naati Biriyani': 12,\n",
       " 'The Adukkala Restaurant': 12,\n",
       " 'Midnight Hunger Solutions 24/7': 12,\n",
       " 'Stoked!': 12,\n",
       " 'Eat Street': 12,\n",
       " 'Karavali Kolimane': 12,\n",
       " 'Chilli Chicken': 12,\n",
       " 'Cafe Mist': 12,\n",
       " \"Wazir's\": 12,\n",
       " 'Midnight Mania': 12,\n",
       " 'Home Treat': 12,\n",
       " 'Royal Restaurant': 12,\n",
       " 'Mughals Restaurant': 12,\n",
       " 'Brea': 12,\n",
       " 'Royal View Restaurant': 12,\n",
       " 'Monsoon - The Park Bangalore': 12,\n",
       " 'Malabar Kitchen': 12,\n",
       " 'Delhi Bhavan': 12,\n",
       " 'Taj Hotel': 12,\n",
       " 'Just Sandwiches': 12,\n",
       " 'Mongolian Kitchen': 12,\n",
       " 'Frolic': 12,\n",
       " 'MRA': 12,\n",
       " 'Bakingo': 12,\n",
       " 'Cafe Cassia& Deli': 12,\n",
       " 'Bazaar- Zone By The Park': 12,\n",
       " 'Dash In': 12,\n",
       " 'Gowdru Hotel': 12,\n",
       " 'Punjabites': 12,\n",
       " 'New Mangalore Lunch Home': 12,\n",
       " 'Eat N Drink': 12,\n",
       " 'Foodiesthan': 12,\n",
       " 'Cafe Fattoush': 12,\n",
       " 'Bawarchi Inn': 12,\n",
       " 'Funjabi': 12,\n",
       " 'MK Dabbawala': 12,\n",
       " 'Juice Berg': 12,\n",
       " 'Matteo Coffea': 12,\n",
       " 'The Bier Library': 12,\n",
       " 'Veruthe Oru Thattukada': 12,\n",
       " 'Armaani Caffe': 12,\n",
       " \"Magix's Parattha Roll\": 12,\n",
       " 'Avanti Indian Barbeque & Grill': 12,\n",
       " \"Sahana's (Nati Style)\": 12,\n",
       " 'Guzzlers Inn': 12,\n",
       " \"Khan's Biryani\": 12,\n",
       " 'Tapout Tavern': 12,\n",
       " 'Aroma Fine Dine': 12,\n",
       " 'Roots': 12,\n",
       " 'BBQ@52': 12,\n",
       " '24 Carats - The Capitol': 12,\n",
       " 'Sri Punjabi Dhaba': 12,\n",
       " 'Nadan Thattukada': 12,\n",
       " 'Pind Balluchi': 12,\n",
       " \"David's Kitchen\": 12,\n",
       " 'Hotel Ruchi Priya': 12,\n",
       " 'Tandoor Garden': 12,\n",
       " 'Dabba Gosht': 12,\n",
       " 'Status': 12,\n",
       " \"Indy's Comfort Food\": 12,\n",
       " 'Nasi And Mee': 12,\n",
       " 'Hang10 Resto N Cafe': 12,\n",
       " 'Sunny Side Bistro': 12,\n",
       " 'Slate Cafe': 12,\n",
       " \"Reddy's Paradise\": 12,\n",
       " 'Kerala Kitchen': 12,\n",
       " 'Rim Naam - The Oberoi': 12,\n",
       " 'The Permit Room': 12,\n",
       " \"CafÃ\\x83Â\\x83Ã\\x82Â\\x83Ã\\x83Â\\x82Ã\\x82Â\\x83Ã\\x83Â\\x83Ã\\x82Â\\x82Ã\\x83Â\\x82Ã\\x82Â\\x83Ã\\x83Â\\x83Ã\\x82Â\\x83Ã\\x83Â\\x82Ã\\x82Â\\x82Ã\\x83Â\\x83Ã\\x82Â\\x82Ã\\x83Â\\x82Ã\\x82Â© Mor'ish\": 12,\n",
       " 'What the Food': 12,\n",
       " 'AutoExpress - Hot Dogs': 12,\n",
       " 'The Cuboidal': 12,\n",
       " 'Pakiza Dilli Darbar Restaurant': 12,\n",
       " 'Natuna Seafood House': 11,\n",
       " 'Hotel Godavari': 11,\n",
       " 'Sri Ayodhya Veg': 11,\n",
       " 'Chef Master': 11,\n",
       " 'Eat Sleep Eat Repeat': 11,\n",
       " 'Potful': 11,\n",
       " 'OPUS Club': 11,\n",
       " 'Makers of Milkshakes': 11,\n",
       " 'Freeze It': 11,\n",
       " 'Ghar Ki Rasoi': 11,\n",
       " 'The Paratha Company': 11,\n",
       " 'The Cake House': 11,\n",
       " 'Andhra Mess': 11,\n",
       " 'Friends Night Kitchen': 11,\n",
       " 'Cafe Alchemist': 11,\n",
       " \"Nando's\": 11,\n",
       " \"Berry'd Alive\": 11,\n",
       " \"Bamey's Restro Cafe\": 11,\n",
       " 'Hotel Food Lands': 11,\n",
       " 'Rimo': 11,\n",
       " 'Vegetarea': 11,\n",
       " 'Rock Stone Ice Cream Factory': 11,\n",
       " 'Dialogues': 11,\n",
       " 'Awesome Foods': 11,\n",
       " 'Desi Inn': 11,\n",
       " 'Min Mini Punjabi Dhaba': 11,\n",
       " 'The Mylapore Cafe': 11,\n",
       " 'The Hidden Cafe': 11,\n",
       " 'The Kream Story': 11,\n",
       " 'Gods Own Cafe': 11,\n",
       " 'Hotel Dil Coorg': 11,\n",
       " 'Taj Darbar': 11,\n",
       " 'The Charcoal Factory': 11,\n",
       " 'Go Native': 11,\n",
       " 'The Yellow Chilli': 11,\n",
       " 'Qissa Khawani': 11,\n",
       " 'The Monalisa Restaurant': 11,\n",
       " 'Nile Garden Restaurant': 11,\n",
       " 'Burger Lounge': 11,\n",
       " 'ZOROY Luxury Chocolate': 11,\n",
       " 'Cafe On The Way': 11,\n",
       " 'Sbarro': 11,\n",
       " 'Tibetan Kitchen': 11,\n",
       " 'Cheesy Juicy Burgers': 11,\n",
       " 'Delices': 11,\n",
       " 'Cobaja': 11,\n",
       " 'Public Khana': 11,\n",
       " \"Bisimillah Biriyani's & Kebab's\": 11,\n",
       " 'Two Friends Cauldron': 11,\n",
       " 'Alankrutha': 11,\n",
       " 'Curries And Pickles': 11,\n",
       " 'Wok Paper Scissors': 11,\n",
       " 'Momo Hut': 11,\n",
       " 'New Mahesh Friends Food Corner': 11,\n",
       " \"Tibetan Mother's Kitchen\": 11,\n",
       " 'Fritz Haber': 11,\n",
       " 'Northern Route': 11,\n",
       " 'Arya Hungry?': 11,\n",
       " 'Ice - Taj MG Road Bengaluru': 11,\n",
       " '2nd Home Restaurant': 11,\n",
       " 'Southinn': 11,\n",
       " 'Chaska Bun': 11,\n",
       " 'Kopper Kadai': 11,\n",
       " 'Bharat Kitchen': 11,\n",
       " 'Boston Barista - Kappayum Curriyum': 11,\n",
       " 'Sai Mango Tree': 11,\n",
       " 'Royal Biryani Kitchen': 11,\n",
       " 'Kevins Kitchen': 11,\n",
       " 'Village Donne Biryani': 11,\n",
       " 'New Tasty Cafeteria': 11,\n",
       " 'Pure & Natural': 11,\n",
       " 'Sri Saravana Bhavan': 11,\n",
       " 'Kabab Korner': 11,\n",
       " 'Grills And Tandoor': 11,\n",
       " 'Kannoor Restaurant': 11,\n",
       " 'Calicut Durbar': 11,\n",
       " \"Friend's Cafe\": 11,\n",
       " 'Nutri Rich': 11,\n",
       " 'Kinpeetos': 11,\n",
       " 'Ganesh Restaurant': 11,\n",
       " 'Kudla - Hotel Ramanashree': 11,\n",
       " 'Roti Wala': 11,\n",
       " 'Loca Moca': 11,\n",
       " 'Modern Restaurant': 11,\n",
       " \"Dev's Gugababa\": 11,\n",
       " 'Church Street Social': 11,\n",
       " 'Cake Yard': 11,\n",
       " 'Sagar Delicacy': 11,\n",
       " 'Ghee Biryani House': 11,\n",
       " 'Yo! Thali': 11,\n",
       " 'Smokey Tribe Restaurant': 11,\n",
       " 'Odissi Restaurant': 11,\n",
       " 'Yummy Biryani': 11,\n",
       " 'Biriyani Mane': 11,\n",
       " 'Bisimillah Biriyani': 11,\n",
       " 'i-Bar - The Park Bangalore': 11,\n",
       " 'Popsies': 11,\n",
       " 'Via Milano': 11,\n",
       " 'Aalishan Restaurant & Caterer': 11,\n",
       " 'Liquid Lounge - Hyatt Centric MG Road': 11,\n",
       " \"Targaryen's Kitchen\": 11,\n",
       " 'Taste Of Malabar': 11,\n",
       " 'Aami Bangali': 11,\n",
       " 'Foreign CafÃ\\x83Â\\x83Ã\\x82Â\\x83Ã\\x83Â\\x82Ã\\x82Â\\x83Ã\\x83Â\\x83Ã\\x82Â\\x82Ã\\x83Â\\x82Ã\\x82Â©': 11,\n",
       " 'Jalsa': 11,\n",
       " 'Ammus Hot N Cool': 11,\n",
       " 'Wow Vada Pav': 11,\n",
       " 'Tapri By The Corner': 11,\n",
       " 'Paratha Junction': 11,\n",
       " '1722 Urban Bistro': 11,\n",
       " 'ASEAN - On The Edge': 11,\n",
       " 'Udupi Ruchi': 11,\n",
       " 'Hotel Parampare': 11,\n",
       " \"Bheema's\": 11,\n",
       " 'Hotel Empark': 11,\n",
       " 'The Konkan - Seafood Restaurant': 11,\n",
       " 'Noodle Panda': 11,\n",
       " 'Flavour of Himalaya': 11,\n",
       " 'Desipun': 11,\n",
       " 'Southern Spice': 11,\n",
       " 'Shree Mithai': 11,\n",
       " \"Maria's Goan Kitchen\": 11,\n",
       " 'Kairali': 11,\n",
       " \"Bhandary's Kitchen\": 11,\n",
       " 'WAFL Co': 11,\n",
       " 'Little Lucknow': 11,\n",
       " 'Krem': 11,\n",
       " 'Tim Tai': 11,\n",
       " 'HungerLoft': 11,\n",
       " 'Sattvam': 11,\n",
       " '30 Square': 11,\n",
       " 'El Salver': 11,\n",
       " 'Gramin': 11,\n",
       " 'Dum Biryani Hub': 11,\n",
       " 'Aaranya Restaurant': 11,\n",
       " 'New Kohinoor Hotel': 11,\n",
       " 'New Grand Restaurant': 11,\n",
       " 'Shyvan Restaurant': 11,\n",
       " 'Moto Store & CafÃ\\x83Â\\x83Ã\\x82Â\\x83Ã\\x83Â\\x82Ã\\x82Â\\x83Ã\\x83Â\\x83Ã\\x82Â\\x82Ã\\x83Â\\x82Ã\\x82Â©': 11,\n",
       " 'KC Das': 11,\n",
       " 'Dosa Plaza': 11,\n",
       " 'Indian Kitchen Eateries-IKE': 11,\n",
       " 'Biryanis And More': 11,\n",
       " 'OCEA HOTEL': 11,\n",
       " 'Cafe Potpourri': 11,\n",
       " 'The Cake Lair': 11,\n",
       " 'Kaaram': 11,\n",
       " 'Apna Punjab': 11,\n",
       " 'Afghani Tandoori Hub': 11,\n",
       " ...}"
      ]
     },
     "execution_count": 47,
     "metadata": {},
     "output_type": "execute_result"
    }
   ],
   "source": [
    "\n",
    "# to_dict is just convrting DataFrame or series to dic\n",
    "names = data.name.value_counts().to_dict()\n",
    "names\n",
    "\n"
   ]
  },
  {
   "cell_type": "code",
   "execution_count": 48,
   "metadata": {},
   "outputs": [
    {
     "data": {
      "text/html": [
       "<div>\n",
       "<style scoped>\n",
       "    .dataframe tbody tr th:only-of-type {\n",
       "        vertical-align: middle;\n",
       "    }\n",
       "\n",
       "    .dataframe tbody tr th {\n",
       "        vertical-align: top;\n",
       "    }\n",
       "\n",
       "    .dataframe thead th {\n",
       "        text-align: right;\n",
       "    }\n",
       "</style>\n",
       "<table border=\"1\" class=\"dataframe\">\n",
       "  <thead>\n",
       "    <tr style=\"text-align: right;\">\n",
       "      <th></th>\n",
       "      <th>name</th>\n",
       "      <th>online_order</th>\n",
       "      <th>book_table</th>\n",
       "      <th>rate</th>\n",
       "      <th>votes</th>\n",
       "      <th>location</th>\n",
       "      <th>rest_type</th>\n",
       "      <th>cuisines</th>\n",
       "      <th>cost</th>\n",
       "      <th>menu_item</th>\n",
       "    </tr>\n",
       "  </thead>\n",
       "  <tbody>\n",
       "    <tr>\n",
       "      <th>0</th>\n",
       "      <td>11</td>\n",
       "      <td>1</td>\n",
       "      <td>1</td>\n",
       "      <td>4.1</td>\n",
       "      <td>775</td>\n",
       "      <td>Banashankari</td>\n",
       "      <td>Casual Dining</td>\n",
       "      <td>North Indian, Mughlai, Chinese</td>\n",
       "      <td>800.0</td>\n",
       "      <td>[]</td>\n",
       "    </tr>\n",
       "    <tr>\n",
       "      <th>1</th>\n",
       "      <td>4</td>\n",
       "      <td>1</td>\n",
       "      <td>0</td>\n",
       "      <td>4.1</td>\n",
       "      <td>787</td>\n",
       "      <td>Banashankari</td>\n",
       "      <td>Casual Dining</td>\n",
       "      <td>Chinese, North Indian, Thai</td>\n",
       "      <td>800.0</td>\n",
       "      <td>[]</td>\n",
       "    </tr>\n",
       "    <tr>\n",
       "      <th>2</th>\n",
       "      <td>11</td>\n",
       "      <td>1</td>\n",
       "      <td>0</td>\n",
       "      <td>3.8</td>\n",
       "      <td>918</td>\n",
       "      <td>Banashankari</td>\n",
       "      <td>Cafe, Casual Dining</td>\n",
       "      <td>Cafe, Mexican, Italian</td>\n",
       "      <td>800.0</td>\n",
       "      <td>[]</td>\n",
       "    </tr>\n",
       "  </tbody>\n",
       "</table>\n",
       "</div>"
      ],
      "text/plain": [
       "   name  online_order  book_table  rate  votes      location  \\\n",
       "0    11             1           1   4.1    775  Banashankari   \n",
       "1     4             1           0   4.1    787  Banashankari   \n",
       "2    11             1           0   3.8    918  Banashankari   \n",
       "\n",
       "             rest_type                        cuisines   cost menu_item  \n",
       "0        Casual Dining  North Indian, Mughlai, Chinese  800.0        []  \n",
       "1        Casual Dining     Chinese, North Indian, Thai  800.0        []  \n",
       "2  Cafe, Casual Dining          Cafe, Mexican, Italian  800.0        []  "
      ]
     },
     "execution_count": 48,
     "metadata": {},
     "output_type": "execute_result"
    }
   ],
   "source": [
    "data['name'] = data['name'].map(names)\n",
    "data[:3]"
   ]
  },
  {
   "cell_type": "code",
   "execution_count": 49,
   "metadata": {},
   "outputs": [
    {
     "data": {
      "text/html": [
       "<div>\n",
       "<style scoped>\n",
       "    .dataframe tbody tr th:only-of-type {\n",
       "        vertical-align: middle;\n",
       "    }\n",
       "\n",
       "    .dataframe tbody tr th {\n",
       "        vertical-align: top;\n",
       "    }\n",
       "\n",
       "    .dataframe thead th {\n",
       "        text-align: right;\n",
       "    }\n",
       "</style>\n",
       "<table border=\"1\" class=\"dataframe\">\n",
       "  <thead>\n",
       "    <tr style=\"text-align: right;\">\n",
       "      <th></th>\n",
       "      <th>name</th>\n",
       "      <th>online_order</th>\n",
       "      <th>book_table</th>\n",
       "      <th>rate</th>\n",
       "      <th>votes</th>\n",
       "      <th>location</th>\n",
       "      <th>rest_type</th>\n",
       "      <th>cuisines</th>\n",
       "      <th>cost</th>\n",
       "      <th>menu_item</th>\n",
       "    </tr>\n",
       "  </thead>\n",
       "  <tbody>\n",
       "    <tr>\n",
       "      <th>0</th>\n",
       "      <td>11</td>\n",
       "      <td>1</td>\n",
       "      <td>1</td>\n",
       "      <td>4.1</td>\n",
       "      <td>775</td>\n",
       "      <td>744</td>\n",
       "      <td>9614</td>\n",
       "      <td>89</td>\n",
       "      <td>800.0</td>\n",
       "      <td>30336</td>\n",
       "    </tr>\n",
       "    <tr>\n",
       "      <th>1</th>\n",
       "      <td>4</td>\n",
       "      <td>1</td>\n",
       "      <td>0</td>\n",
       "      <td>4.1</td>\n",
       "      <td>787</td>\n",
       "      <td>744</td>\n",
       "      <td>9614</td>\n",
       "      <td>8</td>\n",
       "      <td>800.0</td>\n",
       "      <td>30336</td>\n",
       "    </tr>\n",
       "    <tr>\n",
       "      <th>2</th>\n",
       "      <td>11</td>\n",
       "      <td>1</td>\n",
       "      <td>0</td>\n",
       "      <td>3.8</td>\n",
       "      <td>918</td>\n",
       "      <td>744</td>\n",
       "      <td>173</td>\n",
       "      <td>11</td>\n",
       "      <td>800.0</td>\n",
       "      <td>30336</td>\n",
       "    </tr>\n",
       "  </tbody>\n",
       "</table>\n",
       "</div>"
      ],
      "text/plain": [
       "   name  online_order  book_table  rate  votes  location  rest_type  cuisines  \\\n",
       "0    11             1           1   4.1    775       744       9614        89   \n",
       "1     4             1           0   4.1    787       744       9614         8   \n",
       "2    11             1           0   3.8    918       744        173        11   \n",
       "\n",
       "    cost  menu_item  \n",
       "0  800.0      30336  \n",
       "1  800.0      30336  \n",
       "2  800.0      30336  "
      ]
     },
     "execution_count": 49,
     "metadata": {},
     "output_type": "execute_result"
    }
   ],
   "source": [
    "# do it same one remaining columns also\n",
    "# location, rest_type, cuisines,menu_item\n",
    "location_r = data.location.value_counts().to_dict()\n",
    "data['location'] = data['location'].map(location_r)\n",
    "\n",
    "rest_type_r = data.rest_type.value_counts().to_dict()\n",
    "data['rest_type'] = data['rest_type'].map(rest_type_r)\n",
    "\n",
    "cuisines_r = data.cuisines.value_counts().to_dict()\n",
    "data['cuisines'] = data['cuisines'].map(cuisines_r)\n",
    "\n",
    "menu_item_r = data['menu_item'].value_counts().to_dict()\n",
    "data['menu_item'] = data['menu_item'].map(menu_item_r)\n",
    "\n",
    "data[:3]\n",
    "\n",
    "\n",
    "# all columns are in numerical values"
   ]
  },
  {
   "cell_type": "code",
   "execution_count": 50,
   "metadata": {},
   "outputs": [
    {
     "data": {
      "text/html": [
       "<div>\n",
       "<style scoped>\n",
       "    .dataframe tbody tr th:only-of-type {\n",
       "        vertical-align: middle;\n",
       "    }\n",
       "\n",
       "    .dataframe tbody tr th {\n",
       "        vertical-align: top;\n",
       "    }\n",
       "\n",
       "    .dataframe thead th {\n",
       "        text-align: right;\n",
       "    }\n",
       "</style>\n",
       "<table border=\"1\" class=\"dataframe\">\n",
       "  <thead>\n",
       "    <tr style=\"text-align: right;\">\n",
       "      <th></th>\n",
       "      <th>name</th>\n",
       "      <th>online_order</th>\n",
       "      <th>book_table</th>\n",
       "      <th>rate</th>\n",
       "      <th>votes</th>\n",
       "      <th>location</th>\n",
       "      <th>rest_type</th>\n",
       "      <th>cuisines</th>\n",
       "      <th>cost</th>\n",
       "      <th>menu_item</th>\n",
       "    </tr>\n",
       "  </thead>\n",
       "  <tbody>\n",
       "    <tr>\n",
       "      <th>name</th>\n",
       "      <td>1.000000</td>\n",
       "      <td>0.169917</td>\n",
       "      <td>0.033311</td>\n",
       "      <td>0.148093</td>\n",
       "      <td>0.169640</td>\n",
       "      <td>0.000617</td>\n",
       "      <td>-0.141639</td>\n",
       "      <td>-0.115020</td>\n",
       "      <td>0.023432</td>\n",
       "      <td>-0.120562</td>\n",
       "    </tr>\n",
       "    <tr>\n",
       "      <th>online_order</th>\n",
       "      <td>0.169917</td>\n",
       "      <td>1.000000</td>\n",
       "      <td>-0.054843</td>\n",
       "      <td>0.068970</td>\n",
       "      <td>-0.013357</td>\n",
       "      <td>0.092161</td>\n",
       "      <td>0.104861</td>\n",
       "      <td>-0.020415</td>\n",
       "      <td>-0.175665</td>\n",
       "      <td>-0.433828</td>\n",
       "    </tr>\n",
       "    <tr>\n",
       "      <th>book_table</th>\n",
       "      <td>0.033311</td>\n",
       "      <td>-0.054843</td>\n",
       "      <td>1.000000</td>\n",
       "      <td>0.426070</td>\n",
       "      <td>0.393186</td>\n",
       "      <td>-0.048281</td>\n",
       "      <td>-0.214683</td>\n",
       "      <td>-0.118232</td>\n",
       "      <td>0.614294</td>\n",
       "      <td>0.045710</td>\n",
       "    </tr>\n",
       "    <tr>\n",
       "      <th>rate</th>\n",
       "      <td>0.148093</td>\n",
       "      <td>0.068970</td>\n",
       "      <td>0.426070</td>\n",
       "      <td>1.000000</td>\n",
       "      <td>0.435256</td>\n",
       "      <td>-0.017551</td>\n",
       "      <td>-0.237442</td>\n",
       "      <td>-0.181516</td>\n",
       "      <td>0.385384</td>\n",
       "      <td>-0.056038</td>\n",
       "    </tr>\n",
       "    <tr>\n",
       "      <th>votes</th>\n",
       "      <td>0.169640</td>\n",
       "      <td>-0.013357</td>\n",
       "      <td>0.393186</td>\n",
       "      <td>0.435256</td>\n",
       "      <td>1.000000</td>\n",
       "      <td>0.006929</td>\n",
       "      <td>-0.176225</td>\n",
       "      <td>-0.109204</td>\n",
       "      <td>0.366556</td>\n",
       "      <td>0.003510</td>\n",
       "    </tr>\n",
       "    <tr>\n",
       "      <th>location</th>\n",
       "      <td>0.000617</td>\n",
       "      <td>0.092161</td>\n",
       "      <td>-0.048281</td>\n",
       "      <td>-0.017551</td>\n",
       "      <td>0.006929</td>\n",
       "      <td>1.000000</td>\n",
       "      <td>0.049465</td>\n",
       "      <td>0.008691</td>\n",
       "      <td>-0.113375</td>\n",
       "      <td>-0.079990</td>\n",
       "    </tr>\n",
       "    <tr>\n",
       "      <th>rest_type</th>\n",
       "      <td>-0.141639</td>\n",
       "      <td>0.104861</td>\n",
       "      <td>-0.214683</td>\n",
       "      <td>-0.237442</td>\n",
       "      <td>-0.176225</td>\n",
       "      <td>0.049465</td>\n",
       "      <td>1.000000</td>\n",
       "      <td>0.181608</td>\n",
       "      <td>-0.322556</td>\n",
       "      <td>-0.017170</td>\n",
       "    </tr>\n",
       "    <tr>\n",
       "      <th>cuisines</th>\n",
       "      <td>-0.115020</td>\n",
       "      <td>-0.020415</td>\n",
       "      <td>-0.118232</td>\n",
       "      <td>-0.181516</td>\n",
       "      <td>-0.109204</td>\n",
       "      <td>0.008691</td>\n",
       "      <td>0.181608</td>\n",
       "      <td>1.000000</td>\n",
       "      <td>-0.151270</td>\n",
       "      <td>0.040664</td>\n",
       "    </tr>\n",
       "    <tr>\n",
       "      <th>cost</th>\n",
       "      <td>0.023432</td>\n",
       "      <td>-0.175665</td>\n",
       "      <td>0.614294</td>\n",
       "      <td>0.385384</td>\n",
       "      <td>0.366556</td>\n",
       "      <td>-0.113375</td>\n",
       "      <td>-0.322556</td>\n",
       "      <td>-0.151270</td>\n",
       "      <td>1.000000</td>\n",
       "      <td>0.089971</td>\n",
       "    </tr>\n",
       "    <tr>\n",
       "      <th>menu_item</th>\n",
       "      <td>-0.120562</td>\n",
       "      <td>-0.433828</td>\n",
       "      <td>0.045710</td>\n",
       "      <td>-0.056038</td>\n",
       "      <td>0.003510</td>\n",
       "      <td>-0.079990</td>\n",
       "      <td>-0.017170</td>\n",
       "      <td>0.040664</td>\n",
       "      <td>0.089971</td>\n",
       "      <td>1.000000</td>\n",
       "    </tr>\n",
       "  </tbody>\n",
       "</table>\n",
       "</div>"
      ],
      "text/plain": [
       "                  name  online_order  book_table      rate     votes  \\\n",
       "name          1.000000      0.169917    0.033311  0.148093  0.169640   \n",
       "online_order  0.169917      1.000000   -0.054843  0.068970 -0.013357   \n",
       "book_table    0.033311     -0.054843    1.000000  0.426070  0.393186   \n",
       "rate          0.148093      0.068970    0.426070  1.000000  0.435256   \n",
       "votes         0.169640     -0.013357    0.393186  0.435256  1.000000   \n",
       "location      0.000617      0.092161   -0.048281 -0.017551  0.006929   \n",
       "rest_type    -0.141639      0.104861   -0.214683 -0.237442 -0.176225   \n",
       "cuisines     -0.115020     -0.020415   -0.118232 -0.181516 -0.109204   \n",
       "cost          0.023432     -0.175665    0.614294  0.385384  0.366556   \n",
       "menu_item    -0.120562     -0.433828    0.045710 -0.056038  0.003510   \n",
       "\n",
       "              location  rest_type  cuisines      cost  menu_item  \n",
       "name          0.000617  -0.141639 -0.115020  0.023432  -0.120562  \n",
       "online_order  0.092161   0.104861 -0.020415 -0.175665  -0.433828  \n",
       "book_table   -0.048281  -0.214683 -0.118232  0.614294   0.045710  \n",
       "rate         -0.017551  -0.237442 -0.181516  0.385384  -0.056038  \n",
       "votes         0.006929  -0.176225 -0.109204  0.366556   0.003510  \n",
       "location      1.000000   0.049465  0.008691 -0.113375  -0.079990  \n",
       "rest_type     0.049465   1.000000  0.181608 -0.322556  -0.017170  \n",
       "cuisines      0.008691   0.181608  1.000000 -0.151270   0.040664  \n",
       "cost         -0.113375  -0.322556 -0.151270  1.000000   0.089971  \n",
       "menu_item    -0.079990  -0.017170  0.040664  0.089971   1.000000  "
      ]
     },
     "execution_count": 50,
     "metadata": {},
     "output_type": "execute_result"
    }
   ],
   "source": [
    "data.corr()"
   ]
  },
  {
   "cell_type": "code",
   "execution_count": 51,
   "metadata": {},
   "outputs": [
    {
     "data": {
      "text/plain": [
       "<AxesSubplot:>"
      ]
     },
     "execution_count": 51,
     "metadata": {},
     "output_type": "execute_result"
    },
    {
     "data": {
      "image/png": "[encoded data removed]",
      "text/plain": [
       "<Figure size 1008x576 with 2 Axes>"
      ]
     },
     "metadata": {
      "needs_background": "light"
     },
     "output_type": "display_data"
    }
   ],
   "source": [
    "import seaborn as sns\n",
    "import matplotlib.pyplot as plt\n",
    "\n",
    "plt.figure(figsize = (14,8))\n",
    "sns.heatmap(data.corr(),annot=True)"
   ]
  },
  {
   "cell_type": "markdown",
   "metadata": {},
   "source": [
    "### indentify indepedent and dependent variables"
   ]
  },
  {
   "cell_type": "code",
   "execution_count": 52,
   "metadata": {},
   "outputs": [
    {
     "data": {
      "text/plain": [
       "(   name  online_order  book_table  votes  location  rest_type  cuisines  \\\n",
       " 0    11             1           1    775       744       9614        89   \n",
       " 1     4             1           0    787       744       9614         8   \n",
       " 2    11             1           0    918       744        173        11   \n",
       " 3     2             0           0     88       744      13885       220   \n",
       " 4     4             0           0    166       595       9614         8   \n",
       " \n",
       "     cost  menu_item  \n",
       " 0  800.0      30336  \n",
       " 1  800.0      30336  \n",
       " 2  800.0      30336  \n",
       " 3  300.0      30336  \n",
       " 4  600.0      30336  ,\n",
       " 0    4.1\n",
       " 1    4.1\n",
       " 2    3.8\n",
       " 3    3.7\n",
       " 4    3.8\n",
       " Name: rate, dtype: float64)"
      ]
     },
     "execution_count": 52,
     "metadata": {},
     "output_type": "execute_result"
    }
   ],
   "source": [
    "# divied the data into indepedent and dependent variables\n",
    "\n",
    "x = data.drop(['rate'],axis=1)\n",
    "y = data['rate']\n",
    "x[:5],y[:5]"
   ]
  },
  {
   "cell_type": "markdown",
   "metadata": {},
   "source": [
    "# splitting data into using train_test_split"
   ]
  },
  {
   "cell_type": "code",
   "execution_count": 53,
   "metadata": {},
   "outputs": [
    {
     "name": "stdout",
     "output_type": "stream",
     "text": [
      "33010\n",
      "8253\n"
     ]
    }
   ],
   "source": [
    "from sklearn.model_selection import train_test_split\n",
    "x_train, x_test, y_train, y_test = train_test_split(x,y,test_size=0.2, random_state=False)\n",
    "print(len(x_train))\n",
    "print(len(x_test))\n"
   ]
  },
  {
   "cell_type": "markdown",
   "metadata": {},
   "source": [
    "## Feature Scaling\n",
    "The column are contain different values so we need to equalize the values"
   ]
  },
  {
   "cell_type": "code",
   "execution_count": 54,
   "metadata": {},
   "outputs": [],
   "source": [
    "from sklearn.preprocessing import StandardScaler\n",
    "scaler = StandardScaler()\n",
    "x_train = scaler.fit_transform(x_train)\n",
    "x_test = scaler.transform(x_test)"
   ]
  },
  {
   "cell_type": "markdown",
   "metadata": {},
   "source": [
    "## Linear Regression\n"
   ]
  },
  {
   "cell_type": "code",
   "execution_count": 55,
   "metadata": {},
   "outputs": [],
   "source": [
    "from sklearn.linear_model import LinearRegression\n",
    "lr = LinearRegression()\n",
    "\n",
    "# fitting the x_train and y_train values\n",
    "lr.fit(x_train,y_train)\n",
    "\n",
    "# prediction the test value\n",
    "y_pred = lr.predict(x_test)"
   ]
  },
  {
   "cell_type": "markdown",
   "metadata": {},
   "source": [
    "### r2_score "
   ]
  },
  {
   "cell_type": "code",
   "execution_count": 56,
   "metadata": {},
   "outputs": [
    {
     "name": "stdout",
     "output_type": "stream",
     "text": [
      "0.3154601790873077\n"
     ]
    }
   ],
   "source": [
    "from sklearn.metrics import r2_score\n",
    "linear = r2_score(y_test,y_pred)\n",
    "print(linear)"
   ]
  },
  {
   "cell_type": "markdown",
   "metadata": {},
   "source": [
    "## Decision Tree"
   ]
  },
  {
   "cell_type": "code",
   "execution_count": 57,
   "metadata": {},
   "outputs": [],
   "source": [
    "from sklearn.tree import DecisionTreeRegressor\n",
    "dc = DecisionTreeRegressor()\n",
    "\n",
    "# fitting the x_train and y_train values\n",
    "dc.fit(x_train,y_train)\n",
    "\n",
    "# prediction the test value\n",
    "y_pred = dc.predict(x_test)"
   ]
  },
  {
   "cell_type": "markdown",
   "metadata": {},
   "source": [
    "### r2_score"
   ]
  },
  {
   "cell_type": "code",
   "execution_count": 58,
   "metadata": {},
   "outputs": [
    {
     "name": "stdout",
     "output_type": "stream",
     "text": [
      "0.9129787426376955\n"
     ]
    }
   ],
   "source": [
    "from sklearn.metrics import r2_score\n",
    "decisiontree = r2_score(y_test,y_pred)\n",
    "print(decisiontree)"
   ]
  },
  {
   "cell_type": "markdown",
   "metadata": {},
   "source": [
    "## Random Forest Tree"
   ]
  },
  {
   "cell_type": "code",
   "execution_count": 59,
   "metadata": {},
   "outputs": [],
   "source": [
    "from sklearn.ensemble import RandomForestRegressor\n",
    "rf = RandomForestRegressor(n_estimators=40)\n",
    "\n",
    "#fitting the trained values\n",
    "rf.fit(x_train, y_train)\n",
    "\n",
    "#predict the test values\n",
    "y_pred = rf.predict(x_test)"
   ]
  },
  {
   "cell_type": "markdown",
   "metadata": {},
   "source": [
    "### r2_score"
   ]
  },
  {
   "cell_type": "code",
   "execution_count": 60,
   "metadata": {},
   "outputs": [
    {
     "name": "stdout",
     "output_type": "stream",
     "text": [
      "0.9411502548345301\n"
     ]
    }
   ],
   "source": [
    "from sklearn.metrics import r2_score\n",
    "randomforest = r2_score(y_test,y_pred)\n",
    "print(randomforest)"
   ]
  },
  {
   "cell_type": "markdown",
   "metadata": {},
   "source": [
    "## Extra Tree Regression"
   ]
  },
  {
   "cell_type": "code",
   "execution_count": 61,
   "metadata": {},
   "outputs": [],
   "source": [
    "from sklearn.ensemble import ExtraTreesRegressor\n",
    "et = ExtraTreesRegressor(n_estimators=60)\n",
    "\n",
    "#fitting the trained values\n",
    "et.fit(x_train, y_train)\n",
    "\n",
    "#predict the test values\n",
    "y_pred = et.predict(x_test)"
   ]
  },
  {
   "cell_type": "markdown",
   "metadata": {},
   "source": [
    "### r2_score"
   ]
  },
  {
   "cell_type": "code",
   "execution_count": 62,
   "metadata": {},
   "outputs": [
    {
     "name": "stdout",
     "output_type": "stream",
     "text": [
      "0.9518531690264298\n"
     ]
    }
   ],
   "source": [
    "from sklearn.metrics import r2_score\n",
    "extratree = r2_score(y_test,y_pred)\n",
    "print(extratree)"
   ]
  },
  {
   "cell_type": "markdown",
   "metadata": {},
   "source": [
    "## Support Vector Machine"
   ]
  },
  {
   "cell_type": "code",
   "execution_count": 63,
   "metadata": {},
   "outputs": [],
   "source": [
    "from sklearn.svm import SVR\n",
    "svm = SVR()\n",
    "\n",
    "#fitting the trained values\n",
    "svm.fit(x_train, y_train)\n",
    "\n",
    "#predict the test values\n",
    "y_pred = svm.predict(x_test)"
   ]
  },
  {
   "cell_type": "markdown",
   "metadata": {},
   "source": [
    "### r2_score"
   ]
  },
  {
   "cell_type": "code",
   "execution_count": 64,
   "metadata": {},
   "outputs": [
    {
     "name": "stdout",
     "output_type": "stream",
     "text": [
      "0.4866293444996772\n"
     ]
    }
   ],
   "source": [
    "from sklearn.metrics import r2_score\n",
    "supportvector= r2_score(y_test,y_pred)\n",
    "print(supportvector)"
   ]
  },
  {
   "cell_type": "code",
   "execution_count": 65,
   "metadata": {},
   "outputs": [
    {
     "data": {
      "text/html": [
       "<div>\n",
       "<style scoped>\n",
       "    .dataframe tbody tr th:only-of-type {\n",
       "        vertical-align: middle;\n",
       "    }\n",
       "\n",
       "    .dataframe tbody tr th {\n",
       "        vertical-align: top;\n",
       "    }\n",
       "\n",
       "    .dataframe thead th {\n",
       "        text-align: right;\n",
       "    }\n",
       "</style>\n",
       "<table border=\"1\" class=\"dataframe\">\n",
       "  <thead>\n",
       "    <tr style=\"text-align: right;\">\n",
       "      <th></th>\n",
       "      <th>models</th>\n",
       "      <th>r2_score</th>\n",
       "    </tr>\n",
       "  </thead>\n",
       "  <tbody>\n",
       "    <tr>\n",
       "      <th>0</th>\n",
       "      <td>Linear Regression</td>\n",
       "      <td>0.315460</td>\n",
       "    </tr>\n",
       "    <tr>\n",
       "      <th>1</th>\n",
       "      <td>Decision Tree</td>\n",
       "      <td>0.912979</td>\n",
       "    </tr>\n",
       "    <tr>\n",
       "      <th>2</th>\n",
       "      <td>Random Forest</td>\n",
       "      <td>0.941150</td>\n",
       "    </tr>\n",
       "    <tr>\n",
       "      <th>3</th>\n",
       "      <td>Extra Tree Regression</td>\n",
       "      <td>0.951853</td>\n",
       "    </tr>\n",
       "    <tr>\n",
       "      <th>4</th>\n",
       "      <td>Support Vector Machine</td>\n",
       "      <td>0.486629</td>\n",
       "    </tr>\n",
       "  </tbody>\n",
       "</table>\n",
       "</div>"
      ],
      "text/plain": [
       "                   models  r2_score\n",
       "0       Linear Regression  0.315460\n",
       "1           Decision Tree  0.912979\n",
       "2           Random Forest  0.941150\n",
       "3   Extra Tree Regression  0.951853\n",
       "4  Support Vector Machine  0.486629"
      ]
     },
     "execution_count": 65,
     "metadata": {},
     "output_type": "execute_result"
    }
   ],
   "source": [
    "pd.DataFrame({'models':['Linear Regression','Decision Tree','Random Forest','Extra Tree Regression','Support Vector Machine'],\n",
    "             'r2_score':[linear,decisiontree,randomforest,extratree,supportvector]})"
   ]
  },
  {
   "cell_type": "markdown",
   "metadata": {},
   "source": [
    "### observation : compare to all regression algorithms Extra tree regression is good result and best accuracy scores\n",
    "### best fit model is extratreeregression algorithm for given dataset as for train test split method"
   ]
  },
  {
   "cell_type": "code",
   "execution_count": 83,
   "metadata": {},
   "outputs": [
    {
     "data": {
      "text/plain": [
       "array([[-0.35132388,  0.72446682, -0.42474001, -0.19696368, -0.24112422,\n",
       "        -0.72753072,  0.44593071, -0.00846387,  0.59650135],\n",
       "       [ 0.29970443,  0.72446682, -0.42474001, -0.18688025, -0.78839878,\n",
       "         1.1347648 , -0.2003733 , -0.22369882,  0.59650135]])"
      ]
     },
     "execution_count": 83,
     "metadata": {},
     "output_type": "execute_result"
    }
   ],
   "source": [
    "x_train[:2]"
   ]
  },
  {
   "cell_type": "code",
   "execution_count": null,
   "metadata": {},
   "outputs": [],
   "source": []
  },
  {
   "cell_type": "code",
   "execution_count": null,
   "metadata": {},
   "outputs": [],
   "source": []
  },
  {
   "cell_type": "code",
   "execution_count": null,
   "metadata": {},
   "outputs": [],
   "source": []
  },
  {
   "cell_type": "markdown",
   "metadata": {},
   "source": [
    "# splitting the data into cross_val_score"
   ]
  },
  {
   "cell_type": "markdown",
   "metadata": {},
   "source": [
    "### directly fitting x,y values"
   ]
  },
  {
   "cell_type": "code",
   "execution_count": 66,
   "metadata": {},
   "outputs": [],
   "source": [
    "import numpy as np\n",
    "from sklearn.model_selection import cross_val_score\n"
   ]
  },
  {
   "cell_type": "code",
   "execution_count": 67,
   "metadata": {},
   "outputs": [
    {
     "name": "stdout",
     "output_type": "stream",
     "text": [
      "[0.26306965 0.32094365 0.28504028 0.32888755 0.33938324]\n",
      "Linear Regression score: 0.3074648754682536\n"
     ]
    }
   ],
   "source": [
    "# linear Regression\n",
    "from sklearn.linear_model import LinearRegression\n",
    "\n",
    "linear = cross_val_score(LinearRegression(),x,y,cv = 5)   # nearly 33000 is divied into 5 folders\n",
    "print(linear)\n",
    "print('Linear Regression score:',np.average(linear))"
   ]
  },
  {
   "cell_type": "code",
   "execution_count": 68,
   "metadata": {},
   "outputs": [
    {
     "name": "stdout",
     "output_type": "stream",
     "text": [
      "[0.76284184 0.73617328 0.70479337 0.91835832 0.74054345]\n",
      "decisionTreeRegression score: 0.7725420533597596\n"
     ]
    }
   ],
   "source": [
    "# Decision Tree\n",
    "from sklearn.tree import DecisionTreeRegressor\n",
    "\n",
    "decision = cross_val_score(DecisionTreeRegressor(),x,y,cv = 5)   \n",
    "print(decision)\n",
    "print('decisionTreeRegression score:',np.average(decision))"
   ]
  },
  {
   "cell_type": "code",
   "execution_count": 69,
   "metadata": {},
   "outputs": [
    {
     "name": "stdout",
     "output_type": "stream",
     "text": [
      "[0.88908024 0.86635038 0.85053768 0.96209617 0.86505272]\n",
      "ExtraTreeRegression score: 0.8866234392453958\n"
     ]
    }
   ],
   "source": [
    "# Extra Tree Regression\n",
    "from sklearn.ensemble import ExtraTreesRegressor\n",
    "\n",
    "extra = cross_val_score(ExtraTreesRegressor(),x,y,cv = 5)   \n",
    "print(extra)\n",
    "print('ExtraTreeRegression score:',np.average(extra))"
   ]
  },
  {
   "cell_type": "code",
   "execution_count": 70,
   "metadata": {},
   "outputs": [
    {
     "name": "stdout",
     "output_type": "stream",
     "text": [
      "[0.88611755 0.8641994  0.84454833 0.95495226 0.85466638]\n",
      "RandomForest score: 0.8808967825777039\n"
     ]
    }
   ],
   "source": [
    "# Random Forest Regression\n",
    "from sklearn.ensemble import RandomForestRegressor\n",
    "\n",
    "random = cross_val_score(RandomForestRegressor(),x,y,cv = 5)   \n",
    "print(random)\n",
    "print('RandomForest score:',np.average(random))"
   ]
  },
  {
   "cell_type": "code",
   "execution_count": 72,
   "metadata": {},
   "outputs": [
    {
     "name": "stdout",
     "output_type": "stream",
     "text": [
      "[0.25390874 0.32430311 0.30049055 0.3391403  0.33056836]\n",
      "SupportVectorMachine score: 0.3096822110330641\n"
     ]
    }
   ],
   "source": [
    "# Support Vector Machine Regression\n",
    "from sklearn.svm import SVR\n",
    "\n",
    "svm = cross_val_score(SVR(),x,y,cv = 5)   \n",
    "print(svm)\n",
    "print('SupportVectorMachine score:',np.average(svm))"
   ]
  },
  {
   "cell_type": "code",
   "execution_count": 73,
   "metadata": {},
   "outputs": [
    {
     "data": {
      "text/html": [
       "<div>\n",
       "<style scoped>\n",
       "    .dataframe tbody tr th:only-of-type {\n",
       "        vertical-align: middle;\n",
       "    }\n",
       "\n",
       "    .dataframe tbody tr th {\n",
       "        vertical-align: top;\n",
       "    }\n",
       "\n",
       "    .dataframe thead th {\n",
       "        text-align: right;\n",
       "    }\n",
       "</style>\n",
       "<table border=\"1\" class=\"dataframe\">\n",
       "  <thead>\n",
       "    <tr style=\"text-align: right;\">\n",
       "      <th></th>\n",
       "      <th>models</th>\n",
       "      <th>r2_score</th>\n",
       "    </tr>\n",
       "  </thead>\n",
       "  <tbody>\n",
       "    <tr>\n",
       "      <th>0</th>\n",
       "      <td>Linear Regression</td>\n",
       "      <td>0.307465</td>\n",
       "    </tr>\n",
       "    <tr>\n",
       "      <th>1</th>\n",
       "      <td>Decision Tree</td>\n",
       "      <td>0.772542</td>\n",
       "    </tr>\n",
       "    <tr>\n",
       "      <th>2</th>\n",
       "      <td>Random Forest</td>\n",
       "      <td>0.880897</td>\n",
       "    </tr>\n",
       "    <tr>\n",
       "      <th>3</th>\n",
       "      <td>Extra Tree Regression</td>\n",
       "      <td>0.886623</td>\n",
       "    </tr>\n",
       "    <tr>\n",
       "      <th>4</th>\n",
       "      <td>Support Vector Machine</td>\n",
       "      <td>0.309682</td>\n",
       "    </tr>\n",
       "  </tbody>\n",
       "</table>\n",
       "</div>"
      ],
      "text/plain": [
       "                   models  r2_score\n",
       "0       Linear Regression  0.307465\n",
       "1           Decision Tree  0.772542\n",
       "2           Random Forest  0.880897\n",
       "3   Extra Tree Regression  0.886623\n",
       "4  Support Vector Machine  0.309682"
      ]
     },
     "execution_count": 73,
     "metadata": {},
     "output_type": "execute_result"
    }
   ],
   "source": [
    "pd.DataFrame({'models':['Linear Regression','Decision Tree','Random Forest','Extra Tree Regression','Support Vector Machine'],\n",
    "             'r2_score':[np.average(linear),np.average(decision),np.average(random),np.average(extra),np.average(svm)]})"
   ]
  },
  {
   "cell_type": "markdown",
   "metadata": {},
   "source": [
    "### observation : Random Forest and ExtraTree Regression both are get near best accuracy score on given dataset.\n",
    "    "
   ]
  },
  {
   "cell_type": "markdown",
   "metadata": {},
   "source": [
    "#### compare to train_test_split and cross_val_score same algorithm score values are different as like extra tree regression in tts - 95.3% and cvs - 88.7% "
   ]
  },
  {
   "cell_type": "code",
   "execution_count": null,
   "metadata": {},
   "outputs": [],
   "source": []
  },
  {
   "cell_type": "markdown",
   "metadata": {},
   "source": [
    "## fitting scaled x,y values in cross_val_score\n",
    "## using Pipeline "
   ]
  },
  {
   "cell_type": "markdown",
   "metadata": {},
   "source": [
    "### pipeline is the method to combined the scaller fitting and model fitting is single line comment"
   ]
  },
  {
   "cell_type": "code",
   "execution_count": 74,
   "metadata": {},
   "outputs": [
    {
     "name": "stdout",
     "output_type": "stream",
     "text": [
      "[0.26306965 0.32094365 0.28504028 0.32888755 0.33938324]\n",
      "Linear Regression score: 0.30746487546825385\n"
     ]
    }
   ],
   "source": [
    "\n",
    "# linear regression\n",
    "\n",
    "from sklearn.preprocessing import StandardScaler\n",
    "from sklearn.pipeline import Pipeline\n",
    "from sklearn.model_selection import cross_val_score\n",
    "from sklearn.linear_model import LinearRegression\n",
    "scaler = StandardScaler()\n",
    "lr = LinearRegression()\n",
    "\n",
    "pipeline = Pipeline([('transformer',scaler),('estimator',lr)])\n",
    "score_lr = cross_val_score(pipeline, x, y, cv = 5)\n",
    "\n",
    "print(score_lr)\n",
    "print('Linear Regression score:',np.average(score_lr))"
   ]
  },
  {
   "cell_type": "code",
   "execution_count": 75,
   "metadata": {},
   "outputs": [
    {
     "name": "stdout",
     "output_type": "stream",
     "text": [
      "[0.7639497  0.73960602 0.7086453  0.92716846 0.72661458]\n",
      "Decision Tree Regression score: 0.7731968115213274\n"
     ]
    }
   ],
   "source": [
    "# Decision tree regression\n",
    "\n",
    "from sklearn.tree import DecisionTreeRegressor\n",
    "from sklearn.preprocessing import StandardScaler\n",
    "scaler = StandardScaler()\n",
    "dc = DecisionTreeRegressor()\n",
    "\n",
    "pipeline = Pipeline([('transformer',scaler),('estimator',dc)])\n",
    "score_dc = cross_val_score(pipeline, x, y, cv = 5)\n",
    "\n",
    "print(score_dc)\n",
    "print('Decision Tree Regression score:',np.average(score_dc))"
   ]
  },
  {
   "cell_type": "code",
   "execution_count": 76,
   "metadata": {},
   "outputs": [
    {
     "name": "stdout",
     "output_type": "stream",
     "text": [
      "[0.89102593 0.86731028 0.85229237 0.96254711 0.86468126]\n",
      "Extra Tree Regression score: 0.8875713906072257\n"
     ]
    }
   ],
   "source": [
    "# Extra Tree Regression\n",
    "from sklearn.ensemble import ExtraTreesRegressor\n",
    "from sklearn.preprocessing import StandardScaler\n",
    "scaler = StandardScaler()\n",
    "etr = ExtraTreesRegressor()\n",
    "\n",
    "pipeline = Pipeline([('transformer',scaler),('estimator',etr)])\n",
    "score_etr = cross_val_score(pipeline, x, y, cv = 5)\n",
    "\n",
    "print(score_etr)\n",
    "print('Extra Tree Regression score:',np.average(score_etr))"
   ]
  },
  {
   "cell_type": "code",
   "execution_count": 77,
   "metadata": {},
   "outputs": [
    {
     "name": "stdout",
     "output_type": "stream",
     "text": [
      "[0.88440888 0.86670865 0.84433288 0.95585284 0.85577358]\n",
      "Random Forest Regression score: 0.8814153666941174\n"
     ]
    }
   ],
   "source": [
    "# Random Forest Regression\n",
    "from sklearn.ensemble import RandomForestRegressor\n",
    "from sklearn.preprocessing import StandardScaler\n",
    "scaler = StandardScaler()\n",
    "rf = RandomForestRegressor()\n",
    "\n",
    "pipeline = Pipeline([('transformer',scaler),('estimator',rf)])\n",
    "score_rf = cross_val_score(pipeline, x, y, cv = 5)\n",
    "\n",
    "print(score_rf)\n",
    "print('Random Forest Regression score:',np.average(score_rf))"
   ]
  },
  {
   "cell_type": "code",
   "execution_count": 79,
   "metadata": {},
   "outputs": [],
   "source": [
    "# Support Vector Machine Regression\n",
    "from sklearn.svm import SVR\n",
    "from sklearn.preprocessing import StandardScaler\n",
    "scaler = StandardScaler()\n",
    "svm = SVR()\n",
    "\n",
    "pipeline = Pipeline([('transformer',scaler),('estimator',svm)])\n",
    "score_svm = cross_val_score(pipeline, x, y, cv = 5)\n",
    "\n",
    "print(score_svm)\n",
    "print('Support Vector Regression score:',np.average(score_svm))"
   ]
  },
  {
   "cell_type": "code",
   "execution_count": 80,
   "metadata": {},
   "outputs": [],
   "source": [
    "pd.DataFrame({'models':['Linear Regression','Decision Tree','Random Forest','Extra Tree Regression','Support Vector Machine'],\n",
    "             'r2_score':[np.average(score_lr),np.average(score_dc),np.average(score_rf),np.average(score_et),np.average(score_svm)]})"
   ]
  },
  {
   "cell_type": "markdown",
   "metadata": {},
   "source": [
    "### observation : here also the same algorithm will gives the best accuracy ExtraTree Regression.accuracy percentage is comapre to tts and directly apply cvs and scaler cvs different.\n",
    "### scaled train_test_split - 95.3%\n",
    "### direcly cross_val_score - 88.6%\n",
    "### scaled cross_val_score - 88.7%\n",
    "    "
   ]
  },
  {
   "cell_type": "code",
   "execution_count": null,
   "metadata": {},
   "outputs": [],
   "source": []
  },
  {
   "cell_type": "markdown",
   "metadata": {},
   "source": [
    "## Serialization"
   ]
  },
  {
   "cell_type": "code",
   "execution_count": 82,
   "metadata": {},
   "outputs": [],
   "source": [
    "import pickle\n",
    "pickle.dump(et,open('model.pkl','wb'))\n",
    "model = pickle.load(open('model.pkl','rb'))"
   ]
  },
  {
   "cell_type": "code",
   "execution_count": null,
   "metadata": {},
   "outputs": [],
   "source": []
  }
 ],
 "metadata": {
  "kernelspec": {
   "display_name": "Python 3",
   "language": "python",
   "name": "python3"
  },
  "language_info": {
   "codemirror_mode": {
    "name": "ipython",
    "version": 3
   },
   "file_extension": ".py",
   "mimetype": "text/x-python",
   "name": "python",
   "nbconvert_exporter": "python",
   "pygments_lexer": "ipython3",
   "version": "3.8.5"
  }
 },
 "nbformat": 4,
 "nbformat_minor": 4
}
