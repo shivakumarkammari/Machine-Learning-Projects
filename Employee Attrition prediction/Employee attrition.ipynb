{
 "cells": [
  {
   "cell_type": "markdown",
   "metadata": {},
   "source": [
    "## Importing Liabrarys"
   ]
  },
  {
   "cell_type": "code",
   "execution_count": 1,
   "metadata": {},
   "outputs": [],
   "source": [
    "import numpy as np\n",
    "import pandas as pd\n",
    "import matplotlib.pyplot as plt\n",
    "import seaborn as sns\n",
    "%matplotlib inline"
   ]
  },
  {
   "cell_type": "markdown",
   "metadata": {},
   "source": [
    "### Data Preprocessing"
   ]
  },
  {
   "cell_type": "code",
   "execution_count": 2,
   "metadata": {},
   "outputs": [
    {
     "data": {
      "text/html": [
       "<div>\n",
       "<style scoped>\n",
       "    .dataframe tbody tr th:only-of-type {\n",
       "        vertical-align: middle;\n",
       "    }\n",
       "\n",
       "    .dataframe tbody tr th {\n",
       "        vertical-align: top;\n",
       "    }\n",
       "\n",
       "    .dataframe thead th {\n",
       "        text-align: right;\n",
       "    }\n",
       "</style>\n",
       "<table border=\"1\" class=\"dataframe\">\n",
       "  <thead>\n",
       "    <tr style=\"text-align: right;\">\n",
       "      <th></th>\n",
       "      <th>Age</th>\n",
       "      <th>Attrition</th>\n",
       "      <th>BusinessTravel</th>\n",
       "      <th>DailyRate</th>\n",
       "      <th>Department</th>\n",
       "      <th>DistanceFromHome</th>\n",
       "      <th>Education</th>\n",
       "      <th>EducationField</th>\n",
       "      <th>EmployeeCount</th>\n",
       "      <th>EmployeeNumber</th>\n",
       "      <th>...</th>\n",
       "      <th>RelationshipSatisfaction</th>\n",
       "      <th>StandardHours</th>\n",
       "      <th>StockOptionLevel</th>\n",
       "      <th>TotalWorkingYears</th>\n",
       "      <th>TrainingTimesLastYear</th>\n",
       "      <th>WorkLifeBalance</th>\n",
       "      <th>YearsAtCompany</th>\n",
       "      <th>YearsInCurrentRole</th>\n",
       "      <th>YearsSinceLastPromotion</th>\n",
       "      <th>YearsWithCurrManager</th>\n",
       "    </tr>\n",
       "  </thead>\n",
       "  <tbody>\n",
       "    <tr>\n",
       "      <th>0</th>\n",
       "      <td>41</td>\n",
       "      <td>Yes</td>\n",
       "      <td>Travel_Rarely</td>\n",
       "      <td>1102</td>\n",
       "      <td>Sales</td>\n",
       "      <td>1</td>\n",
       "      <td>2</td>\n",
       "      <td>Life Sciences</td>\n",
       "      <td>1</td>\n",
       "      <td>1</td>\n",
       "      <td>...</td>\n",
       "      <td>1</td>\n",
       "      <td>80</td>\n",
       "      <td>0</td>\n",
       "      <td>8</td>\n",
       "      <td>0</td>\n",
       "      <td>1</td>\n",
       "      <td>6</td>\n",
       "      <td>4</td>\n",
       "      <td>0</td>\n",
       "      <td>5</td>\n",
       "    </tr>\n",
       "    <tr>\n",
       "      <th>1</th>\n",
       "      <td>49</td>\n",
       "      <td>No</td>\n",
       "      <td>Travel_Frequently</td>\n",
       "      <td>279</td>\n",
       "      <td>Research &amp; Development</td>\n",
       "      <td>8</td>\n",
       "      <td>1</td>\n",
       "      <td>Life Sciences</td>\n",
       "      <td>1</td>\n",
       "      <td>2</td>\n",
       "      <td>...</td>\n",
       "      <td>4</td>\n",
       "      <td>80</td>\n",
       "      <td>1</td>\n",
       "      <td>10</td>\n",
       "      <td>3</td>\n",
       "      <td>3</td>\n",
       "      <td>10</td>\n",
       "      <td>7</td>\n",
       "      <td>1</td>\n",
       "      <td>7</td>\n",
       "    </tr>\n",
       "    <tr>\n",
       "      <th>2</th>\n",
       "      <td>37</td>\n",
       "      <td>Yes</td>\n",
       "      <td>Travel_Rarely</td>\n",
       "      <td>1373</td>\n",
       "      <td>Research &amp; Development</td>\n",
       "      <td>2</td>\n",
       "      <td>2</td>\n",
       "      <td>Other</td>\n",
       "      <td>1</td>\n",
       "      <td>4</td>\n",
       "      <td>...</td>\n",
       "      <td>2</td>\n",
       "      <td>80</td>\n",
       "      <td>0</td>\n",
       "      <td>7</td>\n",
       "      <td>3</td>\n",
       "      <td>3</td>\n",
       "      <td>0</td>\n",
       "      <td>0</td>\n",
       "      <td>0</td>\n",
       "      <td>0</td>\n",
       "    </tr>\n",
       "  </tbody>\n",
       "</table>\n",
       "<p>3 rows × 35 columns</p>\n",
       "</div>"
      ],
      "text/plain": [
       "   Age Attrition     BusinessTravel  DailyRate              Department  \\\n",
       "0   41       Yes      Travel_Rarely       1102                   Sales   \n",
       "1   49        No  Travel_Frequently        279  Research & Development   \n",
       "2   37       Yes      Travel_Rarely       1373  Research & Development   \n",
       "\n",
       "   DistanceFromHome  Education EducationField  EmployeeCount  EmployeeNumber  \\\n",
       "0                 1          2  Life Sciences              1               1   \n",
       "1                 8          1  Life Sciences              1               2   \n",
       "2                 2          2          Other              1               4   \n",
       "\n",
       "   ...  RelationshipSatisfaction StandardHours  StockOptionLevel  \\\n",
       "0  ...                         1            80                 0   \n",
       "1  ...                         4            80                 1   \n",
       "2  ...                         2            80                 0   \n",
       "\n",
       "   TotalWorkingYears  TrainingTimesLastYear WorkLifeBalance  YearsAtCompany  \\\n",
       "0                  8                      0               1               6   \n",
       "1                 10                      3               3              10   \n",
       "2                  7                      3               3               0   \n",
       "\n",
       "  YearsInCurrentRole  YearsSinceLastPromotion  YearsWithCurrManager  \n",
       "0                  4                        0                     5  \n",
       "1                  7                        1                     7  \n",
       "2                  0                        0                     0  \n",
       "\n",
       "[3 rows x 35 columns]"
      ]
     },
     "execution_count": 2,
     "metadata": {},
     "output_type": "execute_result"
    }
   ],
   "source": [
    "# read the .csv file \n",
    "df = pd.read_csv('Human_Resources.csv')\n",
    "df[:3]"
   ]
  },
  {
   "cell_type": "code",
   "execution_count": 3,
   "metadata": {},
   "outputs": [
    {
     "data": {
      "text/plain": [
       "Index(['Age', 'Attrition', 'BusinessTravel', 'DailyRate', 'Department',\n",
       "       'DistanceFromHome', 'Education', 'EducationField', 'EmployeeCount',\n",
       "       'EmployeeNumber', 'EnvironmentSatisfaction', 'Gender', 'HourlyRate',\n",
       "       'JobInvolvement', 'JobLevel', 'JobRole', 'JobSatisfaction',\n",
       "       'MaritalStatus', 'MonthlyIncome', 'MonthlyRate', 'NumCompaniesWorked',\n",
       "       'Over18', 'OverTime', 'PercentSalaryHike', 'PerformanceRating',\n",
       "       'RelationshipSatisfaction', 'StandardHours', 'StockOptionLevel',\n",
       "       'TotalWorkingYears', 'TrainingTimesLastYear', 'WorkLifeBalance',\n",
       "       'YearsAtCompany', 'YearsInCurrentRole', 'YearsSinceLastPromotion',\n",
       "       'YearsWithCurrManager'],\n",
       "      dtype='object')"
      ]
     },
     "execution_count": 3,
     "metadata": {},
     "output_type": "execute_result"
    }
   ],
   "source": [
    "df.columns"
   ]
  },
  {
   "cell_type": "raw",
   "metadata": {},
   "source": [
    "data describition\n",
    "\n",
    "Age : what is the age of an employee\n",
    "Attrition : employee leaving the office or not\n",
    "Business Travel : foreign travelling on office work\n",
    "DailyRate : day wise your work efficiency\n",
    "Depeartment : which depeartment work domain\n",
    "DistanceFromHome : how much distance from your home to office travelling\n",
    "Education : what is your education qualification in number format\n",
    "EducationField : while your studying what is your base subject you should learn\n",
    "EmployeeCount : employee counting \n",
    "EmployeeNumber : what is you working institution number\n",
    "EnvironmentSatisfaction : work location satisfaction or not\n",
    "Gender : gender male or female\n",
    "HourlyRate : Hour wise employee rating\n",
    "JobInvolvement : "
   ]
  },
  {
   "cell_type": "code",
   "execution_count": 4,
   "metadata": {},
   "outputs": [
    {
     "data": {
      "text/plain": [
       "(1470, 35)"
      ]
     },
     "execution_count": 4,
     "metadata": {},
     "output_type": "execute_result"
    }
   ],
   "source": [
    "df.shape\n",
    "\n",
    "# total 1470 roes and 35 columns"
   ]
  },
  {
   "cell_type": "markdown",
   "metadata": {},
   "source": [
    "### value_counts()"
   ]
  },
  {
   "cell_type": "code",
   "execution_count": 5,
   "metadata": {},
   "outputs": [
    {
     "data": {
      "text/plain": [
       "35    78\n",
       "34    77\n",
       "31    69\n",
       "36    69\n",
       "29    68\n",
       "32    61\n",
       "30    60\n",
       "33    58\n",
       "38    58\n",
       "40    57\n",
       "Name: Age, dtype: int64"
      ]
     },
     "execution_count": 5,
     "metadata": {},
     "output_type": "execute_result"
    }
   ],
   "source": [
    "df.Age.value_counts()[:10]"
   ]
  },
  {
   "cell_type": "code",
   "execution_count": 6,
   "metadata": {},
   "outputs": [
    {
     "data": {
      "text/plain": [
       "No     1233\n",
       "Yes     237\n",
       "Name: Attrition, dtype: int64"
      ]
     },
     "execution_count": 6,
     "metadata": {},
     "output_type": "execute_result"
    }
   ],
   "source": [
    "df.Attrition.value_counts()\n",
    "\n",
    "# employees not leaving there job are 1233 out of 1470\n",
    "# employees leaving there job are 237 out of 1470"
   ]
  },
  {
   "cell_type": "code",
   "execution_count": 7,
   "metadata": {},
   "outputs": [
    {
     "data": {
      "text/plain": [
       "Travel_Rarely        1043\n",
       "Travel_Frequently     277\n",
       "Non-Travel            150\n",
       "Name: BusinessTravel, dtype: int64"
      ]
     },
     "execution_count": 7,
     "metadata": {},
     "output_type": "execute_result"
    }
   ],
   "source": [
    "df.BusinessTravel.value_counts()\n",
    "\n",
    "# every employee as job requirment to go Business Travelling \n",
    "# here 1043 employees can travel but rarely\n",
    "# 277 employees are travel regularly\n",
    "# 150 employees never traveled as an employee"
   ]
  },
  {
   "cell_type": "code",
   "execution_count": 8,
   "metadata": {},
   "outputs": [
    {
     "data": {
      "text/plain": [
       "Research & Development    961\n",
       "Sales                     446\n",
       "Human Resources            63\n",
       "Name: Department, dtype: int64"
      ]
     },
     "execution_count": 8,
     "metadata": {},
     "output_type": "execute_result"
    }
   ],
   "source": [
    "df.Department.value_counts()\n",
    "\n",
    "# research & Development working employees 961\n",
    "# sales employees are 446\n",
    "# Human Reasouces are 63 employees"
   ]
  },
  {
   "cell_type": "code",
   "execution_count": 9,
   "metadata": {},
   "outputs": [
    {
     "data": {
      "text/plain": [
       "3    572\n",
       "4    398\n",
       "2    282\n",
       "1    170\n",
       "5     48\n",
       "Name: Education, dtype: int64"
      ]
     },
     "execution_count": 9,
     "metadata": {},
     "output_type": "execute_result"
    }
   ],
   "source": [
    "df.Education.value_counts()\n",
    "\n",
    "# level wise education numbering\n"
   ]
  },
  {
   "cell_type": "code",
   "execution_count": 10,
   "metadata": {},
   "outputs": [
    {
     "data": {
      "text/plain": [
       "Life Sciences       606\n",
       "Medical             464\n",
       "Marketing           159\n",
       "Technical Degree    132\n",
       "Other                82\n",
       "Human Resources      27\n",
       "Name: EducationField, dtype: int64"
      ]
     },
     "execution_count": 10,
     "metadata": {},
     "output_type": "execute_result"
    }
   ],
   "source": [
    "df.EducationField.value_counts()\n",
    "\n",
    "# as employees depeartment there education back gounds\n",
    "# Life Sciences studyed are 606\n",
    "# Medical studyed 464\n",
    "# Marketing studyed 159\n",
    "# Technical Degreee 132\n",
    "# Human Resourcss 27"
   ]
  },
  {
   "cell_type": "code",
   "execution_count": 11,
   "metadata": {},
   "outputs": [
    {
     "data": {
      "text/plain": [
       "3    453\n",
       "4    446\n",
       "2    287\n",
       "1    284\n",
       "Name: EnvironmentSatisfaction, dtype: int64"
      ]
     },
     "execution_count": 11,
     "metadata": {},
     "output_type": "execute_result"
    }
   ],
   "source": [
    "df.EnvironmentSatisfaction.value_counts()\n",
    "\n",
    "# 4 rating are 446 satisfied employees on there jobs\n",
    "# 1 rating are 284 unsatified employees on there jobs"
   ]
  },
  {
   "cell_type": "code",
   "execution_count": 12,
   "metadata": {},
   "outputs": [
    {
     "data": {
      "text/plain": [
       "Male      882\n",
       "Female    588\n",
       "Name: Gender, dtype: int64"
      ]
     },
     "execution_count": 12,
     "metadata": {},
     "output_type": "execute_result"
    }
   ],
   "source": [
    "df.Gender.value_counts()\n",
    "\n",
    "# in out of 1470 employees male are 882 and female are 588 members"
   ]
  },
  {
   "cell_type": "code",
   "execution_count": 13,
   "metadata": {},
   "outputs": [
    {
     "data": {
      "text/plain": [
       "4    459\n",
       "3    442\n",
       "1    289\n",
       "2    280\n",
       "Name: JobSatisfaction, dtype: int64"
      ]
     },
     "execution_count": 13,
     "metadata": {},
     "output_type": "execute_result"
    }
   ],
   "source": [
    "df.JobSatisfaction.value_counts()\n"
   ]
  },
  {
   "cell_type": "code",
   "execution_count": 14,
   "metadata": {},
   "outputs": [
    {
     "name": "stdout",
     "output_type": "stream",
     "text": [
      "Age ---> 43\n",
      "Attrition ---> 2\n",
      "BusinessTravel ---> 3\n",
      "DailyRate ---> 886\n",
      "Department ---> 3\n",
      "DistanceFromHome ---> 29\n",
      "Education ---> 5\n",
      "EducationField ---> 6\n",
      "EmployeeCount ---> 1\n",
      "EmployeeNumber ---> 1470\n",
      "EnvironmentSatisfaction ---> 4\n",
      "Gender ---> 2\n",
      "HourlyRate ---> 71\n",
      "JobInvolvement ---> 4\n",
      "JobLevel ---> 5\n",
      "JobRole ---> 9\n",
      "JobSatisfaction ---> 4\n",
      "MaritalStatus ---> 3\n",
      "MonthlyIncome ---> 1349\n",
      "MonthlyRate ---> 1427\n",
      "NumCompaniesWorked ---> 10\n",
      "Over18 ---> 1\n",
      "OverTime ---> 2\n",
      "PercentSalaryHike ---> 15\n",
      "PerformanceRating ---> 2\n",
      "RelationshipSatisfaction ---> 4\n",
      "StandardHours ---> 1\n",
      "StockOptionLevel ---> 4\n",
      "TotalWorkingYears ---> 40\n",
      "TrainingTimesLastYear ---> 7\n",
      "WorkLifeBalance ---> 4\n",
      "YearsAtCompany ---> 37\n",
      "YearsInCurrentRole ---> 19\n",
      "YearsSinceLastPromotion ---> 16\n",
      "YearsWithCurrManager ---> 18\n"
     ]
    }
   ],
   "source": [
    "for col in list(df):\n",
    "    print(col,'--->', df[col].nunique())\n",
    "    \n",
    "# each column wise showing the no of unique values"
   ]
  },
  {
   "cell_type": "markdown",
   "metadata": {},
   "source": [
    "### Check the missing values"
   ]
  },
  {
   "cell_type": "code",
   "execution_count": 15,
   "metadata": {},
   "outputs": [
    {
     "data": {
      "text/plain": [
       "Age                         0\n",
       "Attrition                   0\n",
       "BusinessTravel              0\n",
       "DailyRate                   0\n",
       "Department                  0\n",
       "DistanceFromHome            0\n",
       "Education                   0\n",
       "EducationField              0\n",
       "EmployeeCount               0\n",
       "EmployeeNumber              0\n",
       "EnvironmentSatisfaction     0\n",
       "Gender                      0\n",
       "HourlyRate                  0\n",
       "JobInvolvement              0\n",
       "JobLevel                    0\n",
       "JobRole                     0\n",
       "JobSatisfaction             0\n",
       "MaritalStatus               0\n",
       "MonthlyIncome               0\n",
       "MonthlyRate                 0\n",
       "NumCompaniesWorked          0\n",
       "Over18                      0\n",
       "OverTime                    0\n",
       "PercentSalaryHike           0\n",
       "PerformanceRating           0\n",
       "RelationshipSatisfaction    0\n",
       "StandardHours               0\n",
       "StockOptionLevel            0\n",
       "TotalWorkingYears           0\n",
       "TrainingTimesLastYear       0\n",
       "WorkLifeBalance             0\n",
       "YearsAtCompany              0\n",
       "YearsInCurrentRole          0\n",
       "YearsSinceLastPromotion     0\n",
       "YearsWithCurrManager        0\n",
       "dtype: int64"
      ]
     },
     "execution_count": 15,
     "metadata": {},
     "output_type": "execute_result"
    }
   ],
   "source": [
    "df.isnull().sum()\n",
    "\n",
    "# given dataset desn't have any null values"
   ]
  },
  {
   "cell_type": "markdown",
   "metadata": {},
   "source": [
    "### Exploratory Data Analysis"
   ]
  },
  {
   "cell_type": "code",
   "execution_count": 16,
   "metadata": {},
   "outputs": [
    {
     "data": {
      "text/plain": [
       "<AxesSubplot:xlabel='Attrition', ylabel='count'>"
      ]
     },
     "execution_count": 16,
     "metadata": {},
     "output_type": "execute_result"
    },
    {
     "data": {
      "image/png": "[encoded data removed]",
      "text/plain": [
       "<Figure size 432x288 with 1 Axes>"
      ]
     },
     "metadata": {
      "needs_background": "light"
     },
     "output_type": "display_data"
    }
   ],
   "source": [
    "import seaborn as sns\n",
    "sns.countplot(x='Attrition',data=df)"
   ]
  },
  {
   "cell_type": "markdown",
   "metadata": {},
   "source": [
    "#### observation : Attrition 'Yes' means who are leaving employees is nearly 220 employees\n",
    "#### Attrition 'No' means who are staying with the company is nearly 1200 employees"
   ]
  },
  {
   "cell_type": "code",
   "execution_count": 17,
   "metadata": {},
   "outputs": [
    {
     "data": {
      "image/png": "[encoded data removed]",
      "text/plain": [
       "<Figure size 576x576 with 1 Axes>"
      ]
     },
     "metadata": {},
     "output_type": "display_data"
    }
   ],
   "source": [
    "x = df.Attrition.value_counts()\n",
    "\n",
    "plt.figure(figsize=(8,8))\n",
    "\n",
    "plt.pie(x,labels=x.index,colors=['red', 'green'],\n",
    "       wedgeprops={'edgecolor':'black'},\n",
    "       autopct='%1.0f%%',\n",
    "       explode=[0,0.2],\n",
    "       labeldistance=1.2,\n",
    "       shadow=True)\n",
    "\n",
    "plt.legend()\n",
    "plt.show()"
   ]
  },
  {
   "cell_type": "markdown",
   "metadata": {},
   "source": [
    "#### observation : 16% of employees are leaving the jobs and 84%  of employees are stay with the companys"
   ]
  },
  {
   "cell_type": "code",
   "execution_count": 18,
   "metadata": {},
   "outputs": [
    {
     "data": {
      "image/png": "[encoded data removed]",
      "text/plain": [
       "<Figure size 2160x720 with 1 Axes>"
      ]
     },
     "metadata": {
      "needs_background": "light"
     },
     "output_type": "display_data"
    }
   ],
   "source": [
    "plt.figure(figsize=(30,10))\n",
    "sns.countplot(x='Age',data = df, hue='Attrition')\n",
    "plt.show()"
   ]
  },
  {
   "cell_type": "markdown",
   "metadata": {},
   "source": [
    "#### observation : 18 to 22 age employees are mostly leaving or changing there jobs\n",
    "#### 26 to till last age employees are they staying with the company"
   ]
  },
  {
   "cell_type": "code",
   "execution_count": 19,
   "metadata": {},
   "outputs": [
    {
     "data": {
      "text/plain": [
       "<AxesSubplot:xlabel='MonthlyIncome', ylabel='Gender'>"
      ]
     },
     "execution_count": 19,
     "metadata": {},
     "output_type": "execute_result"
    },
    {
     "data": {
      "image/png": "[encoded data removed]",
      "text/plain": [
       "<Figure size 864x576 with 1 Axes>"
      ]
     },
     "metadata": {
      "needs_background": "light"
     },
     "output_type": "display_data"
    }
   ],
   "source": [
    "#compare to salary between Gender wise\n",
    "\n",
    "plt.figure(figsize=(12,8))\n",
    "sns.boxplot(x='MonthlyIncome', y='Gender', data=df)"
   ]
  },
  {
   "cell_type": "code",
   "execution_count": 20,
   "metadata": {},
   "outputs": [
    {
     "data": {
      "text/plain": [
       "<AxesSubplot:xlabel='MonthlyIncome', ylabel='JobRole'>"
      ]
     },
     "execution_count": 20,
     "metadata": {},
     "output_type": "execute_result"
    },
    {
     "data": {
      "image/png": "[encoded data removed]",
      "text/plain": [
       "<Figure size 864x576 with 1 Axes>"
      ]
     },
     "metadata": {
      "needs_background": "light"
     },
     "output_type": "display_data"
    }
   ],
   "source": [
    "# MonthlyIncome and JobRole\n",
    "plt.figure(figsize=(12,8))\n",
    "sns.boxplot(x='MonthlyIncome', y='JobRole', data=df)"
   ]
  },
  {
   "cell_type": "code",
   "execution_count": 21,
   "metadata": {},
   "outputs": [],
   "source": [
    "# first we need to remove un wanted columns in given dataset\n",
    "# EmployeeNumber, EmployeeCount,StandardHours, Over18"
   ]
  },
  {
   "cell_type": "code",
   "execution_count": 22,
   "metadata": {},
   "outputs": [],
   "source": [
    "df.drop(['EmployeeNumber','EmployeeCount','StandardHours','Over18'],axis = 1,inplace=True)"
   ]
  },
  {
   "cell_type": "code",
   "execution_count": 23,
   "metadata": {},
   "outputs": [
    {
     "data": {
      "text/plain": [
       "(1470, 31)"
      ]
     },
     "execution_count": 23,
     "metadata": {},
     "output_type": "execute_result"
    }
   ],
   "source": [
    "df.shape"
   ]
  },
  {
   "cell_type": "code",
   "execution_count": 24,
   "metadata": {},
   "outputs": [
    {
     "data": {
      "text/html": [
       "<div>\n",
       "<style scoped>\n",
       "    .dataframe tbody tr th:only-of-type {\n",
       "        vertical-align: middle;\n",
       "    }\n",
       "\n",
       "    .dataframe tbody tr th {\n",
       "        vertical-align: top;\n",
       "    }\n",
       "\n",
       "    .dataframe thead th {\n",
       "        text-align: right;\n",
       "    }\n",
       "</style>\n",
       "<table border=\"1\" class=\"dataframe\">\n",
       "  <thead>\n",
       "    <tr style=\"text-align: right;\">\n",
       "      <th></th>\n",
       "      <th>Age</th>\n",
       "      <th>DailyRate</th>\n",
       "      <th>DistanceFromHome</th>\n",
       "      <th>Education</th>\n",
       "      <th>EnvironmentSatisfaction</th>\n",
       "      <th>HourlyRate</th>\n",
       "      <th>JobInvolvement</th>\n",
       "      <th>JobLevel</th>\n",
       "      <th>JobSatisfaction</th>\n",
       "      <th>MonthlyIncome</th>\n",
       "      <th>...</th>\n",
       "      <th>PerformanceRating</th>\n",
       "      <th>RelationshipSatisfaction</th>\n",
       "      <th>StockOptionLevel</th>\n",
       "      <th>TotalWorkingYears</th>\n",
       "      <th>TrainingTimesLastYear</th>\n",
       "      <th>WorkLifeBalance</th>\n",
       "      <th>YearsAtCompany</th>\n",
       "      <th>YearsInCurrentRole</th>\n",
       "      <th>YearsSinceLastPromotion</th>\n",
       "      <th>YearsWithCurrManager</th>\n",
       "    </tr>\n",
       "  </thead>\n",
       "  <tbody>\n",
       "    <tr>\n",
       "      <th>Age</th>\n",
       "      <td>1.000000</td>\n",
       "      <td>0.010661</td>\n",
       "      <td>-0.001686</td>\n",
       "      <td>0.208034</td>\n",
       "      <td>0.010146</td>\n",
       "      <td>0.024287</td>\n",
       "      <td>0.029820</td>\n",
       "      <td>0.509604</td>\n",
       "      <td>-0.004892</td>\n",
       "      <td>0.497855</td>\n",
       "      <td>...</td>\n",
       "      <td>0.001904</td>\n",
       "      <td>0.053535</td>\n",
       "      <td>0.037510</td>\n",
       "      <td>0.680381</td>\n",
       "      <td>-0.019621</td>\n",
       "      <td>-0.021490</td>\n",
       "      <td>0.311309</td>\n",
       "      <td>0.212901</td>\n",
       "      <td>0.216513</td>\n",
       "      <td>0.202089</td>\n",
       "    </tr>\n",
       "    <tr>\n",
       "      <th>DailyRate</th>\n",
       "      <td>0.010661</td>\n",
       "      <td>1.000000</td>\n",
       "      <td>-0.004985</td>\n",
       "      <td>-0.016806</td>\n",
       "      <td>0.018355</td>\n",
       "      <td>0.023381</td>\n",
       "      <td>0.046135</td>\n",
       "      <td>0.002966</td>\n",
       "      <td>0.030571</td>\n",
       "      <td>0.007707</td>\n",
       "      <td>...</td>\n",
       "      <td>0.000473</td>\n",
       "      <td>0.007846</td>\n",
       "      <td>0.042143</td>\n",
       "      <td>0.014515</td>\n",
       "      <td>0.002453</td>\n",
       "      <td>-0.037848</td>\n",
       "      <td>-0.034055</td>\n",
       "      <td>0.009932</td>\n",
       "      <td>-0.033229</td>\n",
       "      <td>-0.026363</td>\n",
       "    </tr>\n",
       "    <tr>\n",
       "      <th>DistanceFromHome</th>\n",
       "      <td>-0.001686</td>\n",
       "      <td>-0.004985</td>\n",
       "      <td>1.000000</td>\n",
       "      <td>0.021042</td>\n",
       "      <td>-0.016075</td>\n",
       "      <td>0.031131</td>\n",
       "      <td>0.008783</td>\n",
       "      <td>0.005303</td>\n",
       "      <td>-0.003669</td>\n",
       "      <td>-0.017014</td>\n",
       "      <td>...</td>\n",
       "      <td>0.027110</td>\n",
       "      <td>0.006557</td>\n",
       "      <td>0.044872</td>\n",
       "      <td>0.004628</td>\n",
       "      <td>-0.036942</td>\n",
       "      <td>-0.026556</td>\n",
       "      <td>0.009508</td>\n",
       "      <td>0.018845</td>\n",
       "      <td>0.010029</td>\n",
       "      <td>0.014406</td>\n",
       "    </tr>\n",
       "    <tr>\n",
       "      <th>Education</th>\n",
       "      <td>0.208034</td>\n",
       "      <td>-0.016806</td>\n",
       "      <td>0.021042</td>\n",
       "      <td>1.000000</td>\n",
       "      <td>-0.027128</td>\n",
       "      <td>0.016775</td>\n",
       "      <td>0.042438</td>\n",
       "      <td>0.101589</td>\n",
       "      <td>-0.011296</td>\n",
       "      <td>0.094961</td>\n",
       "      <td>...</td>\n",
       "      <td>-0.024539</td>\n",
       "      <td>-0.009118</td>\n",
       "      <td>0.018422</td>\n",
       "      <td>0.148280</td>\n",
       "      <td>-0.025100</td>\n",
       "      <td>0.009819</td>\n",
       "      <td>0.069114</td>\n",
       "      <td>0.060236</td>\n",
       "      <td>0.054254</td>\n",
       "      <td>0.069065</td>\n",
       "    </tr>\n",
       "    <tr>\n",
       "      <th>EnvironmentSatisfaction</th>\n",
       "      <td>0.010146</td>\n",
       "      <td>0.018355</td>\n",
       "      <td>-0.016075</td>\n",
       "      <td>-0.027128</td>\n",
       "      <td>1.000000</td>\n",
       "      <td>-0.049857</td>\n",
       "      <td>-0.008278</td>\n",
       "      <td>0.001212</td>\n",
       "      <td>-0.006784</td>\n",
       "      <td>-0.006259</td>\n",
       "      <td>...</td>\n",
       "      <td>-0.029548</td>\n",
       "      <td>0.007665</td>\n",
       "      <td>0.003432</td>\n",
       "      <td>-0.002693</td>\n",
       "      <td>-0.019359</td>\n",
       "      <td>0.027627</td>\n",
       "      <td>0.001458</td>\n",
       "      <td>0.018007</td>\n",
       "      <td>0.016194</td>\n",
       "      <td>-0.004999</td>\n",
       "    </tr>\n",
       "    <tr>\n",
       "      <th>HourlyRate</th>\n",
       "      <td>0.024287</td>\n",
       "      <td>0.023381</td>\n",
       "      <td>0.031131</td>\n",
       "      <td>0.016775</td>\n",
       "      <td>-0.049857</td>\n",
       "      <td>1.000000</td>\n",
       "      <td>0.042861</td>\n",
       "      <td>-0.027853</td>\n",
       "      <td>-0.071335</td>\n",
       "      <td>-0.015794</td>\n",
       "      <td>...</td>\n",
       "      <td>-0.002172</td>\n",
       "      <td>0.001330</td>\n",
       "      <td>0.050263</td>\n",
       "      <td>-0.002334</td>\n",
       "      <td>-0.008548</td>\n",
       "      <td>-0.004607</td>\n",
       "      <td>-0.019582</td>\n",
       "      <td>-0.024106</td>\n",
       "      <td>-0.026716</td>\n",
       "      <td>-0.020123</td>\n",
       "    </tr>\n",
       "    <tr>\n",
       "      <th>JobInvolvement</th>\n",
       "      <td>0.029820</td>\n",
       "      <td>0.046135</td>\n",
       "      <td>0.008783</td>\n",
       "      <td>0.042438</td>\n",
       "      <td>-0.008278</td>\n",
       "      <td>0.042861</td>\n",
       "      <td>1.000000</td>\n",
       "      <td>-0.012630</td>\n",
       "      <td>-0.021476</td>\n",
       "      <td>-0.015271</td>\n",
       "      <td>...</td>\n",
       "      <td>-0.029071</td>\n",
       "      <td>0.034297</td>\n",
       "      <td>0.021523</td>\n",
       "      <td>-0.005533</td>\n",
       "      <td>-0.015338</td>\n",
       "      <td>-0.014617</td>\n",
       "      <td>-0.021355</td>\n",
       "      <td>0.008717</td>\n",
       "      <td>-0.024184</td>\n",
       "      <td>0.025976</td>\n",
       "    </tr>\n",
       "    <tr>\n",
       "      <th>JobLevel</th>\n",
       "      <td>0.509604</td>\n",
       "      <td>0.002966</td>\n",
       "      <td>0.005303</td>\n",
       "      <td>0.101589</td>\n",
       "      <td>0.001212</td>\n",
       "      <td>-0.027853</td>\n",
       "      <td>-0.012630</td>\n",
       "      <td>1.000000</td>\n",
       "      <td>-0.001944</td>\n",
       "      <td>0.950300</td>\n",
       "      <td>...</td>\n",
       "      <td>-0.021222</td>\n",
       "      <td>0.021642</td>\n",
       "      <td>0.013984</td>\n",
       "      <td>0.782208</td>\n",
       "      <td>-0.018191</td>\n",
       "      <td>0.037818</td>\n",
       "      <td>0.534739</td>\n",
       "      <td>0.389447</td>\n",
       "      <td>0.353885</td>\n",
       "      <td>0.375281</td>\n",
       "    </tr>\n",
       "    <tr>\n",
       "      <th>JobSatisfaction</th>\n",
       "      <td>-0.004892</td>\n",
       "      <td>0.030571</td>\n",
       "      <td>-0.003669</td>\n",
       "      <td>-0.011296</td>\n",
       "      <td>-0.006784</td>\n",
       "      <td>-0.071335</td>\n",
       "      <td>-0.021476</td>\n",
       "      <td>-0.001944</td>\n",
       "      <td>1.000000</td>\n",
       "      <td>-0.007157</td>\n",
       "      <td>...</td>\n",
       "      <td>0.002297</td>\n",
       "      <td>-0.012454</td>\n",
       "      <td>0.010690</td>\n",
       "      <td>-0.020185</td>\n",
       "      <td>-0.005779</td>\n",
       "      <td>-0.019459</td>\n",
       "      <td>-0.003803</td>\n",
       "      <td>-0.002305</td>\n",
       "      <td>-0.018214</td>\n",
       "      <td>-0.027656</td>\n",
       "    </tr>\n",
       "    <tr>\n",
       "      <th>MonthlyIncome</th>\n",
       "      <td>0.497855</td>\n",
       "      <td>0.007707</td>\n",
       "      <td>-0.017014</td>\n",
       "      <td>0.094961</td>\n",
       "      <td>-0.006259</td>\n",
       "      <td>-0.015794</td>\n",
       "      <td>-0.015271</td>\n",
       "      <td>0.950300</td>\n",
       "      <td>-0.007157</td>\n",
       "      <td>1.000000</td>\n",
       "      <td>...</td>\n",
       "      <td>-0.017120</td>\n",
       "      <td>0.025873</td>\n",
       "      <td>0.005408</td>\n",
       "      <td>0.772893</td>\n",
       "      <td>-0.021736</td>\n",
       "      <td>0.030683</td>\n",
       "      <td>0.514285</td>\n",
       "      <td>0.363818</td>\n",
       "      <td>0.344978</td>\n",
       "      <td>0.344079</td>\n",
       "    </tr>\n",
       "    <tr>\n",
       "      <th>MonthlyRate</th>\n",
       "      <td>0.028051</td>\n",
       "      <td>-0.032182</td>\n",
       "      <td>0.027473</td>\n",
       "      <td>-0.026084</td>\n",
       "      <td>0.037600</td>\n",
       "      <td>-0.015297</td>\n",
       "      <td>-0.016322</td>\n",
       "      <td>0.039563</td>\n",
       "      <td>0.000644</td>\n",
       "      <td>0.034814</td>\n",
       "      <td>...</td>\n",
       "      <td>-0.009811</td>\n",
       "      <td>-0.004085</td>\n",
       "      <td>-0.034323</td>\n",
       "      <td>0.026442</td>\n",
       "      <td>0.001467</td>\n",
       "      <td>0.007963</td>\n",
       "      <td>-0.023655</td>\n",
       "      <td>-0.012815</td>\n",
       "      <td>0.001567</td>\n",
       "      <td>-0.036746</td>\n",
       "    </tr>\n",
       "    <tr>\n",
       "      <th>NumCompaniesWorked</th>\n",
       "      <td>0.299635</td>\n",
       "      <td>0.038153</td>\n",
       "      <td>-0.029251</td>\n",
       "      <td>0.126317</td>\n",
       "      <td>0.012594</td>\n",
       "      <td>0.022157</td>\n",
       "      <td>0.015012</td>\n",
       "      <td>0.142501</td>\n",
       "      <td>-0.055699</td>\n",
       "      <td>0.149515</td>\n",
       "      <td>...</td>\n",
       "      <td>-0.014095</td>\n",
       "      <td>0.052733</td>\n",
       "      <td>0.030075</td>\n",
       "      <td>0.237639</td>\n",
       "      <td>-0.066054</td>\n",
       "      <td>-0.008366</td>\n",
       "      <td>-0.118421</td>\n",
       "      <td>-0.090754</td>\n",
       "      <td>-0.036814</td>\n",
       "      <td>-0.110319</td>\n",
       "    </tr>\n",
       "    <tr>\n",
       "      <th>PercentSalaryHike</th>\n",
       "      <td>0.003634</td>\n",
       "      <td>0.022704</td>\n",
       "      <td>0.040235</td>\n",
       "      <td>-0.011111</td>\n",
       "      <td>-0.031701</td>\n",
       "      <td>-0.009062</td>\n",
       "      <td>-0.017205</td>\n",
       "      <td>-0.034730</td>\n",
       "      <td>0.020002</td>\n",
       "      <td>-0.027269</td>\n",
       "      <td>...</td>\n",
       "      <td>0.773550</td>\n",
       "      <td>-0.040490</td>\n",
       "      <td>0.007528</td>\n",
       "      <td>-0.020608</td>\n",
       "      <td>-0.005221</td>\n",
       "      <td>-0.003280</td>\n",
       "      <td>-0.035991</td>\n",
       "      <td>-0.001520</td>\n",
       "      <td>-0.022154</td>\n",
       "      <td>-0.011985</td>\n",
       "    </tr>\n",
       "    <tr>\n",
       "      <th>PerformanceRating</th>\n",
       "      <td>0.001904</td>\n",
       "      <td>0.000473</td>\n",
       "      <td>0.027110</td>\n",
       "      <td>-0.024539</td>\n",
       "      <td>-0.029548</td>\n",
       "      <td>-0.002172</td>\n",
       "      <td>-0.029071</td>\n",
       "      <td>-0.021222</td>\n",
       "      <td>0.002297</td>\n",
       "      <td>-0.017120</td>\n",
       "      <td>...</td>\n",
       "      <td>1.000000</td>\n",
       "      <td>-0.031351</td>\n",
       "      <td>0.003506</td>\n",
       "      <td>0.006744</td>\n",
       "      <td>-0.015579</td>\n",
       "      <td>0.002572</td>\n",
       "      <td>0.003435</td>\n",
       "      <td>0.034986</td>\n",
       "      <td>0.017896</td>\n",
       "      <td>0.022827</td>\n",
       "    </tr>\n",
       "    <tr>\n",
       "      <th>RelationshipSatisfaction</th>\n",
       "      <td>0.053535</td>\n",
       "      <td>0.007846</td>\n",
       "      <td>0.006557</td>\n",
       "      <td>-0.009118</td>\n",
       "      <td>0.007665</td>\n",
       "      <td>0.001330</td>\n",
       "      <td>0.034297</td>\n",
       "      <td>0.021642</td>\n",
       "      <td>-0.012454</td>\n",
       "      <td>0.025873</td>\n",
       "      <td>...</td>\n",
       "      <td>-0.031351</td>\n",
       "      <td>1.000000</td>\n",
       "      <td>-0.045952</td>\n",
       "      <td>0.024054</td>\n",
       "      <td>0.002497</td>\n",
       "      <td>0.019604</td>\n",
       "      <td>0.019367</td>\n",
       "      <td>-0.015123</td>\n",
       "      <td>0.033493</td>\n",
       "      <td>-0.000867</td>\n",
       "    </tr>\n",
       "    <tr>\n",
       "      <th>StockOptionLevel</th>\n",
       "      <td>0.037510</td>\n",
       "      <td>0.042143</td>\n",
       "      <td>0.044872</td>\n",
       "      <td>0.018422</td>\n",
       "      <td>0.003432</td>\n",
       "      <td>0.050263</td>\n",
       "      <td>0.021523</td>\n",
       "      <td>0.013984</td>\n",
       "      <td>0.010690</td>\n",
       "      <td>0.005408</td>\n",
       "      <td>...</td>\n",
       "      <td>0.003506</td>\n",
       "      <td>-0.045952</td>\n",
       "      <td>1.000000</td>\n",
       "      <td>0.010136</td>\n",
       "      <td>0.011274</td>\n",
       "      <td>0.004129</td>\n",
       "      <td>0.015058</td>\n",
       "      <td>0.050818</td>\n",
       "      <td>0.014352</td>\n",
       "      <td>0.024698</td>\n",
       "    </tr>\n",
       "    <tr>\n",
       "      <th>TotalWorkingYears</th>\n",
       "      <td>0.680381</td>\n",
       "      <td>0.014515</td>\n",
       "      <td>0.004628</td>\n",
       "      <td>0.148280</td>\n",
       "      <td>-0.002693</td>\n",
       "      <td>-0.002334</td>\n",
       "      <td>-0.005533</td>\n",
       "      <td>0.782208</td>\n",
       "      <td>-0.020185</td>\n",
       "      <td>0.772893</td>\n",
       "      <td>...</td>\n",
       "      <td>0.006744</td>\n",
       "      <td>0.024054</td>\n",
       "      <td>0.010136</td>\n",
       "      <td>1.000000</td>\n",
       "      <td>-0.035662</td>\n",
       "      <td>0.001008</td>\n",
       "      <td>0.628133</td>\n",
       "      <td>0.460365</td>\n",
       "      <td>0.404858</td>\n",
       "      <td>0.459188</td>\n",
       "    </tr>\n",
       "    <tr>\n",
       "      <th>TrainingTimesLastYear</th>\n",
       "      <td>-0.019621</td>\n",
       "      <td>0.002453</td>\n",
       "      <td>-0.036942</td>\n",
       "      <td>-0.025100</td>\n",
       "      <td>-0.019359</td>\n",
       "      <td>-0.008548</td>\n",
       "      <td>-0.015338</td>\n",
       "      <td>-0.018191</td>\n",
       "      <td>-0.005779</td>\n",
       "      <td>-0.021736</td>\n",
       "      <td>...</td>\n",
       "      <td>-0.015579</td>\n",
       "      <td>0.002497</td>\n",
       "      <td>0.011274</td>\n",
       "      <td>-0.035662</td>\n",
       "      <td>1.000000</td>\n",
       "      <td>0.028072</td>\n",
       "      <td>0.003569</td>\n",
       "      <td>-0.005738</td>\n",
       "      <td>-0.002067</td>\n",
       "      <td>-0.004096</td>\n",
       "    </tr>\n",
       "    <tr>\n",
       "      <th>WorkLifeBalance</th>\n",
       "      <td>-0.021490</td>\n",
       "      <td>-0.037848</td>\n",
       "      <td>-0.026556</td>\n",
       "      <td>0.009819</td>\n",
       "      <td>0.027627</td>\n",
       "      <td>-0.004607</td>\n",
       "      <td>-0.014617</td>\n",
       "      <td>0.037818</td>\n",
       "      <td>-0.019459</td>\n",
       "      <td>0.030683</td>\n",
       "      <td>...</td>\n",
       "      <td>0.002572</td>\n",
       "      <td>0.019604</td>\n",
       "      <td>0.004129</td>\n",
       "      <td>0.001008</td>\n",
       "      <td>0.028072</td>\n",
       "      <td>1.000000</td>\n",
       "      <td>0.012089</td>\n",
       "      <td>0.049856</td>\n",
       "      <td>0.008941</td>\n",
       "      <td>0.002759</td>\n",
       "    </tr>\n",
       "    <tr>\n",
       "      <th>YearsAtCompany</th>\n",
       "      <td>0.311309</td>\n",
       "      <td>-0.034055</td>\n",
       "      <td>0.009508</td>\n",
       "      <td>0.069114</td>\n",
       "      <td>0.001458</td>\n",
       "      <td>-0.019582</td>\n",
       "      <td>-0.021355</td>\n",
       "      <td>0.534739</td>\n",
       "      <td>-0.003803</td>\n",
       "      <td>0.514285</td>\n",
       "      <td>...</td>\n",
       "      <td>0.003435</td>\n",
       "      <td>0.019367</td>\n",
       "      <td>0.015058</td>\n",
       "      <td>0.628133</td>\n",
       "      <td>0.003569</td>\n",
       "      <td>0.012089</td>\n",
       "      <td>1.000000</td>\n",
       "      <td>0.758754</td>\n",
       "      <td>0.618409</td>\n",
       "      <td>0.769212</td>\n",
       "    </tr>\n",
       "    <tr>\n",
       "      <th>YearsInCurrentRole</th>\n",
       "      <td>0.212901</td>\n",
       "      <td>0.009932</td>\n",
       "      <td>0.018845</td>\n",
       "      <td>0.060236</td>\n",
       "      <td>0.018007</td>\n",
       "      <td>-0.024106</td>\n",
       "      <td>0.008717</td>\n",
       "      <td>0.389447</td>\n",
       "      <td>-0.002305</td>\n",
       "      <td>0.363818</td>\n",
       "      <td>...</td>\n",
       "      <td>0.034986</td>\n",
       "      <td>-0.015123</td>\n",
       "      <td>0.050818</td>\n",
       "      <td>0.460365</td>\n",
       "      <td>-0.005738</td>\n",
       "      <td>0.049856</td>\n",
       "      <td>0.758754</td>\n",
       "      <td>1.000000</td>\n",
       "      <td>0.548056</td>\n",
       "      <td>0.714365</td>\n",
       "    </tr>\n",
       "    <tr>\n",
       "      <th>YearsSinceLastPromotion</th>\n",
       "      <td>0.216513</td>\n",
       "      <td>-0.033229</td>\n",
       "      <td>0.010029</td>\n",
       "      <td>0.054254</td>\n",
       "      <td>0.016194</td>\n",
       "      <td>-0.026716</td>\n",
       "      <td>-0.024184</td>\n",
       "      <td>0.353885</td>\n",
       "      <td>-0.018214</td>\n",
       "      <td>0.344978</td>\n",
       "      <td>...</td>\n",
       "      <td>0.017896</td>\n",
       "      <td>0.033493</td>\n",
       "      <td>0.014352</td>\n",
       "      <td>0.404858</td>\n",
       "      <td>-0.002067</td>\n",
       "      <td>0.008941</td>\n",
       "      <td>0.618409</td>\n",
       "      <td>0.548056</td>\n",
       "      <td>1.000000</td>\n",
       "      <td>0.510224</td>\n",
       "    </tr>\n",
       "    <tr>\n",
       "      <th>YearsWithCurrManager</th>\n",
       "      <td>0.202089</td>\n",
       "      <td>-0.026363</td>\n",
       "      <td>0.014406</td>\n",
       "      <td>0.069065</td>\n",
       "      <td>-0.004999</td>\n",
       "      <td>-0.020123</td>\n",
       "      <td>0.025976</td>\n",
       "      <td>0.375281</td>\n",
       "      <td>-0.027656</td>\n",
       "      <td>0.344079</td>\n",
       "      <td>...</td>\n",
       "      <td>0.022827</td>\n",
       "      <td>-0.000867</td>\n",
       "      <td>0.024698</td>\n",
       "      <td>0.459188</td>\n",
       "      <td>-0.004096</td>\n",
       "      <td>0.002759</td>\n",
       "      <td>0.769212</td>\n",
       "      <td>0.714365</td>\n",
       "      <td>0.510224</td>\n",
       "      <td>1.000000</td>\n",
       "    </tr>\n",
       "  </tbody>\n",
       "</table>\n",
       "<p>23 rows × 23 columns</p>\n",
       "</div>"
      ],
      "text/plain": [
       "                               Age  DailyRate  DistanceFromHome  Education  \\\n",
       "Age                       1.000000   0.010661         -0.001686   0.208034   \n",
       "DailyRate                 0.010661   1.000000         -0.004985  -0.016806   \n",
       "DistanceFromHome         -0.001686  -0.004985          1.000000   0.021042   \n",
       "Education                 0.208034  -0.016806          0.021042   1.000000   \n",
       "EnvironmentSatisfaction   0.010146   0.018355         -0.016075  -0.027128   \n",
       "HourlyRate                0.024287   0.023381          0.031131   0.016775   \n",
       "JobInvolvement            0.029820   0.046135          0.008783   0.042438   \n",
       "JobLevel                  0.509604   0.002966          0.005303   0.101589   \n",
       "JobSatisfaction          -0.004892   0.030571         -0.003669  -0.011296   \n",
       "MonthlyIncome             0.497855   0.007707         -0.017014   0.094961   \n",
       "MonthlyRate               0.028051  -0.032182          0.027473  -0.026084   \n",
       "NumCompaniesWorked        0.299635   0.038153         -0.029251   0.126317   \n",
       "PercentSalaryHike         0.003634   0.022704          0.040235  -0.011111   \n",
       "PerformanceRating         0.001904   0.000473          0.027110  -0.024539   \n",
       "RelationshipSatisfaction  0.053535   0.007846          0.006557  -0.009118   \n",
       "StockOptionLevel          0.037510   0.042143          0.044872   0.018422   \n",
       "TotalWorkingYears         0.680381   0.014515          0.004628   0.148280   \n",
       "TrainingTimesLastYear    -0.019621   0.002453         -0.036942  -0.025100   \n",
       "WorkLifeBalance          -0.021490  -0.037848         -0.026556   0.009819   \n",
       "YearsAtCompany            0.311309  -0.034055          0.009508   0.069114   \n",
       "YearsInCurrentRole        0.212901   0.009932          0.018845   0.060236   \n",
       "YearsSinceLastPromotion   0.216513  -0.033229          0.010029   0.054254   \n",
       "YearsWithCurrManager      0.202089  -0.026363          0.014406   0.069065   \n",
       "\n",
       "                          EnvironmentSatisfaction  HourlyRate  JobInvolvement  \\\n",
       "Age                                      0.010146    0.024287        0.029820   \n",
       "DailyRate                                0.018355    0.023381        0.046135   \n",
       "DistanceFromHome                        -0.016075    0.031131        0.008783   \n",
       "Education                               -0.027128    0.016775        0.042438   \n",
       "EnvironmentSatisfaction                  1.000000   -0.049857       -0.008278   \n",
       "HourlyRate                              -0.049857    1.000000        0.042861   \n",
       "JobInvolvement                          -0.008278    0.042861        1.000000   \n",
       "JobLevel                                 0.001212   -0.027853       -0.012630   \n",
       "JobSatisfaction                         -0.006784   -0.071335       -0.021476   \n",
       "MonthlyIncome                           -0.006259   -0.015794       -0.015271   \n",
       "MonthlyRate                              0.037600   -0.015297       -0.016322   \n",
       "NumCompaniesWorked                       0.012594    0.022157        0.015012   \n",
       "PercentSalaryHike                       -0.031701   -0.009062       -0.017205   \n",
       "PerformanceRating                       -0.029548   -0.002172       -0.029071   \n",
       "RelationshipSatisfaction                 0.007665    0.001330        0.034297   \n",
       "StockOptionLevel                         0.003432    0.050263        0.021523   \n",
       "TotalWorkingYears                       -0.002693   -0.002334       -0.005533   \n",
       "TrainingTimesLastYear                   -0.019359   -0.008548       -0.015338   \n",
       "WorkLifeBalance                          0.027627   -0.004607       -0.014617   \n",
       "YearsAtCompany                           0.001458   -0.019582       -0.021355   \n",
       "YearsInCurrentRole                       0.018007   -0.024106        0.008717   \n",
       "YearsSinceLastPromotion                  0.016194   -0.026716       -0.024184   \n",
       "YearsWithCurrManager                    -0.004999   -0.020123        0.025976   \n",
       "\n",
       "                          JobLevel  JobSatisfaction  MonthlyIncome  ...  \\\n",
       "Age                       0.509604        -0.004892       0.497855  ...   \n",
       "DailyRate                 0.002966         0.030571       0.007707  ...   \n",
       "DistanceFromHome          0.005303        -0.003669      -0.017014  ...   \n",
       "Education                 0.101589        -0.011296       0.094961  ...   \n",
       "EnvironmentSatisfaction   0.001212        -0.006784      -0.006259  ...   \n",
       "HourlyRate               -0.027853        -0.071335      -0.015794  ...   \n",
       "JobInvolvement           -0.012630        -0.021476      -0.015271  ...   \n",
       "JobLevel                  1.000000        -0.001944       0.950300  ...   \n",
       "JobSatisfaction          -0.001944         1.000000      -0.007157  ...   \n",
       "MonthlyIncome             0.950300        -0.007157       1.000000  ...   \n",
       "MonthlyRate               0.039563         0.000644       0.034814  ...   \n",
       "NumCompaniesWorked        0.142501        -0.055699       0.149515  ...   \n",
       "PercentSalaryHike        -0.034730         0.020002      -0.027269  ...   \n",
       "PerformanceRating        -0.021222         0.002297      -0.017120  ...   \n",
       "RelationshipSatisfaction  0.021642        -0.012454       0.025873  ...   \n",
       "StockOptionLevel          0.013984         0.010690       0.005408  ...   \n",
       "TotalWorkingYears         0.782208        -0.020185       0.772893  ...   \n",
       "TrainingTimesLastYear    -0.018191        -0.005779      -0.021736  ...   \n",
       "WorkLifeBalance           0.037818        -0.019459       0.030683  ...   \n",
       "YearsAtCompany            0.534739        -0.003803       0.514285  ...   \n",
       "YearsInCurrentRole        0.389447        -0.002305       0.363818  ...   \n",
       "YearsSinceLastPromotion   0.353885        -0.018214       0.344978  ...   \n",
       "YearsWithCurrManager      0.375281        -0.027656       0.344079  ...   \n",
       "\n",
       "                          PerformanceRating  RelationshipSatisfaction  \\\n",
       "Age                                0.001904                  0.053535   \n",
       "DailyRate                          0.000473                  0.007846   \n",
       "DistanceFromHome                   0.027110                  0.006557   \n",
       "Education                         -0.024539                 -0.009118   \n",
       "EnvironmentSatisfaction           -0.029548                  0.007665   \n",
       "HourlyRate                        -0.002172                  0.001330   \n",
       "JobInvolvement                    -0.029071                  0.034297   \n",
       "JobLevel                          -0.021222                  0.021642   \n",
       "JobSatisfaction                    0.002297                 -0.012454   \n",
       "MonthlyIncome                     -0.017120                  0.025873   \n",
       "MonthlyRate                       -0.009811                 -0.004085   \n",
       "NumCompaniesWorked                -0.014095                  0.052733   \n",
       "PercentSalaryHike                  0.773550                 -0.040490   \n",
       "PerformanceRating                  1.000000                 -0.031351   \n",
       "RelationshipSatisfaction          -0.031351                  1.000000   \n",
       "StockOptionLevel                   0.003506                 -0.045952   \n",
       "TotalWorkingYears                  0.006744                  0.024054   \n",
       "TrainingTimesLastYear             -0.015579                  0.002497   \n",
       "WorkLifeBalance                    0.002572                  0.019604   \n",
       "YearsAtCompany                     0.003435                  0.019367   \n",
       "YearsInCurrentRole                 0.034986                 -0.015123   \n",
       "YearsSinceLastPromotion            0.017896                  0.033493   \n",
       "YearsWithCurrManager               0.022827                 -0.000867   \n",
       "\n",
       "                          StockOptionLevel  TotalWorkingYears  \\\n",
       "Age                               0.037510           0.680381   \n",
       "DailyRate                         0.042143           0.014515   \n",
       "DistanceFromHome                  0.044872           0.004628   \n",
       "Education                         0.018422           0.148280   \n",
       "EnvironmentSatisfaction           0.003432          -0.002693   \n",
       "HourlyRate                        0.050263          -0.002334   \n",
       "JobInvolvement                    0.021523          -0.005533   \n",
       "JobLevel                          0.013984           0.782208   \n",
       "JobSatisfaction                   0.010690          -0.020185   \n",
       "MonthlyIncome                     0.005408           0.772893   \n",
       "MonthlyRate                      -0.034323           0.026442   \n",
       "NumCompaniesWorked                0.030075           0.237639   \n",
       "PercentSalaryHike                 0.007528          -0.020608   \n",
       "PerformanceRating                 0.003506           0.006744   \n",
       "RelationshipSatisfaction         -0.045952           0.024054   \n",
       "StockOptionLevel                  1.000000           0.010136   \n",
       "TotalWorkingYears                 0.010136           1.000000   \n",
       "TrainingTimesLastYear             0.011274          -0.035662   \n",
       "WorkLifeBalance                   0.004129           0.001008   \n",
       "YearsAtCompany                    0.015058           0.628133   \n",
       "YearsInCurrentRole                0.050818           0.460365   \n",
       "YearsSinceLastPromotion           0.014352           0.404858   \n",
       "YearsWithCurrManager              0.024698           0.459188   \n",
       "\n",
       "                          TrainingTimesLastYear  WorkLifeBalance  \\\n",
       "Age                                   -0.019621        -0.021490   \n",
       "DailyRate                              0.002453        -0.037848   \n",
       "DistanceFromHome                      -0.036942        -0.026556   \n",
       "Education                             -0.025100         0.009819   \n",
       "EnvironmentSatisfaction               -0.019359         0.027627   \n",
       "HourlyRate                            -0.008548        -0.004607   \n",
       "JobInvolvement                        -0.015338        -0.014617   \n",
       "JobLevel                              -0.018191         0.037818   \n",
       "JobSatisfaction                       -0.005779        -0.019459   \n",
       "MonthlyIncome                         -0.021736         0.030683   \n",
       "MonthlyRate                            0.001467         0.007963   \n",
       "NumCompaniesWorked                    -0.066054        -0.008366   \n",
       "PercentSalaryHike                     -0.005221        -0.003280   \n",
       "PerformanceRating                     -0.015579         0.002572   \n",
       "RelationshipSatisfaction               0.002497         0.019604   \n",
       "StockOptionLevel                       0.011274         0.004129   \n",
       "TotalWorkingYears                     -0.035662         0.001008   \n",
       "TrainingTimesLastYear                  1.000000         0.028072   \n",
       "WorkLifeBalance                        0.028072         1.000000   \n",
       "YearsAtCompany                         0.003569         0.012089   \n",
       "YearsInCurrentRole                    -0.005738         0.049856   \n",
       "YearsSinceLastPromotion               -0.002067         0.008941   \n",
       "YearsWithCurrManager                  -0.004096         0.002759   \n",
       "\n",
       "                          YearsAtCompany  YearsInCurrentRole  \\\n",
       "Age                             0.311309            0.212901   \n",
       "DailyRate                      -0.034055            0.009932   \n",
       "DistanceFromHome                0.009508            0.018845   \n",
       "Education                       0.069114            0.060236   \n",
       "EnvironmentSatisfaction         0.001458            0.018007   \n",
       "HourlyRate                     -0.019582           -0.024106   \n",
       "JobInvolvement                 -0.021355            0.008717   \n",
       "JobLevel                        0.534739            0.389447   \n",
       "JobSatisfaction                -0.003803           -0.002305   \n",
       "MonthlyIncome                   0.514285            0.363818   \n",
       "MonthlyRate                    -0.023655           -0.012815   \n",
       "NumCompaniesWorked             -0.118421           -0.090754   \n",
       "PercentSalaryHike              -0.035991           -0.001520   \n",
       "PerformanceRating               0.003435            0.034986   \n",
       "RelationshipSatisfaction        0.019367           -0.015123   \n",
       "StockOptionLevel                0.015058            0.050818   \n",
       "TotalWorkingYears               0.628133            0.460365   \n",
       "TrainingTimesLastYear           0.003569           -0.005738   \n",
       "WorkLifeBalance                 0.012089            0.049856   \n",
       "YearsAtCompany                  1.000000            0.758754   \n",
       "YearsInCurrentRole              0.758754            1.000000   \n",
       "YearsSinceLastPromotion         0.618409            0.548056   \n",
       "YearsWithCurrManager            0.769212            0.714365   \n",
       "\n",
       "                          YearsSinceLastPromotion  YearsWithCurrManager  \n",
       "Age                                      0.216513              0.202089  \n",
       "DailyRate                               -0.033229             -0.026363  \n",
       "DistanceFromHome                         0.010029              0.014406  \n",
       "Education                                0.054254              0.069065  \n",
       "EnvironmentSatisfaction                  0.016194             -0.004999  \n",
       "HourlyRate                              -0.026716             -0.020123  \n",
       "JobInvolvement                          -0.024184              0.025976  \n",
       "JobLevel                                 0.353885              0.375281  \n",
       "JobSatisfaction                         -0.018214             -0.027656  \n",
       "MonthlyIncome                            0.344978              0.344079  \n",
       "MonthlyRate                              0.001567             -0.036746  \n",
       "NumCompaniesWorked                      -0.036814             -0.110319  \n",
       "PercentSalaryHike                       -0.022154             -0.011985  \n",
       "PerformanceRating                        0.017896              0.022827  \n",
       "RelationshipSatisfaction                 0.033493             -0.000867  \n",
       "StockOptionLevel                         0.014352              0.024698  \n",
       "TotalWorkingYears                        0.404858              0.459188  \n",
       "TrainingTimesLastYear                   -0.002067             -0.004096  \n",
       "WorkLifeBalance                          0.008941              0.002759  \n",
       "YearsAtCompany                           0.618409              0.769212  \n",
       "YearsInCurrentRole                       0.548056              0.714365  \n",
       "YearsSinceLastPromotion                  1.000000              0.510224  \n",
       "YearsWithCurrManager                     0.510224              1.000000  \n",
       "\n",
       "[23 rows x 23 columns]"
      ]
     },
     "execution_count": 24,
     "metadata": {},
     "output_type": "execute_result"
    }
   ],
   "source": [
    "df.corr()"
   ]
  },
  {
   "cell_type": "code",
   "execution_count": 25,
   "metadata": {},
   "outputs": [
    {
     "data": {
      "text/plain": [
       "<AxesSubplot:>"
      ]
     },
     "execution_count": 25,
     "metadata": {},
     "output_type": "execute_result"
    },
    {
     "data": {
      "image/png": "[encoded data removed]",
      "text/plain": [
       "<Figure size 1080x936 with 2 Axes>"
      ]
     },
     "metadata": {
      "needs_background": "light"
     },
     "output_type": "display_data"
    }
   ],
   "source": [
    "plt.figure(figsize = (15,13))\n",
    "sns.heatmap(df.corr(),cmap='Greens',annot=True)"
   ]
  },
  {
   "cell_type": "markdown",
   "metadata": {},
   "source": [
    "### Encoding the columns"
   ]
  },
  {
   "cell_type": "code",
   "execution_count": 26,
   "metadata": {},
   "outputs": [
    {
     "data": {
      "text/plain": [
       "Age                          int64\n",
       "Attrition                   object\n",
       "BusinessTravel              object\n",
       "DailyRate                    int64\n",
       "Department                  object\n",
       "DistanceFromHome             int64\n",
       "Education                    int64\n",
       "EducationField              object\n",
       "EnvironmentSatisfaction      int64\n",
       "Gender                      object\n",
       "HourlyRate                   int64\n",
       "JobInvolvement               int64\n",
       "JobLevel                     int64\n",
       "JobRole                     object\n",
       "JobSatisfaction              int64\n",
       "MaritalStatus               object\n",
       "MonthlyIncome                int64\n",
       "MonthlyRate                  int64\n",
       "NumCompaniesWorked           int64\n",
       "OverTime                    object\n",
       "PercentSalaryHike            int64\n",
       "PerformanceRating            int64\n",
       "RelationshipSatisfaction     int64\n",
       "StockOptionLevel             int64\n",
       "TotalWorkingYears            int64\n",
       "TrainingTimesLastYear        int64\n",
       "WorkLifeBalance              int64\n",
       "YearsAtCompany               int64\n",
       "YearsInCurrentRole           int64\n",
       "YearsSinceLastPromotion      int64\n",
       "YearsWithCurrManager         int64\n",
       "dtype: object"
      ]
     },
     "execution_count": 26,
     "metadata": {},
     "output_type": "execute_result"
    }
   ],
   "source": [
    "df.dtypes"
   ]
  },
  {
   "cell_type": "raw",
   "metadata": {},
   "source": [
    " the objective columns are divided into 2 types\n",
    " 1.ordinal in this dataset we have 'Gender', 'ovetime' columns aare using labelencoder()\n",
    " 2.nominal \"BusinessTravel\", \"Department\", \"JobRole\", \"MaritalStatus\", \"EducationField\" columns are in using onehotencoder() or get_dummies()\n"
   ]
  },
  {
   "cell_type": "markdown",
   "metadata": {},
   "source": [
    "#### get_dummies()"
   ]
  },
  {
   "cell_type": "code",
   "execution_count": 27,
   "metadata": {},
   "outputs": [],
   "source": [
    "# create one list of columns\n",
    "col = df[[\"BusinessTravel\", \"Department\", \"JobRole\", \"MaritalStatus\", \"EducationField\"]]\n",
    "dummy = pd.get_dummies(col,drop_first=True)"
   ]
  },
  {
   "cell_type": "code",
   "execution_count": 28,
   "metadata": {},
   "outputs": [],
   "source": [
    "#concatinate with the df and dummy columns and remove the coverted columns\n",
    "\n",
    "df_emp = pd.concat([df,dummy],axis=1)"
   ]
  },
  {
   "cell_type": "code",
   "execution_count": 29,
   "metadata": {},
   "outputs": [],
   "source": [
    "df_emp.drop([\"BusinessTravel\", \"Department\", \"JobRole\", \"MaritalStatus\", \"EducationField\"],axis=1,inplace=True)"
   ]
  },
  {
   "cell_type": "markdown",
   "metadata": {},
   "source": [
    "#### LabelEncoder()"
   ]
  },
  {
   "cell_type": "code",
   "execution_count": 30,
   "metadata": {},
   "outputs": [],
   "source": [
    "from sklearn.preprocessing import LabelEncoder\n",
    "le = LabelEncoder()\n",
    "\n",
    "df_emp['Attrition'] = le.fit_transform(df_emp['Attrition'])\n",
    "df_emp['Gender'] = le.fit_transform(df_emp['Gender'])\n",
    "df_emp['OverTime'] = le.fit_transform(df_emp['OverTime'])"
   ]
  },
  {
   "cell_type": "code",
   "execution_count": 31,
   "metadata": {},
   "outputs": [
    {
     "data": {
      "text/plain": [
       "Age                                  int64\n",
       "Attrition                            int32\n",
       "DailyRate                            int64\n",
       "DistanceFromHome                     int64\n",
       "Education                            int64\n",
       "EnvironmentSatisfaction              int64\n",
       "Gender                               int32\n",
       "HourlyRate                           int64\n",
       "JobInvolvement                       int64\n",
       "JobLevel                             int64\n",
       "JobSatisfaction                      int64\n",
       "MonthlyIncome                        int64\n",
       "MonthlyRate                          int64\n",
       "NumCompaniesWorked                   int64\n",
       "OverTime                             int32\n",
       "PercentSalaryHike                    int64\n",
       "PerformanceRating                    int64\n",
       "RelationshipSatisfaction             int64\n",
       "StockOptionLevel                     int64\n",
       "TotalWorkingYears                    int64\n",
       "TrainingTimesLastYear                int64\n",
       "WorkLifeBalance                      int64\n",
       "YearsAtCompany                       int64\n",
       "YearsInCurrentRole                   int64\n",
       "YearsSinceLastPromotion              int64\n",
       "YearsWithCurrManager                 int64\n",
       "BusinessTravel_Travel_Frequently     uint8\n",
       "BusinessTravel_Travel_Rarely         uint8\n",
       "Department_Research & Development    uint8\n",
       "Department_Sales                     uint8\n",
       "JobRole_Human Resources              uint8\n",
       "JobRole_Laboratory Technician        uint8\n",
       "JobRole_Manager                      uint8\n",
       "JobRole_Manufacturing Director       uint8\n",
       "JobRole_Research Director            uint8\n",
       "JobRole_Research Scientist           uint8\n",
       "JobRole_Sales Executive              uint8\n",
       "JobRole_Sales Representative         uint8\n",
       "MaritalStatus_Married                uint8\n",
       "MaritalStatus_Single                 uint8\n",
       "EducationField_Life Sciences         uint8\n",
       "EducationField_Marketing             uint8\n",
       "EducationField_Medical               uint8\n",
       "EducationField_Other                 uint8\n",
       "EducationField_Technical Degree      uint8\n",
       "dtype: object"
      ]
     },
     "execution_count": 31,
     "metadata": {},
     "output_type": "execute_result"
    }
   ],
   "source": [
    "df_emp.dtypes"
   ]
  },
  {
   "cell_type": "markdown",
   "metadata": {},
   "source": [
    "### divied the dataset into indepedent and dependent variable"
   ]
  },
  {
   "cell_type": "code",
   "execution_count": 32,
   "metadata": {},
   "outputs": [
    {
     "data": {
      "text/plain": [
       "(   Age  DailyRate  DistanceFromHome  Education  EnvironmentSatisfaction  \\\n",
       " 0   41       1102                 1          2                        2   \n",
       " 1   49        279                 8          1                        3   \n",
       " \n",
       "    Gender  HourlyRate  JobInvolvement  JobLevel  JobSatisfaction  ...  \\\n",
       " 0       0          94               3         2                4  ...   \n",
       " 1       1          61               2         2                2  ...   \n",
       " \n",
       "    JobRole_Research Scientist  JobRole_Sales Executive  \\\n",
       " 0                           0                        1   \n",
       " 1                           1                        0   \n",
       " \n",
       "    JobRole_Sales Representative  MaritalStatus_Married  MaritalStatus_Single  \\\n",
       " 0                             0                      0                     1   \n",
       " 1                             0                      1                     0   \n",
       " \n",
       "    EducationField_Life Sciences  EducationField_Marketing  \\\n",
       " 0                             1                         0   \n",
       " 1                             1                         0   \n",
       " \n",
       "    EducationField_Medical  EducationField_Other  \\\n",
       " 0                       0                     0   \n",
       " 1                       0                     0   \n",
       " \n",
       "    EducationField_Technical Degree  \n",
       " 0                                0  \n",
       " 1                                0  \n",
       " \n",
       " [2 rows x 44 columns],\n",
       " 0    1\n",
       " 1    0\n",
       " Name: Attrition, dtype: int32)"
      ]
     },
     "execution_count": 32,
     "metadata": {},
     "output_type": "execute_result"
    }
   ],
   "source": [
    "x = df_emp.drop(['Attrition'],axis=1)\n",
    "y = df_emp['Attrition']\n",
    "\n",
    "x[:2],y[:2]"
   ]
  },
  {
   "cell_type": "markdown",
   "metadata": {},
   "source": [
    "### Splitting the data in train test"
   ]
  },
  {
   "cell_type": "code",
   "execution_count": 33,
   "metadata": {},
   "outputs": [
    {
     "name": "stdout",
     "output_type": "stream",
     "text": [
      "1470\n",
      "1176\n",
      "294\n"
     ]
    }
   ],
   "source": [
    "from sklearn.model_selection import train_test_split\n",
    "x_train, x_test, y_train, y_test = train_test_split(x,y,test_size = 0.2, random_state=False)\n",
    "\n",
    "print(len(x))\n",
    "print(len(x_train))\n",
    "print(len(x_test))"
   ]
  },
  {
   "cell_type": "markdown",
   "metadata": {},
   "source": [
    "### Feature Scalling"
   ]
  },
  {
   "cell_type": "code",
   "execution_count": 34,
   "metadata": {},
   "outputs": [],
   "source": [
    "from sklearn.preprocessing import MinMaxScaler\n",
    "scale = MinMaxScaler()\n",
    "x_train = scale.fit_transform(x_train)\n",
    "x_test = scale.transform(x_test)"
   ]
  },
  {
   "cell_type": "code",
   "execution_count": 35,
   "metadata": {},
   "outputs": [
    {
     "data": {
      "text/plain": [
       "array([[0.95238095, 0.35913978, 0.71428571, 0.5       , 1.        ,\n",
       "        0.        , 0.6       , 0.66666667, 0.75      , 1.        ,\n",
       "        0.88815166, 0.38815499, 0.44444444, 1.        , 0.14285714,\n",
       "        0.        , 0.66666667, 0.33333333, 0.725     , 0.33333333,\n",
       "        0.33333333, 0.025     , 0.        , 0.        , 0.        ,\n",
       "        0.        , 1.        , 0.        , 1.        , 0.        ,\n",
       "        0.        , 1.        , 0.        , 0.        , 0.        ,\n",
       "        0.        , 0.        , 1.        , 0.        , 1.        ,\n",
       "        0.        , 0.        , 0.        , 0.        ],\n",
       "       [0.64285714, 0.60645161, 0.96428571, 0.5       , 1.        ,\n",
       "        1.        , 0.95714286, 0.66666667, 0.        , 1.        ,\n",
       "        0.05913639, 0.10002008, 0.44444444, 0.        , 0.64285714,\n",
       "        1.        , 1.        , 0.33333333, 0.2       , 0.5       ,\n",
       "        0.66666667, 0.125     , 0.22222222, 0.        , 0.17647059,\n",
       "        0.        , 1.        , 1.        , 0.        , 0.        ,\n",
       "        0.        , 0.        , 0.        , 0.        , 1.        ,\n",
       "        0.        , 0.        , 1.        , 0.        , 0.        ,\n",
       "        0.        , 0.        , 0.        , 1.        ]])"
      ]
     },
     "execution_count": 35,
     "metadata": {},
     "output_type": "execute_result"
    }
   ],
   "source": [
    "x_train[:2]"
   ]
  },
  {
   "cell_type": "markdown",
   "metadata": {},
   "source": [
    "#### in the data have to contain the employee is staying or leaving the company it is the classification problem and it is a binary class classification."
   ]
  },
  {
   "cell_type": "markdown",
   "metadata": {},
   "source": [
    "### Logistic regression"
   ]
  },
  {
   "cell_type": "code",
   "execution_count": 36,
   "metadata": {},
   "outputs": [
    {
     "data": {
      "text/plain": [
       "LogisticRegression()"
      ]
     },
     "execution_count": 36,
     "metadata": {},
     "output_type": "execute_result"
    }
   ],
   "source": [
    "from sklearn.linear_model import LogisticRegression\n",
    "log = LogisticRegression()    # call an object\n",
    "\n",
    "log.fit(x_train,y_train)      # fitting the x_train , y_train values in logistic regression"
   ]
  },
  {
   "cell_type": "code",
   "execution_count": 37,
   "metadata": {},
   "outputs": [
    {
     "data": {
      "text/plain": [
       "array([0, 0, 1, 0, 1, 0, 0, 0, 0, 0, 0, 0, 0, 1, 0, 0, 0, 0, 0, 0, 0, 0,\n",
       "       0, 0, 1, 0, 0, 0, 1, 0, 0, 0, 0, 0, 0, 0, 0, 0, 0, 0, 0, 0, 0, 0,\n",
       "       0, 1, 0, 0, 0, 0, 0, 1, 0, 0, 1, 0, 0, 0, 0, 0, 0, 0, 0, 0, 0, 0,\n",
       "       0, 0, 0, 0, 0, 0, 0, 0, 0, 0, 0, 0, 0, 0, 0, 0, 0, 0, 0, 0, 0, 0,\n",
       "       0, 0, 0, 0, 0, 0, 0, 0, 0, 1, 0, 0, 0, 1, 0, 0, 0, 0, 0, 0, 0, 0,\n",
       "       0, 0, 0, 0, 0, 0, 0, 0, 0, 0, 0, 0, 0, 1, 0, 0, 0, 0, 0, 0, 0, 0,\n",
       "       1, 0, 0, 0, 1, 0, 0, 1, 0, 0, 0, 0, 0, 0, 0, 0, 0, 0, 0, 0, 0, 0,\n",
       "       0, 0, 0, 0, 0, 0, 1, 0, 0, 1, 0, 0, 0, 0, 0, 0, 0, 0, 0, 0, 0, 0,\n",
       "       0, 0, 0, 0, 0, 0, 0, 1, 0, 0, 0, 0, 0, 0, 0, 0, 0, 0, 0, 0, 0, 0,\n",
       "       0, 0, 0, 0, 1, 0, 0, 0, 0, 0, 0, 0, 0, 0, 0, 0, 0, 0, 0, 0, 0, 0,\n",
       "       0, 0, 1, 0, 0, 0, 0, 0, 1, 0, 0, 0, 0, 0, 0, 0, 0, 0, 0, 0, 0, 0,\n",
       "       0, 0, 0, 0, 0, 0, 0, 0, 0, 0, 1, 0, 0, 0, 0, 1, 1, 0, 0, 0, 0, 0,\n",
       "       0, 0, 0, 0, 1, 0, 0, 0, 0, 0, 0, 0, 0, 0, 0, 0, 1, 0, 0, 0, 0, 0,\n",
       "       0, 0, 0, 0, 0, 1, 0, 0])"
      ]
     },
     "execution_count": 37,
     "metadata": {},
     "output_type": "execute_result"
    }
   ],
   "source": [
    "#prediction by test datas set\n",
    "\n",
    "y_pred = log.predict(x_test)\n",
    "y_pred"
   ]
  },
  {
   "cell_type": "markdown",
   "metadata": {},
   "source": [
    "### accuracy score and confusion matrix"
   ]
  },
  {
   "cell_type": "code",
   "execution_count": 38,
   "metadata": {},
   "outputs": [
    {
     "data": {
      "text/plain": [
       "0.8809523809523809"
      ]
     },
     "execution_count": 38,
     "metadata": {},
     "output_type": "execute_result"
    }
   ],
   "source": [
    "from sklearn.metrics import accuracy_score,confusion_matrix\n",
    "log_as = accuracy_score(y_test,y_pred)\n",
    "log_as"
   ]
  },
  {
   "cell_type": "code",
   "execution_count": 39,
   "metadata": {},
   "outputs": [
    {
     "data": {
      "text/plain": [
       "array([[239,   6],\n",
       "       [ 29,  20]], dtype=int64)"
      ]
     },
     "execution_count": 39,
     "metadata": {},
     "output_type": "execute_result"
    }
   ],
   "source": [
    "cm = confusion_matrix(y_test,y_pred)\n",
    "cm"
   ]
  },
  {
   "cell_type": "code",
   "execution_count": 40,
   "metadata": {},
   "outputs": [
    {
     "data": {
      "text/plain": [
       "<AxesSubplot:>"
      ]
     },
     "execution_count": 40,
     "metadata": {},
     "output_type": "execute_result"
    },
    {
     "data": {
      "image/png": "[encoded data removed]",
      "text/plain": [
       "<Figure size 432x288 with 2 Axes>"
      ]
     },
     "metadata": {
      "needs_background": "light"
     },
     "output_type": "display_data"
    }
   ],
   "source": [
    "import seaborn as sns\n",
    "sns.heatmap(cm,annot=True,fmt='.1f')"
   ]
  },
  {
   "cell_type": "markdown",
   "metadata": {},
   "source": [
    "### Classification_report"
   ]
  },
  {
   "cell_type": "code",
   "execution_count": 41,
   "metadata": {},
   "outputs": [
    {
     "name": "stdout",
     "output_type": "stream",
     "text": [
      "              precision    recall  f1-score   support\n",
      "\n",
      "           0       0.89      0.98      0.93       245\n",
      "           1       0.77      0.41      0.53        49\n",
      "\n",
      "    accuracy                           0.88       294\n",
      "   macro avg       0.83      0.69      0.73       294\n",
      "weighted avg       0.87      0.88      0.87       294\n",
      "\n"
     ]
    }
   ],
   "source": [
    "from sklearn.metrics import classification_report\n",
    "print(classification_report(y_test,y_pred))"
   ]
  },
  {
   "cell_type": "markdown",
   "metadata": {},
   "source": [
    "### Decision Tree Classification "
   ]
  },
  {
   "cell_type": "code",
   "execution_count": 42,
   "metadata": {},
   "outputs": [
    {
     "data": {
      "text/plain": [
       "DecisionTreeClassifier()"
      ]
     },
     "execution_count": 42,
     "metadata": {},
     "output_type": "execute_result"
    }
   ],
   "source": [
    "from sklearn.tree import DecisionTreeClassifier\n",
    "dc = DecisionTreeClassifier()\n",
    "dc.fit(x_train,y_train)"
   ]
  },
  {
   "cell_type": "code",
   "execution_count": 43,
   "metadata": {},
   "outputs": [],
   "source": [
    "y_dc_pred = dc.predict(x_test)"
   ]
  },
  {
   "cell_type": "code",
   "execution_count": 44,
   "metadata": {},
   "outputs": [
    {
     "data": {
      "text/plain": [
       "0.7448979591836735"
      ]
     },
     "execution_count": 44,
     "metadata": {},
     "output_type": "execute_result"
    }
   ],
   "source": [
    "from sklearn.metrics import accuracy_score,confusion_matrix\n",
    "dc_as = accuracy_score(y_test,y_dc_pred)\n",
    "dc_as"
   ]
  },
  {
   "cell_type": "code",
   "execution_count": 45,
   "metadata": {},
   "outputs": [
    {
     "data": {
      "text/plain": [
       "array([[205,  40],\n",
       "       [ 35,  14]], dtype=int64)"
      ]
     },
     "execution_count": 45,
     "metadata": {},
     "output_type": "execute_result"
    }
   ],
   "source": [
    "cm_dc = confusion_matrix(y_test,y_dc_pred)\n",
    "cm_dc"
   ]
  },
  {
   "cell_type": "code",
   "execution_count": 46,
   "metadata": {},
   "outputs": [
    {
     "data": {
      "text/plain": [
       "<AxesSubplot:>"
      ]
     },
     "execution_count": 46,
     "metadata": {},
     "output_type": "execute_result"
    },
    {
     "data": {
      "image/png": "[encoded data removed]",
      "text/plain": [
       "<Figure size 432x288 with 2 Axes>"
      ]
     },
     "metadata": {
      "needs_background": "light"
     },
     "output_type": "display_data"
    }
   ],
   "source": [
    "import seaborn as sns\n",
    "sns.heatmap(cm_dc,annot=True,fmt='.1f')"
   ]
  },
  {
   "cell_type": "markdown",
   "metadata": {},
   "source": [
    "### Classification_report"
   ]
  },
  {
   "cell_type": "code",
   "execution_count": 47,
   "metadata": {},
   "outputs": [
    {
     "name": "stdout",
     "output_type": "stream",
     "text": [
      "              precision    recall  f1-score   support\n",
      "\n",
      "           0       0.85      0.84      0.85       245\n",
      "           1       0.26      0.29      0.27        49\n",
      "\n",
      "    accuracy                           0.74       294\n",
      "   macro avg       0.56      0.56      0.56       294\n",
      "weighted avg       0.76      0.74      0.75       294\n",
      "\n"
     ]
    }
   ],
   "source": [
    "from sklearn.metrics import classification_report\n",
    "print(classification_report(y_test,y_dc_pred))"
   ]
  },
  {
   "cell_type": "markdown",
   "metadata": {},
   "source": [
    "### Random Forest Classification"
   ]
  },
  {
   "cell_type": "code",
   "execution_count": 48,
   "metadata": {},
   "outputs": [
    {
     "data": {
      "text/plain": [
       "RandomForestClassifier(n_estimators=120)"
      ]
     },
     "execution_count": 48,
     "metadata": {},
     "output_type": "execute_result"
    }
   ],
   "source": [
    "from sklearn.ensemble import RandomForestClassifier\n",
    "rf = RandomForestClassifier(n_estimators=120)\n",
    "\n",
    "rf.fit(x_train,y_train)"
   ]
  },
  {
   "cell_type": "code",
   "execution_count": 49,
   "metadata": {},
   "outputs": [],
   "source": [
    "y_rf_pred=rf.predict(x_test)"
   ]
  },
  {
   "cell_type": "code",
   "execution_count": 50,
   "metadata": {},
   "outputs": [
    {
     "data": {
      "text/plain": [
       "0.8503401360544217"
      ]
     },
     "execution_count": 50,
     "metadata": {},
     "output_type": "execute_result"
    }
   ],
   "source": [
    "from sklearn.metrics import accuracy_score,confusion_matrix\n",
    "rf_as = accuracy_score(y_test,y_rf_pred)\n",
    "rf_as"
   ]
  },
  {
   "cell_type": "code",
   "execution_count": 51,
   "metadata": {},
   "outputs": [
    {
     "data": {
      "text/plain": [
       "array([[244,   1],\n",
       "       [ 43,   6]], dtype=int64)"
      ]
     },
     "execution_count": 51,
     "metadata": {},
     "output_type": "execute_result"
    }
   ],
   "source": [
    "cm_rf = confusion_matrix(y_test,y_rf_pred)\n",
    "cm_rf\n"
   ]
  },
  {
   "cell_type": "code",
   "execution_count": 52,
   "metadata": {},
   "outputs": [
    {
     "data": {
      "text/plain": [
       "<AxesSubplot:>"
      ]
     },
     "execution_count": 52,
     "metadata": {},
     "output_type": "execute_result"
    },
    {
     "data": {
      "image/png": "[encoded data removed]",
      "text/plain": [
       "<Figure size 432x288 with 2 Axes>"
      ]
     },
     "metadata": {
      "needs_background": "light"
     },
     "output_type": "display_data"
    }
   ],
   "source": [
    "import seaborn as sns\n",
    "sns.heatmap(cm_rf,annot=True,fmt='.1f')"
   ]
  },
  {
   "cell_type": "markdown",
   "metadata": {},
   "source": [
    "### Classification_report"
   ]
  },
  {
   "cell_type": "code",
   "execution_count": 53,
   "metadata": {},
   "outputs": [
    {
     "name": "stdout",
     "output_type": "stream",
     "text": [
      "              precision    recall  f1-score   support\n",
      "\n",
      "           0       0.85      1.00      0.92       245\n",
      "           1       0.86      0.12      0.21        49\n",
      "\n",
      "    accuracy                           0.85       294\n",
      "   macro avg       0.85      0.56      0.57       294\n",
      "weighted avg       0.85      0.85      0.80       294\n",
      "\n"
     ]
    }
   ],
   "source": [
    "from sklearn.metrics import classification_report\n",
    "print(classification_report(y_test,y_rf_pred))"
   ]
  },
  {
   "cell_type": "markdown",
   "metadata": {},
   "source": [
    "### ExtratreeClassification"
   ]
  },
  {
   "cell_type": "code",
   "execution_count": 54,
   "metadata": {},
   "outputs": [
    {
     "data": {
      "text/plain": [
       "ExtraTreesClassifier(n_estimators=60)"
      ]
     },
     "execution_count": 54,
     "metadata": {},
     "output_type": "execute_result"
    }
   ],
   "source": [
    "from sklearn.ensemble import ExtraTreesClassifier\n",
    "et = ExtraTreesClassifier(n_estimators=60)\n",
    "et.fit(x_train,y_train)"
   ]
  },
  {
   "cell_type": "code",
   "execution_count": 55,
   "metadata": {},
   "outputs": [],
   "source": [
    "y_et_pred = et.predict(x_test)"
   ]
  },
  {
   "cell_type": "code",
   "execution_count": 56,
   "metadata": {},
   "outputs": [
    {
     "data": {
      "text/plain": [
       "0.8639455782312925"
      ]
     },
     "execution_count": 56,
     "metadata": {},
     "output_type": "execute_result"
    }
   ],
   "source": [
    "from sklearn.metrics import accuracy_score,confusion_matrix\n",
    "et_as = accuracy_score(y_test,y_et_pred)\n",
    "et_as"
   ]
  },
  {
   "cell_type": "code",
   "execution_count": 57,
   "metadata": {},
   "outputs": [
    {
     "data": {
      "text/plain": [
       "array([[243,   2],\n",
       "       [ 38,  11]], dtype=int64)"
      ]
     },
     "execution_count": 57,
     "metadata": {},
     "output_type": "execute_result"
    }
   ],
   "source": [
    "cm_et = confusion_matrix(y_test,y_et_pred)\n",
    "cm_et"
   ]
  },
  {
   "cell_type": "code",
   "execution_count": 58,
   "metadata": {},
   "outputs": [
    {
     "data": {
      "text/plain": [
       "<AxesSubplot:>"
      ]
     },
     "execution_count": 58,
     "metadata": {},
     "output_type": "execute_result"
    },
    {
     "data": {
      "image/png": "[encoded data removed]",
      "text/plain": [
       "<Figure size 432x288 with 2 Axes>"
      ]
     },
     "metadata": {
      "needs_background": "light"
     },
     "output_type": "display_data"
    }
   ],
   "source": [
    "import seaborn as sns\n",
    "sns.heatmap(cm_et,annot=True,fmt='.1f')"
   ]
  },
  {
   "cell_type": "markdown",
   "metadata": {},
   "source": [
    "### Classification_report"
   ]
  },
  {
   "cell_type": "code",
   "execution_count": 59,
   "metadata": {},
   "outputs": [
    {
     "name": "stdout",
     "output_type": "stream",
     "text": [
      "              precision    recall  f1-score   support\n",
      "\n",
      "           0       0.86      0.99      0.92       245\n",
      "           1       0.85      0.22      0.35        49\n",
      "\n",
      "    accuracy                           0.86       294\n",
      "   macro avg       0.86      0.61      0.64       294\n",
      "weighted avg       0.86      0.86      0.83       294\n",
      "\n"
     ]
    }
   ],
   "source": [
    "from sklearn.metrics import classification_report\n",
    "print(classification_report(y_test,y_et_pred))"
   ]
  },
  {
   "cell_type": "markdown",
   "metadata": {},
   "source": [
    "### SVM using Hyperparameter tuning"
   ]
  },
  {
   "cell_type": "code",
   "execution_count": 60,
   "metadata": {},
   "outputs": [],
   "source": [
    "from sklearn.svm import SVC\n",
    "from sklearn.model_selection import GridSearchCV\n"
   ]
  },
  {
   "cell_type": "code",
   "execution_count": 61,
   "metadata": {},
   "outputs": [
    {
     "data": {
      "text/plain": [
       "GridSearchCV(cv=5, estimator=SVC(),\n",
       "             param_grid={'C': [0.001, 0.01, 0.1, 1, 10],\n",
       "                         'degree': [1, 2, 3, 4, 5, 6, 7],\n",
       "                         'gamma': [0.001, 0.1, 1, 2, 5, 10, 100],\n",
       "                         'kernel': ['linear', 'poly', 'rbf']},\n",
       "             scoring='accuracy')"
      ]
     },
     "execution_count": 61,
     "metadata": {},
     "output_type": "execute_result"
    }
   ],
   "source": [
    "# create svm object\n",
    "svm = SVC()\n",
    "\n",
    "parameters = {\"kernel\":['linear', 'poly', 'rbf'], \n",
    "             'C':[0.001,0.01,0.1,1,10],\n",
    "             'degree':[1,2,3,4,5,6,7], \n",
    "             'gamma':[0.001,0.1,1,2,5,10,100]}\n",
    "\n",
    "gs = GridSearchCV(svm, parameters, cv=5, scoring='accuracy')\n",
    "gs.fit(x_train,y_train)"
   ]
  },
  {
   "cell_type": "code",
   "execution_count": 62,
   "metadata": {},
   "outputs": [
    {
     "data": {
      "text/plain": [
       "{'C': 0.01, 'degree': 1, 'gamma': 100, 'kernel': 'poly'}"
      ]
     },
     "execution_count": 62,
     "metadata": {},
     "output_type": "execute_result"
    }
   ],
   "source": [
    "gs.best_params_"
   ]
  },
  {
   "cell_type": "code",
   "execution_count": 63,
   "metadata": {},
   "outputs": [],
   "source": [
    "svc = SVC(kernel = 'poly', C = 0.01, degree = 1, gamma = 100)"
   ]
  },
  {
   "cell_type": "code",
   "execution_count": 64,
   "metadata": {},
   "outputs": [
    {
     "data": {
      "text/plain": [
       "SVC(C=0.01, degree=1, gamma=100, kernel='poly')"
      ]
     },
     "execution_count": 64,
     "metadata": {},
     "output_type": "execute_result"
    }
   ],
   "source": [
    "svc.fit(x_train,y_train)"
   ]
  },
  {
   "cell_type": "code",
   "execution_count": 65,
   "metadata": {},
   "outputs": [
    {
     "data": {
      "text/plain": [
       "0.891156462585034"
      ]
     },
     "execution_count": 65,
     "metadata": {},
     "output_type": "execute_result"
    }
   ],
   "source": [
    "y_svc_pred = svc.predict(x_test)\n",
    "asvm = accuracy_score(y_svc_pred, y_test)\n",
    "asvm"
   ]
  },
  {
   "cell_type": "code",
   "execution_count": 66,
   "metadata": {},
   "outputs": [
    {
     "data": {
      "text/plain": [
       "array([[242,   3],\n",
       "       [ 29,  20]], dtype=int64)"
      ]
     },
     "execution_count": 66,
     "metadata": {},
     "output_type": "execute_result"
    }
   ],
   "source": [
    "cm_svc = confusion_matrix(y_test,y_svc_pred)\n",
    "cm_svc"
   ]
  },
  {
   "cell_type": "code",
   "execution_count": 67,
   "metadata": {},
   "outputs": [
    {
     "data": {
      "text/plain": [
       "<AxesSubplot:>"
      ]
     },
     "execution_count": 67,
     "metadata": {},
     "output_type": "execute_result"
    },
    {
     "data": {
      "image/png": "[encoded data removed]",
      "text/plain": [
       "<Figure size 432x288 with 2 Axes>"
      ]
     },
     "metadata": {
      "needs_background": "light"
     },
     "output_type": "display_data"
    }
   ],
   "source": [
    "import seaborn as sns\n",
    "sns.heatmap(cm_svc,annot=True,fmt='.1f')"
   ]
  },
  {
   "cell_type": "markdown",
   "metadata": {},
   "source": [
    "### Classification_report"
   ]
  },
  {
   "cell_type": "code",
   "execution_count": 68,
   "metadata": {},
   "outputs": [
    {
     "name": "stdout",
     "output_type": "stream",
     "text": [
      "              precision    recall  f1-score   support\n",
      "\n",
      "           0       0.89      0.99      0.94       245\n",
      "           1       0.87      0.41      0.56        49\n",
      "\n",
      "    accuracy                           0.89       294\n",
      "   macro avg       0.88      0.70      0.75       294\n",
      "weighted avg       0.89      0.89      0.87       294\n",
      "\n"
     ]
    }
   ],
   "source": [
    "from sklearn.metrics import classification_report\n",
    "print(classification_report(y_test,y_svc_pred))"
   ]
  },
  {
   "cell_type": "markdown",
   "metadata": {},
   "source": [
    "### K-Nearest Neighbors "
   ]
  },
  {
   "cell_type": "code",
   "execution_count": 69,
   "metadata": {},
   "outputs": [
    {
     "data": {
      "text/plain": [
       "KNeighborsClassifier()"
      ]
     },
     "execution_count": 69,
     "metadata": {},
     "output_type": "execute_result"
    }
   ],
   "source": [
    "from sklearn.neighbors import KNeighborsClassifier\n",
    "\n",
    "knn = KNeighborsClassifier()\n",
    "\n",
    "knn.fit(x_train,y_train)"
   ]
  },
  {
   "cell_type": "code",
   "execution_count": 70,
   "metadata": {},
   "outputs": [
    {
     "data": {
      "text/plain": [
       "0.8503401360544217"
      ]
     },
     "execution_count": 70,
     "metadata": {},
     "output_type": "execute_result"
    }
   ],
   "source": [
    "y_knn_pred = knn.predict(x_test)\n",
    "\n",
    "aknn = accuracy_score(y_knn_pred, y_test)\n",
    "aknn"
   ]
  },
  {
   "cell_type": "code",
   "execution_count": 71,
   "metadata": {},
   "outputs": [
    {
     "data": {
      "text/plain": [
       "array([[241,   4],\n",
       "       [ 40,   9]], dtype=int64)"
      ]
     },
     "execution_count": 71,
     "metadata": {},
     "output_type": "execute_result"
    }
   ],
   "source": [
    "cm_knn = confusion_matrix(y_test,y_knn_pred)\n",
    "cm_knn"
   ]
  },
  {
   "cell_type": "code",
   "execution_count": 72,
   "metadata": {},
   "outputs": [
    {
     "data": {
      "text/plain": [
       "<AxesSubplot:>"
      ]
     },
     "execution_count": 72,
     "metadata": {},
     "output_type": "execute_result"
    },
    {
     "data": {
      "image/png": "[encoded data removed]",
      "text/plain": [
       "<Figure size 432x288 with 2 Axes>"
      ]
     },
     "metadata": {
      "needs_background": "light"
     },
     "output_type": "display_data"
    }
   ],
   "source": [
    "import seaborn as sns\n",
    "sns.heatmap(cm_knn,annot=True,fmt='.1f')"
   ]
  },
  {
   "cell_type": "markdown",
   "metadata": {},
   "source": [
    "### Classification_report"
   ]
  },
  {
   "cell_type": "code",
   "execution_count": 73,
   "metadata": {},
   "outputs": [
    {
     "name": "stdout",
     "output_type": "stream",
     "text": [
      "              precision    recall  f1-score   support\n",
      "\n",
      "           0       0.86      0.98      0.92       245\n",
      "           1       0.69      0.18      0.29        49\n",
      "\n",
      "    accuracy                           0.85       294\n",
      "   macro avg       0.77      0.58      0.60       294\n",
      "weighted avg       0.83      0.85      0.81       294\n",
      "\n"
     ]
    }
   ],
   "source": [
    "from sklearn.metrics import classification_report\n",
    "print(classification_report(y_test,y_knn_pred))"
   ]
  },
  {
   "cell_type": "code",
   "execution_count": 74,
   "metadata": {},
   "outputs": [
    {
     "data": {
      "text/html": [
       "<div>\n",
       "<style scoped>\n",
       "    .dataframe tbody tr th:only-of-type {\n",
       "        vertical-align: middle;\n",
       "    }\n",
       "\n",
       "    .dataframe tbody tr th {\n",
       "        vertical-align: top;\n",
       "    }\n",
       "\n",
       "    .dataframe thead th {\n",
       "        text-align: right;\n",
       "    }\n",
       "</style>\n",
       "<table border=\"1\" class=\"dataframe\">\n",
       "  <thead>\n",
       "    <tr style=\"text-align: right;\">\n",
       "      <th></th>\n",
       "      <th>model</th>\n",
       "      <th>accuracy_score</th>\n",
       "    </tr>\n",
       "  </thead>\n",
       "  <tbody>\n",
       "    <tr>\n",
       "      <th>0</th>\n",
       "      <td>Logistic regression</td>\n",
       "      <td>0.880952</td>\n",
       "    </tr>\n",
       "    <tr>\n",
       "      <th>1</th>\n",
       "      <td>Decision Tree Classification</td>\n",
       "      <td>0.744898</td>\n",
       "    </tr>\n",
       "    <tr>\n",
       "      <th>2</th>\n",
       "      <td>Random Forest Classification</td>\n",
       "      <td>0.850340</td>\n",
       "    </tr>\n",
       "    <tr>\n",
       "      <th>3</th>\n",
       "      <td>Extra Tree Classification</td>\n",
       "      <td>0.863946</td>\n",
       "    </tr>\n",
       "    <tr>\n",
       "      <th>4</th>\n",
       "      <td>Support Vector Classification</td>\n",
       "      <td>0.891156</td>\n",
       "    </tr>\n",
       "    <tr>\n",
       "      <th>5</th>\n",
       "      <td>K-Nearest Neighbors Classification</td>\n",
       "      <td>0.850340</td>\n",
       "    </tr>\n",
       "  </tbody>\n",
       "</table>\n",
       "</div>"
      ],
      "text/plain": [
       "                                model  accuracy_score\n",
       "0                 Logistic regression        0.880952\n",
       "1        Decision Tree Classification        0.744898\n",
       "2        Random Forest Classification        0.850340\n",
       "3           Extra Tree Classification        0.863946\n",
       "4       Support Vector Classification        0.891156\n",
       "5  K-Nearest Neighbors Classification        0.850340"
      ]
     },
     "execution_count": 74,
     "metadata": {},
     "output_type": "execute_result"
    }
   ],
   "source": [
    "pd.DataFrame({'model':['Logistic regression','Decision Tree Classification','Random Forest Classification','Extra Tree Classification','Support Vector Classification','K-Nearest Neighbors Classification'],\n",
    "             'accuracy_score':[log_as,dc_as,rf_as,et_as,asvm,aknn]})"
   ]
  },
  {
   "cell_type": "markdown",
   "metadata": {},
   "source": [
    "## compare to all classification algorithms support vector classification and logistic regression is best"
   ]
  },
  {
   "cell_type": "markdown",
   "metadata": {},
   "source": [
    "### lets try to Deep Learning ANN"
   ]
  },
  {
   "cell_type": "markdown",
   "metadata": {},
   "source": [
    "### we have x_train,y_train values "
   ]
  },
  {
   "cell_type": "markdown",
   "metadata": {},
   "source": [
    "### working in ANN"
   ]
  },
  {
   "cell_type": "code",
   "execution_count": 75,
   "metadata": {},
   "outputs": [],
   "source": [
    "# importing tensorflow\n",
    "import tensorflow as tf\n",
    "# its defaulty keras imported"
   ]
  },
  {
   "cell_type": "code",
   "execution_count": 76,
   "metadata": {},
   "outputs": [
    {
     "name": "stdout",
     "output_type": "stream",
     "text": [
      "Epoch 1/50\n",
      "24/24 [==============================] - 1s 3ms/step - loss: 0.4832 - accuracy: 0.7934\n",
      "Epoch 2/50\n",
      "24/24 [==============================] - 0s 3ms/step - loss: 0.3922 - accuracy: 0.8401\n",
      "Epoch 3/50\n",
      "24/24 [==============================] - 0s 3ms/step - loss: 0.3602 - accuracy: 0.8520\n",
      "Epoch 4/50\n",
      "24/24 [==============================] - 0s 3ms/step - loss: 0.3400 - accuracy: 0.8656\n",
      "Epoch 5/50\n",
      "24/24 [==============================] - 0s 2ms/step - loss: 0.3171 - accuracy: 0.8776\n",
      "Epoch 6/50\n",
      "24/24 [==============================] - 0s 2ms/step - loss: 0.2972 - accuracy: 0.8912\n",
      "Epoch 7/50\n",
      "24/24 [==============================] - 0s 3ms/step - loss: 0.2839 - accuracy: 0.8920\n",
      "Epoch 8/50\n",
      "24/24 [==============================] - 0s 2ms/step - loss: 0.2674 - accuracy: 0.8980\n",
      "Epoch 9/50\n",
      "24/24 [==============================] - 0s 1ms/step - loss: 0.2562 - accuracy: 0.9073\n",
      "Epoch 10/50\n",
      "24/24 [==============================] - 0s 2ms/step - loss: 0.2382 - accuracy: 0.9124\n",
      "Epoch 11/50\n",
      "24/24 [==============================] - 0s 2ms/step - loss: 0.2264 - accuracy: 0.9141\n",
      "Epoch 12/50\n",
      "24/24 [==============================] - 0s 2ms/step - loss: 0.2265 - accuracy: 0.9141\n",
      "Epoch 13/50\n",
      "24/24 [==============================] - 0s 2ms/step - loss: 0.1957 - accuracy: 0.9320\n",
      "Epoch 14/50\n",
      "24/24 [==============================] - 0s 2ms/step - loss: 0.1834 - accuracy: 0.9371\n",
      "Epoch 15/50\n",
      "24/24 [==============================] - 0s 2ms/step - loss: 0.1804 - accuracy: 0.9328\n",
      "Epoch 16/50\n",
      "24/24 [==============================] - 0s 2ms/step - loss: 0.1559 - accuracy: 0.9481\n",
      "Epoch 17/50\n",
      "24/24 [==============================] - 0s 2ms/step - loss: 0.1452 - accuracy: 0.9532\n",
      "Epoch 18/50\n",
      "24/24 [==============================] - 0s 2ms/step - loss: 0.1314 - accuracy: 0.9524\n",
      "Epoch 19/50\n",
      "24/24 [==============================] - 0s 2ms/step - loss: 0.1196 - accuracy: 0.9617\n",
      "Epoch 20/50\n",
      "24/24 [==============================] - 0s 2ms/step - loss: 0.1035 - accuracy: 0.9711\n",
      "Epoch 21/50\n",
      "24/24 [==============================] - 0s 2ms/step - loss: 0.0980 - accuracy: 0.9711\n",
      "Epoch 22/50\n",
      "24/24 [==============================] - 0s 2ms/step - loss: 0.0849 - accuracy: 0.9745\n",
      "Epoch 23/50\n",
      "24/24 [==============================] - 0s 2ms/step - loss: 0.0775 - accuracy: 0.9770\n",
      "Epoch 24/50\n",
      "24/24 [==============================] - 0s 2ms/step - loss: 0.0708 - accuracy: 0.9830\n",
      "Epoch 25/50\n",
      "24/24 [==============================] - 0s 1ms/step - loss: 0.0601 - accuracy: 0.9838\n",
      "Epoch 26/50\n",
      "24/24 [==============================] - 0s 2ms/step - loss: 0.0501 - accuracy: 0.9889\n",
      "Epoch 27/50\n",
      "24/24 [==============================] - 0s 2ms/step - loss: 0.0490 - accuracy: 0.9855\n",
      "Epoch 28/50\n",
      "24/24 [==============================] - 0s 2ms/step - loss: 0.0417 - accuracy: 0.9949\n",
      "Epoch 29/50\n",
      "24/24 [==============================] - 0s 2ms/step - loss: 0.0344 - accuracy: 0.9940\n",
      "Epoch 30/50\n",
      "24/24 [==============================] - 0s 2ms/step - loss: 0.0275 - accuracy: 0.9974\n",
      "Epoch 31/50\n",
      "24/24 [==============================] - 0s 2ms/step - loss: 0.0277 - accuracy: 0.9957\n",
      "Epoch 32/50\n",
      "24/24 [==============================] - 0s 2ms/step - loss: 0.0229 - accuracy: 0.9983\n",
      "Epoch 33/50\n",
      "24/24 [==============================] - 0s 2ms/step - loss: 0.0192 - accuracy: 0.9974\n",
      "Epoch 34/50\n",
      "24/24 [==============================] - 0s 2ms/step - loss: 0.0169 - accuracy: 0.9983\n",
      "Epoch 35/50\n",
      "24/24 [==============================] - 0s 2ms/step - loss: 0.0140 - accuracy: 0.9983\n",
      "Epoch 36/50\n",
      "24/24 [==============================] - 0s 2ms/step - loss: 0.0116 - accuracy: 1.0000\n",
      "Epoch 37/50\n",
      "24/24 [==============================] - 0s 2ms/step - loss: 0.0105 - accuracy: 1.0000\n",
      "Epoch 38/50\n",
      "24/24 [==============================] - 0s 2ms/step - loss: 0.0107 - accuracy: 0.9991\n",
      "Epoch 39/50\n",
      "24/24 [==============================] - 0s 2ms/step - loss: 0.0112 - accuracy: 0.9991\n",
      "Epoch 40/50\n",
      "24/24 [==============================] - 0s 2ms/step - loss: 0.0086 - accuracy: 1.0000\n",
      "Epoch 41/50\n",
      "24/24 [==============================] - 0s 3ms/step - loss: 0.0069 - accuracy: 1.0000\n",
      "Epoch 42/50\n",
      "24/24 [==============================] - 0s 2ms/step - loss: 0.0060 - accuracy: 1.0000\n",
      "Epoch 43/50\n",
      "24/24 [==============================] - 0s 3ms/step - loss: 0.0049 - accuracy: 1.0000\n",
      "Epoch 44/50\n",
      "24/24 [==============================] - 0s 2ms/step - loss: 0.0045 - accuracy: 1.0000\n",
      "Epoch 45/50\n",
      "24/24 [==============================] - 0s 2ms/step - loss: 0.0043 - accuracy: 1.0000\n",
      "Epoch 46/50\n",
      "24/24 [==============================] - 0s 2ms/step - loss: 0.0038 - accuracy: 1.0000\n",
      "Epoch 47/50\n",
      "24/24 [==============================] - 0s 2ms/step - loss: 0.0036 - accuracy: 1.0000\n",
      "Epoch 48/50\n",
      "24/24 [==============================] - 0s 2ms/step - loss: 0.0032 - accuracy: 1.0000\n",
      "Epoch 49/50\n",
      "24/24 [==============================] - 0s 2ms/step - loss: 0.0030 - accuracy: 1.0000\n",
      "Epoch 50/50\n",
      "24/24 [==============================] - 0s 2ms/step - loss: 0.0029 - accuracy: 1.0000\n"
     ]
    },
    {
     "data": {
      "text/plain": [
       "<tensorflow.python.keras.callbacks.History at 0x2539b272df0>"
      ]
     },
     "execution_count": 76,
     "metadata": {},
     "output_type": "execute_result"
    }
   ],
   "source": [
    "# step-1 sequential of all steps\n",
    "ann = tf.keras.models.Sequential()\n",
    "\n",
    "# step-2 adding the input and first layer by using add\n",
    "ann.add(tf.keras.layers.Dense(units=200,activation = 'relu'))\n",
    "\n",
    "# step-3 add one more hidden layer\n",
    "ann.add(tf.keras.layers.Dense(units=200, activation='relu'))\n",
    "\n",
    "# step-4 add output layer\n",
    "ann.add(tf.keras.layers.Dense(units=1,activation='sigmoid'))\n",
    "\n",
    "# step-4 compile the optimizer and loss (stochastic gradient desent)\n",
    "\n",
    "ann.compile(optimizer='adam', loss = 'binary_crossentropy',metrics = ['accuracy'])\n",
    "\n",
    "# stpe-5 fitting and back propagation to the incresing accuracy score dicresing the loss\n",
    "\n",
    "ann.fit(x_train,y_train,batch_size = 50, epochs = 50)\n"
   ]
  },
  {
   "cell_type": "code",
   "execution_count": 77,
   "metadata": {},
   "outputs": [],
   "source": [
    "x_train.shape\n",
    "y_ann_pred = ann.predict(x_test)\n",
    "y_ann_pred = y_pred>0.5"
   ]
  },
  {
   "cell_type": "code",
   "execution_count": 78,
   "metadata": {},
   "outputs": [
    {
     "data": {
      "text/plain": [
       "0.8809523809523809"
      ]
     },
     "execution_count": 78,
     "metadata": {},
     "output_type": "execute_result"
    }
   ],
   "source": [
    "accuracy_score(y_test,y_ann_pred)"
   ]
  },
  {
   "cell_type": "code",
   "execution_count": 79,
   "metadata": {},
   "outputs": [
    {
     "data": {
      "text/plain": [
       "array([[239,   6],\n",
       "       [ 29,  20]], dtype=int64)"
      ]
     },
     "execution_count": 79,
     "metadata": {},
     "output_type": "execute_result"
    }
   ],
   "source": [
    "cm = confusion_matrix(y_test, y_ann_pred)\n",
    "cm"
   ]
  },
  {
   "cell_type": "markdown",
   "metadata": {},
   "source": []
  },
  {
   "cell_type": "code",
   "execution_count": 80,
   "metadata": {},
   "outputs": [
    {
     "data": {
      "text/plain": [
       "<AxesSubplot:>"
      ]
     },
     "execution_count": 80,
     "metadata": {},
     "output_type": "execute_result"
    },
    {
     "data": {
      "image/png": "[encoded data removed]",
      "text/plain": [
       "<Figure size 432x288 with 2 Axes>"
      ]
     },
     "metadata": {
      "needs_background": "light"
     },
     "output_type": "display_data"
    }
   ],
   "source": [
    "import seaborn as sns\n",
    "sns.heatmap(cm, annot=True, fmt ='.0f' )"
   ]
  },
  {
   "cell_type": "code",
   "execution_count": null,
   "metadata": {},
   "outputs": [],
   "source": []
  }
 ],
 "metadata": {
  "kernelspec": {
   "display_name": "Python 3",
   "language": "python",
   "name": "python3"
  },
  "language_info": {
   "codemirror_mode": {
    "name": "ipython",
    "version": 3
   },
   "file_extension": ".py",
   "mimetype": "text/x-python",
   "name": "python",
   "nbconvert_exporter": "python",
   "pygments_lexer": "ipython3",
   "version": "3.8.5"
  }
 },
 "nbformat": 4,
 "nbformat_minor": 4
}
